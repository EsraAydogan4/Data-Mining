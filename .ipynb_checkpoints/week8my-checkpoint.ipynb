{
 "cells": [
  {
   "cell_type": "code",
   "execution_count": 13,
   "id": "ef9bd829-bacf-41e3-ba9d-d4beb7727619",
   "metadata": {},
   "outputs": [],
   "source": [
    "import pandas as pd\n",
    "import random as rd\n",
    "import matplotlib.pyplot as plt\n",
    "import seaborn as sns\n",
    "import plotly.express as px\n",
    "import numpy as np"
   ]
  },
  {
   "cell_type": "code",
   "execution_count": 2,
   "id": "e3492193-2b28-4e75-91cb-8a97e5a6c670",
   "metadata": {},
   "outputs": [
    {
     "data": {
      "text/html": [
       "<div>\n",
       "<style scoped>\n",
       "    .dataframe tbody tr th:only-of-type {\n",
       "        vertical-align: middle;\n",
       "    }\n",
       "\n",
       "    .dataframe tbody tr th {\n",
       "        vertical-align: top;\n",
       "    }\n",
       "\n",
       "    .dataframe thead th {\n",
       "        text-align: right;\n",
       "    }\n",
       "</style>\n",
       "<table border=\"1\" class=\"dataframe\">\n",
       "  <thead>\n",
       "    <tr style=\"text-align: right;\">\n",
       "      <th></th>\n",
       "      <th>ID</th>\n",
       "      <th>sex</th>\n",
       "      <th>age</th>\n",
       "      <th>surgery</th>\n",
       "      <th>heart rate</th>\n",
       "      <th>temperature</th>\n",
       "      <th>bilirubin</th>\n",
       "      <th>SAPS II</th>\n",
       "      <th>liver failure</th>\n",
       "      <th>LOS</th>\n",
       "      <th>outcome</th>\n",
       "    </tr>\n",
       "  </thead>\n",
       "  <tbody>\n",
       "    <tr>\n",
       "      <th>0</th>\n",
       "      <td>1</td>\n",
       "      <td>female</td>\n",
       "      <td>76</td>\n",
       "      <td>other</td>\n",
       "      <td>98.0</td>\n",
       "      <td>36.5</td>\n",
       "      <td>6.512142</td>\n",
       "      <td>57</td>\n",
       "      <td>0</td>\n",
       "      <td>1</td>\n",
       "      <td>died</td>\n",
       "    </tr>\n",
       "    <tr>\n",
       "      <th>1</th>\n",
       "      <td>2</td>\n",
       "      <td>female</td>\n",
       "      <td>60</td>\n",
       "      <td>gastrointestinal</td>\n",
       "      <td>80.0</td>\n",
       "      <td>38.1</td>\n",
       "      <td>14.523197</td>\n",
       "      <td>52</td>\n",
       "      <td>0</td>\n",
       "      <td>2</td>\n",
       "      <td>home</td>\n",
       "    </tr>\n",
       "    <tr>\n",
       "      <th>2</th>\n",
       "      <td>3</td>\n",
       "      <td>male</td>\n",
       "      <td>66</td>\n",
       "      <td>cardiothoracic</td>\n",
       "      <td>99.6</td>\n",
       "      <td>37.4</td>\n",
       "      <td>22.972480</td>\n",
       "      <td>57</td>\n",
       "      <td>0</td>\n",
       "      <td>1</td>\n",
       "      <td>secondary care/rehab</td>\n",
       "    </tr>\n",
       "    <tr>\n",
       "      <th>3</th>\n",
       "      <td>4</td>\n",
       "      <td>male</td>\n",
       "      <td>74</td>\n",
       "      <td>other</td>\n",
       "      <td>110.0</td>\n",
       "      <td>39.1</td>\n",
       "      <td>19.299346</td>\n",
       "      <td>45</td>\n",
       "      <td>0</td>\n",
       "      <td>2</td>\n",
       "      <td>home</td>\n",
       "    </tr>\n",
       "    <tr>\n",
       "      <th>4</th>\n",
       "      <td>5</td>\n",
       "      <td>female</td>\n",
       "      <td>68</td>\n",
       "      <td>other</td>\n",
       "      <td>94.1</td>\n",
       "      <td>38.5</td>\n",
       "      <td>39.076485</td>\n",
       "      <td>49</td>\n",
       "      <td>0</td>\n",
       "      <td>1</td>\n",
       "      <td>home</td>\n",
       "    </tr>\n",
       "    <tr>\n",
       "      <th>...</th>\n",
       "      <td>...</td>\n",
       "      <td>...</td>\n",
       "      <td>...</td>\n",
       "      <td>...</td>\n",
       "      <td>...</td>\n",
       "      <td>...</td>\n",
       "      <td>...</td>\n",
       "      <td>...</td>\n",
       "      <td>...</td>\n",
       "      <td>...</td>\n",
       "      <td>...</td>\n",
       "    </tr>\n",
       "    <tr>\n",
       "      <th>495</th>\n",
       "      <td>496</td>\n",
       "      <td>male</td>\n",
       "      <td>62</td>\n",
       "      <td>cardiothoracic</td>\n",
       "      <td>118.0</td>\n",
       "      <td>37.3</td>\n",
       "      <td>13.234537</td>\n",
       "      <td>33</td>\n",
       "      <td>0</td>\n",
       "      <td>1</td>\n",
       "      <td>secondary care/rehab</td>\n",
       "    </tr>\n",
       "    <tr>\n",
       "      <th>496</th>\n",
       "      <td>497</td>\n",
       "      <td>male</td>\n",
       "      <td>67</td>\n",
       "      <td>cardiothoracic</td>\n",
       "      <td>115.0</td>\n",
       "      <td>38.0</td>\n",
       "      <td>10.740772</td>\n",
       "      <td>56</td>\n",
       "      <td>0</td>\n",
       "      <td>1</td>\n",
       "      <td>died</td>\n",
       "    </tr>\n",
       "    <tr>\n",
       "      <th>497</th>\n",
       "      <td>498</td>\n",
       "      <td>female</td>\n",
       "      <td>53</td>\n",
       "      <td>cardiothoracic</td>\n",
       "      <td>131.0</td>\n",
       "      <td>37.9</td>\n",
       "      <td>14.131188</td>\n",
       "      <td>38</td>\n",
       "      <td>0</td>\n",
       "      <td>3</td>\n",
       "      <td>secondary care/rehab</td>\n",
       "    </tr>\n",
       "    <tr>\n",
       "      <th>498</th>\n",
       "      <td>499</td>\n",
       "      <td>male</td>\n",
       "      <td>68</td>\n",
       "      <td>other</td>\n",
       "      <td>86.9</td>\n",
       "      <td>36.0</td>\n",
       "      <td>9.596478</td>\n",
       "      <td>66</td>\n",
       "      <td>0</td>\n",
       "      <td>2</td>\n",
       "      <td>home</td>\n",
       "    </tr>\n",
       "    <tr>\n",
       "      <th>499</th>\n",
       "      <td>500</td>\n",
       "      <td>male</td>\n",
       "      <td>75</td>\n",
       "      <td>cardiothoracic</td>\n",
       "      <td>92.0</td>\n",
       "      <td>37.6</td>\n",
       "      <td>11.660875</td>\n",
       "      <td>25</td>\n",
       "      <td>0</td>\n",
       "      <td>1</td>\n",
       "      <td>secondary care/rehab</td>\n",
       "    </tr>\n",
       "  </tbody>\n",
       "</table>\n",
       "<p>500 rows × 11 columns</p>\n",
       "</div>"
      ],
      "text/plain": [
       "      ID     sex  age           surgery  heart rate  temperature  bilirubin  \\\n",
       "0      1  female   76             other        98.0         36.5   6.512142   \n",
       "1      2  female   60  gastrointestinal        80.0         38.1  14.523197   \n",
       "2      3    male   66    cardiothoracic        99.6         37.4  22.972480   \n",
       "3      4    male   74             other       110.0         39.1  19.299346   \n",
       "4      5  female   68             other        94.1         38.5  39.076485   \n",
       "..   ...     ...  ...               ...         ...          ...        ...   \n",
       "495  496    male   62    cardiothoracic       118.0         37.3  13.234537   \n",
       "496  497    male   67    cardiothoracic       115.0         38.0  10.740772   \n",
       "497  498  female   53    cardiothoracic       131.0         37.9  14.131188   \n",
       "498  499    male   68             other        86.9         36.0   9.596478   \n",
       "499  500    male   75    cardiothoracic        92.0         37.6  11.660875   \n",
       "\n",
       "     SAPS II  liver failure  LOS               outcome  \n",
       "0         57              0    1                  died  \n",
       "1         52              0    2                  home  \n",
       "2         57              0    1  secondary care/rehab  \n",
       "3         45              0    2                  home  \n",
       "4         49              0    1                  home  \n",
       "..       ...            ...  ...                   ...  \n",
       "495       33              0    1  secondary care/rehab  \n",
       "496       56              0    1                  died  \n",
       "497       38              0    3  secondary care/rehab  \n",
       "498       66              0    2                  home  \n",
       "499       25              0    1  secondary care/rehab  \n",
       "\n",
       "[500 rows x 11 columns]"
      ]
     },
     "execution_count": 2,
     "metadata": {},
     "output_type": "execute_result"
    }
   ],
   "source": [
    "icu = pd.read_csv(\"ICUData.csv\")\n",
    "icu\n"
   ]
  },
  {
   "cell_type": "code",
   "execution_count": 3,
   "id": "653c82c0-744f-4f29-8c23-4d473322afda",
   "metadata": {},
   "outputs": [
    {
     "data": {
      "text/html": [
       "<div>\n",
       "<style scoped>\n",
       "    .dataframe tbody tr th:only-of-type {\n",
       "        vertical-align: middle;\n",
       "    }\n",
       "\n",
       "    .dataframe tbody tr th {\n",
       "        vertical-align: top;\n",
       "    }\n",
       "\n",
       "    .dataframe thead th {\n",
       "        text-align: right;\n",
       "    }\n",
       "</style>\n",
       "<table border=\"1\" class=\"dataframe\">\n",
       "  <thead>\n",
       "    <tr style=\"text-align: right;\">\n",
       "      <th>surgery</th>\n",
       "      <th>cardiothoracic</th>\n",
       "      <th>gastrointestinal</th>\n",
       "      <th>neuro</th>\n",
       "      <th>other</th>\n",
       "      <th>trauma</th>\n",
       "    </tr>\n",
       "    <tr>\n",
       "      <th>sex</th>\n",
       "      <th></th>\n",
       "      <th></th>\n",
       "      <th></th>\n",
       "      <th></th>\n",
       "      <th></th>\n",
       "    </tr>\n",
       "  </thead>\n",
       "  <tbody>\n",
       "    <tr>\n",
       "      <th>female</th>\n",
       "      <td>61</td>\n",
       "      <td>31</td>\n",
       "      <td>19</td>\n",
       "      <td>57</td>\n",
       "      <td>7</td>\n",
       "    </tr>\n",
       "    <tr>\n",
       "      <th>male</th>\n",
       "      <td>162</td>\n",
       "      <td>48</td>\n",
       "      <td>27</td>\n",
       "      <td>64</td>\n",
       "      <td>24</td>\n",
       "    </tr>\n",
       "  </tbody>\n",
       "</table>\n",
       "</div>"
      ],
      "text/plain": [
       "surgery  cardiothoracic  gastrointestinal  neuro  other  trauma\n",
       "sex                                                            \n",
       "female               61                31     19     57       7\n",
       "male                162                48     27     64      24"
      ]
     },
     "execution_count": 3,
     "metadata": {},
     "output_type": "execute_result"
    }
   ],
   "source": [
    "pd.crosstab(icu['sex'], icu['surgery'])"
   ]
  },
  {
   "cell_type": "code",
   "execution_count": 4,
   "id": "2d6e95fc-0ddd-45dc-a9c8-83a6ca9bc630",
   "metadata": {},
   "outputs": [
    {
     "data": {
      "text/html": [
       "<div>\n",
       "<style scoped>\n",
       "    .dataframe tbody tr th:only-of-type {\n",
       "        vertical-align: middle;\n",
       "    }\n",
       "\n",
       "    .dataframe tbody tr th {\n",
       "        vertical-align: top;\n",
       "    }\n",
       "\n",
       "    .dataframe thead th {\n",
       "        text-align: right;\n",
       "    }\n",
       "</style>\n",
       "<table border=\"1\" class=\"dataframe\">\n",
       "  <thead>\n",
       "    <tr style=\"text-align: right;\">\n",
       "      <th>surgery</th>\n",
       "      <th>cardiothoracic</th>\n",
       "      <th>gastrointestinal</th>\n",
       "      <th>neuro</th>\n",
       "      <th>other</th>\n",
       "      <th>trauma</th>\n",
       "    </tr>\n",
       "    <tr>\n",
       "      <th>sex</th>\n",
       "      <th></th>\n",
       "      <th></th>\n",
       "      <th></th>\n",
       "      <th></th>\n",
       "      <th></th>\n",
       "    </tr>\n",
       "  </thead>\n",
       "  <tbody>\n",
       "    <tr>\n",
       "      <th>female</th>\n",
       "      <td>0.348571</td>\n",
       "      <td>0.177143</td>\n",
       "      <td>0.108571</td>\n",
       "      <td>0.325714</td>\n",
       "      <td>0.040000</td>\n",
       "    </tr>\n",
       "    <tr>\n",
       "      <th>male</th>\n",
       "      <td>0.498462</td>\n",
       "      <td>0.147692</td>\n",
       "      <td>0.083077</td>\n",
       "      <td>0.196923</td>\n",
       "      <td>0.073846</td>\n",
       "    </tr>\n",
       "  </tbody>\n",
       "</table>\n",
       "</div>"
      ],
      "text/plain": [
       "surgery  cardiothoracic  gastrointestinal     neuro     other    trauma\n",
       "sex                                                                    \n",
       "female         0.348571          0.177143  0.108571  0.325714  0.040000\n",
       "male           0.498462          0.147692  0.083077  0.196923  0.073846"
      ]
     },
     "execution_count": 4,
     "metadata": {},
     "output_type": "execute_result"
    }
   ],
   "source": [
    "pd.crosstab(icu['sex'], icu['surgery'], normalize=\"index\")"
   ]
  },
  {
   "cell_type": "code",
   "execution_count": null,
   "id": "61dc54c8-5775-41b4-bcd1-4565f2d9c8a7",
   "metadata": {},
   "outputs": [],
   "source": [
    "# x^2 testinde sadece ilişkinin gücü ölçülebilir yönü değiştirilemez\n",
    "# iki sözel değer için, 0 ise ilişki bağımsızdır"
   ]
  },
  {
   "cell_type": "code",
   "execution_count": 5,
   "id": "8efb2948-bbc7-42b2-9af1-186ffc233648",
   "metadata": {},
   "outputs": [
    {
     "data": {
      "text/plain": [
       "(17.056556195174373,\n",
       " 0.0018846482532295353,\n",
       " 4,\n",
       " array([[ 78.05,  27.65,  16.1 ,  42.35,  10.85],\n",
       "        [144.95,  51.35,  29.9 ,  78.65,  20.15]]))"
      ]
     },
     "execution_count": 5,
     "metadata": {},
     "output_type": "execute_result"
    }
   ],
   "source": [
    "from scipy.stats import chi2_contingency # crosstab ile önce tablo haline dönüştürebiliriz\n",
    "chi2_contingency(pd.crosstab(icu['sex'], icu['surgery']).values)  #n eleman sayısı"
   ]
  },
  {
   "cell_type": "code",
   "execution_count": 7,
   "id": "4acbb77d-e68c-4a44-b501-2a9231c0e13f",
   "metadata": {},
   "outputs": [
    {
     "data": {
      "text/plain": [
       "0.18162542772960075"
      ]
     },
     "execution_count": 7,
     "metadata": {},
     "output_type": "execute_result"
    }
   ],
   "source": [
    "import math  # verilen ilk formül ile hesaplanması \n",
    "chi2_stat, p_value, _, _ = chi2_contingency(pd.crosstab(icu['sex'], icu['surgery']))\n",
    "contingency_coefficient = math.sqrt(chi2_stat / (chi2_stat + len(icu)))\n",
    "contingency_coefficient"
   ]
  },
  {
   "cell_type": "code",
   "execution_count": 16,
   "id": "b0017315-d081-4a65-b6ef-a34e91815cb9",
   "metadata": {},
   "outputs": [
    {
     "data": {
      "text/plain": [
       "0.1846973535012041"
      ]
     },
     "execution_count": 16,
     "metadata": {},
     "output_type": "execute_result"
    }
   ],
   "source": [
    "data = pd.crosstab(icu['sex'], icu['surgery']).values\n",
    "\n",
    "X2 = chi2_contingency(data, correction=False)[0] \n",
    "N = np.sum(data) \n",
    "minimum_dimension = min(data.shape)-1\n",
    "np.sqrt((X2/N) / minimum_dimension) "
   ]
  },
  {
   "cell_type": "code",
   "execution_count": 23,
   "id": "b0582afd-bd6a-4fa8-baa9-1611cd2c20d0",
   "metadata": {},
   "outputs": [
    {
     "data": {
      "text/plain": [
       "<AxesSubplot:xlabel='surgery'>"
      ]
     },
     "execution_count": 23,
     "metadata": {},
     "output_type": "execute_result"
    },
    {
     "data": {
      "image/png": "[encoded data removed]",
      "text/plain": [
       "<Figure size 432x288 with 1 Axes>"
      ]
     },
     "metadata": {
      "needs_background": "light"
     },
     "output_type": "display_data"
    }
   ],
   "source": [
    "cross_df = pd.crosstab(icu['sex'], icu['surgery'], normalize=\"index\").T\n",
    "cross_df.plot.bar(stacked=True)"
   ]
  },
  {
   "cell_type": "code",
   "execution_count": 27,
   "id": "2c73ed35-2e53-46cb-966a-708834f64980",
   "metadata": {},
   "outputs": [
    {
     "ename": "TypeError",
     "evalue": "DataFrame.rename() got an unexpected keyword argument 'column'",
     "output_type": "error",
     "traceback": [
      "\u001b[0;31m---------------------------------------------------------------------------\u001b[0m",
      "\u001b[0;31mTypeError\u001b[0m                                 Traceback (most recent call last)",
      "\u001b[0;32m/tmp/ipykernel_4692/14185359.py\u001b[0m in \u001b[0;36m<module>\u001b[0;34m\u001b[0m\n\u001b[1;32m      1\u001b[0m \u001b[0mcross_df\u001b[0m \u001b[0;34m=\u001b[0m \u001b[0mpd\u001b[0m\u001b[0;34m.\u001b[0m\u001b[0mcrosstab\u001b[0m\u001b[0;34m(\u001b[0m\u001b[0micu\u001b[0m\u001b[0;34m[\u001b[0m\u001b[0;34m'sex'\u001b[0m\u001b[0;34m]\u001b[0m\u001b[0;34m,\u001b[0m \u001b[0micu\u001b[0m\u001b[0;34m[\u001b[0m\u001b[0;34m'surgery'\u001b[0m\u001b[0;34m]\u001b[0m\u001b[0;34m,\u001b[0m \u001b[0mnormalize\u001b[0m\u001b[0;34m=\u001b[0m\u001b[0;34m\"index\"\u001b[0m\u001b[0;34m)\u001b[0m\u001b[0;34m.\u001b[0m\u001b[0mT\u001b[0m \u001b[0;31m#stack() verilen veriyi kadın erkek diye ayrıştırıyor\u001b[0m\u001b[0;34m\u001b[0m\u001b[0;34m\u001b[0m\u001b[0m\n\u001b[0;32m----> 2\u001b[0;31m \u001b[0mstacked\u001b[0m \u001b[0;34m=\u001b[0m \u001b[0mcross_df\u001b[0m\u001b[0;34m.\u001b[0m\u001b[0mstack\u001b[0m\u001b[0;34m(\u001b[0m\u001b[0;34m)\u001b[0m\u001b[0;34m.\u001b[0m\u001b[0mreset_index\u001b[0m\u001b[0;34m(\u001b[0m\u001b[0;34m)\u001b[0m\u001b[0;34m.\u001b[0m\u001b[0mrename\u001b[0m\u001b[0;34m(\u001b[0m\u001b[0mcolumn\u001b[0m\u001b[0;34m=\u001b[0m\u001b[0;34m{\u001b[0m\u001b[0;36m0\u001b[0m\u001b[0;34m:\u001b[0m\u001b[0;34m'value'\u001b[0m\u001b[0;34m}\u001b[0m\u001b[0;34m)\u001b[0m\u001b[0;31m# reset index ile verileri indexledi 0 diye bir column açtı rename ile bu columna bir isim verdik\u001b[0m\u001b[0;34m\u001b[0m\u001b[0;34m\u001b[0m\u001b[0m\n\u001b[0m\u001b[1;32m      3\u001b[0m \u001b[0msns\u001b[0m\u001b[0;34m.\u001b[0m\u001b[0mbarplot\u001b[0m\u001b[0;34m(\u001b[0m\u001b[0mx\u001b[0m\u001b[0;34m=\u001b[0m\u001b[0mstacked\u001b[0m\u001b[0;34m.\u001b[0m\u001b[0msurgery\u001b[0m\u001b[0;34m,\u001b[0m \u001b[0my\u001b[0m\u001b[0;34m=\u001b[0m\u001b[0mstacked\u001b[0m\u001b[0;34m.\u001b[0m\u001b[0mvalue\u001b[0m\u001b[0;34m,\u001b[0m \u001b[0mhue\u001b[0m\u001b[0;34m=\u001b[0m\u001b[0mstacked\u001b[0m\u001b[0;34m.\u001b[0m\u001b[0msex\u001b[0m\u001b[0;34m)\u001b[0m\u001b[0;34m\u001b[0m\u001b[0;34m\u001b[0m\u001b[0m\n\u001b[1;32m      4\u001b[0m \u001b[0msns\u001b[0m\u001b[0;34m.\u001b[0m\u001b[0mcountplot\u001b[0m\u001b[0;34m(\u001b[0m\u001b[0;34m)\u001b[0m\u001b[0;34m\u001b[0m\u001b[0;34m\u001b[0m\u001b[0m\n",
      "\u001b[0;31mTypeError\u001b[0m: DataFrame.rename() got an unexpected keyword argument 'column'"
     ]
    }
   ],
   "source": [
    "cross_df = pd.crosstab(icu['sex'], icu['surgery'], normalize=\"index\").T #stack() verilen veriyi kadın erkek diye ayrıştırıyor\n",
    "stacked = cross_df.stack().reset_index().rename(column={0:'value'})# reset index ile verileri indexledi 0 diye bir column açtı rename ile bu columna bir isim verdik\n",
    "sns.barplot(x=stacked.surgery, y=stacked.value, hue=stacked.sex)\n",
    "sns.countplot()  # mutlaka bak"
   ]
  },
  {
   "cell_type": "code",
   "execution_count": null,
   "id": "cbeb4d86-8a63-41ed-ab12-8a241341f2f1",
   "metadata": {},
   "outputs": [],
   "source": [
    "#bindig bir değerin birden fazla gösterilmesi, "
   ]
  },
  {
   "cell_type": "code",
   "execution_count": 28,
   "id": "bfd383cf-344b-4369-bebf-b373ac0323b7",
   "metadata": {},
   "outputs": [
    {
     "data": {
      "text/plain": [
       "SpearmanrResult(correlation=0.33799283541334685, pvalue=7.934328090032931e-15)"
      ]
     },
     "execution_count": 28,
     "metadata": {},
     "output_type": "execute_result"
    }
   ],
   "source": [
    "from scipy import stats\n",
    "stats.spearmanr(icu[\"SAPS II\"],icu.LOS)"
   ]
  },
  {
   "cell_type": "code",
   "execution_count": 30,
   "id": "c9534a24-090e-4fbb-9aba-99d576c21388",
   "metadata": {},
   "outputs": [
    {
     "data": {
      "text/plain": [
       "KendalltauResult(correlation=0.25189172614487776, pvalue=2.6516692857781672e-14)"
      ]
     },
     "execution_count": 30,
     "metadata": {},
     "output_type": "execute_result"
    }
   ],
   "source": [
    "stats.kendalltau(icu[\"SAPS II\"], icu.LOS) # e-15 10 üzeri -15 demek yani sayı çok küçük"
   ]
  },
  {
   "cell_type": "code",
   "execution_count": 36,
   "id": "d4cc36f2-d0a3-48c6-8f52-04ab5e46a07b",
   "metadata": {},
   "outputs": [
    {
     "data": {
      "text/plain": [
       "<AxesSubplot:xlabel='SAPS II', ylabel='LOS'>"
      ]
     },
     "execution_count": 36,
     "metadata": {},
     "output_type": "execute_result"
    },
    {
     "data": {
      "image/png": "[encoded data removed]",
      "text/plain": [
       "<Figure size 432x288 with 1 Axes>"
      ]
     },
     "metadata": {
      "needs_background": "light"
     },
     "output_type": "display_data"
    }
   ],
   "source": [
    "sns.scatterplot(x=icu[\"SAPS II\"], y=icu.LOS, alpha=0.25)"
   ]
  },
  {
   "cell_type": "code",
   "execution_count": 43,
   "id": "59efefc6-3219-454e-aaf2-126a5aa33cab",
   "metadata": {},
   "outputs": [
    {
     "data": {
      "text/plain": [
       "37.663199999999996"
      ]
     },
     "execution_count": 43,
     "metadata": {},
     "output_type": "execute_result"
    }
   ],
   "source": [
    "#metric değişkenler(sayısal) \n",
    "icu.temperature.mean() #vucut sıcaklıklarının ortalaması"
   ]
  },
  {
   "cell_type": "code",
   "execution_count": 45,
   "id": "a36eb9c4-5b74-4083-9238-416787e62976",
   "metadata": {},
   "outputs": [
    {
     "data": {
      "text/plain": [
       "37.66"
      ]
     },
     "execution_count": 45,
     "metadata": {},
     "output_type": "execute_result"
    }
   ],
   "source": [
    "round(icu.temperature.mean(), 2 ) # yuvarlama yaptık"
   ]
  },
  {
   "cell_type": "raw",
   "id": "f450f01b-d2a0-4c23-9f09-ca977adcc2f7",
   "metadata": {},
   "source": []
  },
  {
   "cell_type": "code",
   "execution_count": 50,
   "id": "3e771d5b-24bf-4ffe-ab62-5712ca210fa5",
   "metadata": {},
   "outputs": [
    {
     "data": {
      "text/plain": [
       "37.7"
      ]
     },
     "execution_count": 50,
     "metadata": {},
     "output_type": "execute_result"
    }
   ],
   "source": [
    "import statistics as st  #orta değerin bulunması\n",
    "np.median(icu.temperature)\n",
    "st.median(icu.temperature)"
   ]
  },
  {
   "cell_type": "code",
   "execution_count": 52,
   "id": "87908a48-43b8-4d34-937f-6f5d513c3983",
   "metadata": {
    "collapsed": true,
    "jupyter": {
     "outputs_hidden": true
    },
    "scrolled": true
   },
   "outputs": [
    {
     "ename": "ValueError",
     "evalue": "Multi-dimensional indexing (e.g. `obj[:, None]`) is no longer supported. Convert to a numpy array before indexing instead.",
     "output_type": "error",
     "traceback": [
      "\u001b[0;31m---------------------------------------------------------------------------\u001b[0m",
      "\u001b[0;31mValueError\u001b[0m                                Traceback (most recent call last)",
      "\u001b[0;32m/tmp/ipykernel_4692/2623869332.py\u001b[0m in \u001b[0;36m<module>\u001b[0;34m\u001b[0m\n\u001b[0;32m----> 1\u001b[0;31m \u001b[0msns\u001b[0m\u001b[0;34m.\u001b[0m\u001b[0mhistplot\u001b[0m\u001b[0;34m(\u001b[0m\u001b[0micu\u001b[0m\u001b[0;34m.\u001b[0m\u001b[0mtemperature\u001b[0m\u001b[0;34m,\u001b[0m \u001b[0mkde\u001b[0m\u001b[0;34m=\u001b[0m\u001b[0;32mTrue\u001b[0m\u001b[0;34m)\u001b[0m\u001b[0;34m\u001b[0m\u001b[0;34m\u001b[0m\u001b[0m\n\u001b[0m",
      "\u001b[0;32m~/.local/lib/python3.10/site-packages/seaborn/distributions.py\u001b[0m in \u001b[0;36mhistplot\u001b[0;34m(data, x, y, hue, weights, stat, bins, binwidth, binrange, discrete, cumulative, common_bins, common_norm, multiple, element, fill, shrink, kde, kde_kws, line_kws, thresh, pthresh, pmax, cbar, cbar_ax, cbar_kws, palette, hue_order, hue_norm, color, log_scale, legend, ax, **kwargs)\u001b[0m\n\u001b[1;32m   1414\u001b[0m     \u001b[0;32mif\u001b[0m \u001b[0mp\u001b[0m\u001b[0;34m.\u001b[0m\u001b[0munivariate\u001b[0m\u001b[0;34m:\u001b[0m\u001b[0;34m\u001b[0m\u001b[0;34m\u001b[0m\u001b[0m\n\u001b[1;32m   1415\u001b[0m \u001b[0;34m\u001b[0m\u001b[0m\n\u001b[0;32m-> 1416\u001b[0;31m         p.plot_univariate_histogram(\n\u001b[0m\u001b[1;32m   1417\u001b[0m             \u001b[0mmultiple\u001b[0m\u001b[0;34m=\u001b[0m\u001b[0mmultiple\u001b[0m\u001b[0;34m,\u001b[0m\u001b[0;34m\u001b[0m\u001b[0;34m\u001b[0m\u001b[0m\n\u001b[1;32m   1418\u001b[0m             \u001b[0melement\u001b[0m\u001b[0;34m=\u001b[0m\u001b[0melement\u001b[0m\u001b[0;34m,\u001b[0m\u001b[0;34m\u001b[0m\u001b[0;34m\u001b[0m\u001b[0m\n",
      "\u001b[0;32m~/.local/lib/python3.10/site-packages/seaborn/distributions.py\u001b[0m in \u001b[0;36mplot_univariate_histogram\u001b[0;34m(self, multiple, element, fill, common_norm, common_bins, shrink, kde, kde_kws, color, legend, line_kws, estimate_kws, **plot_kws)\u001b[0m\n\u001b[1;32m    649\u001b[0m \u001b[0;34m\u001b[0m\u001b[0m\n\u001b[1;32m    650\u001b[0m                 \u001b[0mline_kws\u001b[0m\u001b[0;34m[\u001b[0m\u001b[0;34m\"color\"\u001b[0m\u001b[0;34m]\u001b[0m \u001b[0;34m=\u001b[0m \u001b[0mto_rgba\u001b[0m\u001b[0;34m(\u001b[0m\u001b[0msub_color\u001b[0m\u001b[0;34m,\u001b[0m \u001b[0;36m1\u001b[0m\u001b[0;34m)\u001b[0m\u001b[0;34m\u001b[0m\u001b[0;34m\u001b[0m\u001b[0m\n\u001b[0;32m--> 651\u001b[0;31m                 line, = ax.plot(\n\u001b[0m\u001b[1;32m    652\u001b[0m                     \u001b[0;34m*\u001b[0m\u001b[0mline_args\u001b[0m\u001b[0;34m,\u001b[0m \u001b[0;34m**\u001b[0m\u001b[0mline_kws\u001b[0m\u001b[0;34m,\u001b[0m\u001b[0;34m\u001b[0m\u001b[0;34m\u001b[0m\u001b[0m\n\u001b[1;32m    653\u001b[0m                 )\n",
      "\u001b[0;32m/usr/lib/python3/dist-packages/matplotlib/axes/_axes.py\u001b[0m in \u001b[0;36mplot\u001b[0;34m(self, scalex, scaley, data, *args, **kwargs)\u001b[0m\n\u001b[1;32m   1630\u001b[0m         \"\"\"\n\u001b[1;32m   1631\u001b[0m         \u001b[0mkwargs\u001b[0m \u001b[0;34m=\u001b[0m \u001b[0mcbook\u001b[0m\u001b[0;34m.\u001b[0m\u001b[0mnormalize_kwargs\u001b[0m\u001b[0;34m(\u001b[0m\u001b[0mkwargs\u001b[0m\u001b[0;34m,\u001b[0m \u001b[0mmlines\u001b[0m\u001b[0;34m.\u001b[0m\u001b[0mLine2D\u001b[0m\u001b[0;34m)\u001b[0m\u001b[0;34m\u001b[0m\u001b[0;34m\u001b[0m\u001b[0m\n\u001b[0;32m-> 1632\u001b[0;31m         \u001b[0mlines\u001b[0m \u001b[0;34m=\u001b[0m \u001b[0;34m[\u001b[0m\u001b[0;34m*\u001b[0m\u001b[0mself\u001b[0m\u001b[0;34m.\u001b[0m\u001b[0m_get_lines\u001b[0m\u001b[0;34m(\u001b[0m\u001b[0;34m*\u001b[0m\u001b[0margs\u001b[0m\u001b[0;34m,\u001b[0m \u001b[0mdata\u001b[0m\u001b[0;34m=\u001b[0m\u001b[0mdata\u001b[0m\u001b[0;34m,\u001b[0m \u001b[0;34m**\u001b[0m\u001b[0mkwargs\u001b[0m\u001b[0;34m)\u001b[0m\u001b[0;34m]\u001b[0m\u001b[0;34m\u001b[0m\u001b[0;34m\u001b[0m\u001b[0m\n\u001b[0m\u001b[1;32m   1633\u001b[0m         \u001b[0;32mfor\u001b[0m \u001b[0mline\u001b[0m \u001b[0;32min\u001b[0m \u001b[0mlines\u001b[0m\u001b[0;34m:\u001b[0m\u001b[0;34m\u001b[0m\u001b[0;34m\u001b[0m\u001b[0m\n\u001b[1;32m   1634\u001b[0m             \u001b[0mself\u001b[0m\u001b[0;34m.\u001b[0m\u001b[0madd_line\u001b[0m\u001b[0;34m(\u001b[0m\u001b[0mline\u001b[0m\u001b[0;34m)\u001b[0m\u001b[0;34m\u001b[0m\u001b[0;34m\u001b[0m\u001b[0m\n",
      "\u001b[0;32m/usr/lib/python3/dist-packages/matplotlib/axes/_base.py\u001b[0m in \u001b[0;36m__call__\u001b[0;34m(self, data, *args, **kwargs)\u001b[0m\n\u001b[1;32m    310\u001b[0m                 \u001b[0mthis\u001b[0m \u001b[0;34m+=\u001b[0m \u001b[0margs\u001b[0m\u001b[0;34m[\u001b[0m\u001b[0;36m0\u001b[0m\u001b[0;34m]\u001b[0m\u001b[0;34m,\u001b[0m\u001b[0;34m\u001b[0m\u001b[0;34m\u001b[0m\u001b[0m\n\u001b[1;32m    311\u001b[0m                 \u001b[0margs\u001b[0m \u001b[0;34m=\u001b[0m \u001b[0margs\u001b[0m\u001b[0;34m[\u001b[0m\u001b[0;36m1\u001b[0m\u001b[0;34m:\u001b[0m\u001b[0;34m]\u001b[0m\u001b[0;34m\u001b[0m\u001b[0;34m\u001b[0m\u001b[0m\n\u001b[0;32m--> 312\u001b[0;31m             \u001b[0;32myield\u001b[0m \u001b[0;32mfrom\u001b[0m \u001b[0mself\u001b[0m\u001b[0;34m.\u001b[0m\u001b[0m_plot_args\u001b[0m\u001b[0;34m(\u001b[0m\u001b[0mthis\u001b[0m\u001b[0;34m,\u001b[0m \u001b[0mkwargs\u001b[0m\u001b[0;34m)\u001b[0m\u001b[0;34m\u001b[0m\u001b[0;34m\u001b[0m\u001b[0m\n\u001b[0m\u001b[1;32m    313\u001b[0m \u001b[0;34m\u001b[0m\u001b[0m\n\u001b[1;32m    314\u001b[0m     \u001b[0;32mdef\u001b[0m \u001b[0mget_next_color\u001b[0m\u001b[0;34m(\u001b[0m\u001b[0mself\u001b[0m\u001b[0;34m)\u001b[0m\u001b[0;34m:\u001b[0m\u001b[0;34m\u001b[0m\u001b[0;34m\u001b[0m\u001b[0m\n",
      "\u001b[0;32m/usr/lib/python3/dist-packages/matplotlib/axes/_base.py\u001b[0m in \u001b[0;36m_plot_args\u001b[0;34m(self, tup, kwargs, return_kwargs)\u001b[0m\n\u001b[1;32m    485\u001b[0m \u001b[0;34m\u001b[0m\u001b[0m\n\u001b[1;32m    486\u001b[0m         \u001b[0;32mif\u001b[0m \u001b[0mlen\u001b[0m\u001b[0;34m(\u001b[0m\u001b[0mxy\u001b[0m\u001b[0;34m)\u001b[0m \u001b[0;34m==\u001b[0m \u001b[0;36m2\u001b[0m\u001b[0;34m:\u001b[0m\u001b[0;34m\u001b[0m\u001b[0;34m\u001b[0m\u001b[0m\n\u001b[0;32m--> 487\u001b[0;31m             \u001b[0mx\u001b[0m \u001b[0;34m=\u001b[0m \u001b[0m_check_1d\u001b[0m\u001b[0;34m(\u001b[0m\u001b[0mxy\u001b[0m\u001b[0;34m[\u001b[0m\u001b[0;36m0\u001b[0m\u001b[0;34m]\u001b[0m\u001b[0;34m)\u001b[0m\u001b[0;34m\u001b[0m\u001b[0;34m\u001b[0m\u001b[0m\n\u001b[0m\u001b[1;32m    488\u001b[0m             \u001b[0my\u001b[0m \u001b[0;34m=\u001b[0m \u001b[0m_check_1d\u001b[0m\u001b[0;34m(\u001b[0m\u001b[0mxy\u001b[0m\u001b[0;34m[\u001b[0m\u001b[0;36m1\u001b[0m\u001b[0;34m]\u001b[0m\u001b[0;34m)\u001b[0m\u001b[0;34m\u001b[0m\u001b[0;34m\u001b[0m\u001b[0m\n\u001b[1;32m    489\u001b[0m         \u001b[0;32melse\u001b[0m\u001b[0;34m:\u001b[0m\u001b[0;34m\u001b[0m\u001b[0;34m\u001b[0m\u001b[0m\n",
      "\u001b[0;32m/usr/lib/python3/dist-packages/matplotlib/cbook/__init__.py\u001b[0m in \u001b[0;36m_check_1d\u001b[0;34m(x)\u001b[0m\n\u001b[1;32m   1325\u001b[0m                     message='Support for multi-dimensional indexing')\n\u001b[1;32m   1326\u001b[0m \u001b[0;34m\u001b[0m\u001b[0m\n\u001b[0;32m-> 1327\u001b[0;31m                 \u001b[0mndim\u001b[0m \u001b[0;34m=\u001b[0m \u001b[0mx\u001b[0m\u001b[0;34m[\u001b[0m\u001b[0;34m:\u001b[0m\u001b[0;34m,\u001b[0m \u001b[0;32mNone\u001b[0m\u001b[0;34m]\u001b[0m\u001b[0;34m.\u001b[0m\u001b[0mndim\u001b[0m\u001b[0;34m\u001b[0m\u001b[0;34m\u001b[0m\u001b[0m\n\u001b[0m\u001b[1;32m   1328\u001b[0m                 \u001b[0;31m# we have definitely hit a pandas index or series object\u001b[0m\u001b[0;34m\u001b[0m\u001b[0;34m\u001b[0m\u001b[0m\n\u001b[1;32m   1329\u001b[0m                 \u001b[0;31m# cast to a numpy array.\u001b[0m\u001b[0;34m\u001b[0m\u001b[0;34m\u001b[0m\u001b[0m\n",
      "\u001b[0;32m~/.local/lib/python3.10/site-packages/pandas/core/indexes/base.py\u001b[0m in \u001b[0;36m__getitem__\u001b[0;34m(self, key)\u001b[0m\n\u001b[1;32m   5383\u001b[0m         \u001b[0;31m# Because we ruled out integer above, we always get an arraylike here\u001b[0m\u001b[0;34m\u001b[0m\u001b[0;34m\u001b[0m\u001b[0m\n\u001b[1;32m   5384\u001b[0m         \u001b[0;32mif\u001b[0m \u001b[0mresult\u001b[0m\u001b[0;34m.\u001b[0m\u001b[0mndim\u001b[0m \u001b[0;34m>\u001b[0m \u001b[0;36m1\u001b[0m\u001b[0;34m:\u001b[0m\u001b[0;34m\u001b[0m\u001b[0;34m\u001b[0m\u001b[0m\n\u001b[0;32m-> 5385\u001b[0;31m             \u001b[0mdisallow_ndim_indexing\u001b[0m\u001b[0;34m(\u001b[0m\u001b[0mresult\u001b[0m\u001b[0;34m)\u001b[0m\u001b[0;34m\u001b[0m\u001b[0;34m\u001b[0m\u001b[0m\n\u001b[0m\u001b[1;32m   5386\u001b[0m \u001b[0;34m\u001b[0m\u001b[0m\n\u001b[1;32m   5387\u001b[0m         \u001b[0;31m# NB: Using _constructor._simple_new would break if MultiIndex\u001b[0m\u001b[0;34m\u001b[0m\u001b[0;34m\u001b[0m\u001b[0m\n",
      "\u001b[0;32m~/.local/lib/python3.10/site-packages/pandas/core/indexers/utils.py\u001b[0m in \u001b[0;36mdisallow_ndim_indexing\u001b[0;34m(result)\u001b[0m\n\u001b[1;32m    339\u001b[0m     \"\"\"\n\u001b[1;32m    340\u001b[0m     \u001b[0;32mif\u001b[0m \u001b[0mnp\u001b[0m\u001b[0;34m.\u001b[0m\u001b[0mndim\u001b[0m\u001b[0;34m(\u001b[0m\u001b[0mresult\u001b[0m\u001b[0;34m)\u001b[0m \u001b[0;34m>\u001b[0m \u001b[0;36m1\u001b[0m\u001b[0;34m:\u001b[0m\u001b[0;34m\u001b[0m\u001b[0;34m\u001b[0m\u001b[0m\n\u001b[0;32m--> 341\u001b[0;31m         raise ValueError(\n\u001b[0m\u001b[1;32m    342\u001b[0m             \u001b[0;34m\"Multi-dimensional indexing (e.g. `obj[:, None]`) is no longer \"\u001b[0m\u001b[0;34m\u001b[0m\u001b[0;34m\u001b[0m\u001b[0m\n\u001b[1;32m    343\u001b[0m             \u001b[0;34m\"supported. Convert to a numpy array before indexing instead.\"\u001b[0m\u001b[0;34m\u001b[0m\u001b[0;34m\u001b[0m\u001b[0m\n",
      "\u001b[0;31mValueError\u001b[0m: Multi-dimensional indexing (e.g. `obj[:, None]`) is no longer supported. Convert to a numpy array before indexing instead."
     ]
    },
    {
     "data": {
      "image/png": "[encoded data removed]",
      "text/plain": [
       "<Figure size 432x288 with 1 Axes>"
      ]
     },
     "metadata": {
      "needs_background": "light"
     },
     "output_type": "display_data"
    }
   ],
   "source": [
    "sns.histplot(icu.temperature, kde=True)"
   ]
  },
  {
   "cell_type": "code",
   "execution_count": 55,
   "id": "e6a7addc-1926-41c9-9324-ae3c35c37c4b",
   "metadata": {},
   "outputs": [
    {
     "data": {
      "application/vnd.plotly.v1+json": {
       "config": {
        "plotlyServerURL": "https://plot.ly"
       },
       "data": [
        {
         "alignmentgroup": "True",
         "hovertemplate": "variable=%{x}<br>value=%{y}<extra></extra>",
         "legendgroup": "",
         "marker": {
          "color": "#636efa"
         },
         "name": "",
         "notched": false,
         "offsetgroup": "",
         "orientation": "v",
         "showlegend": false,
         "type": "box",
         "x": [
          "temperature",
          "temperature",
          "temperature",
          "temperature",
          "temperature",
          "temperature",
          "temperature",
          "temperature",
          "temperature",
          "temperature",
          "temperature",
          "temperature",
          "temperature",
          "temperature",
          "temperature",
          "temperature",
          "temperature",
          "temperature",
          "temperature",
          "temperature",
          "temperature",
          "temperature",
          "temperature",
          "temperature",
          "temperature",
          "temperature",
          "temperature",
          "temperature",
          "temperature",
          "temperature",
          "temperature",
          "temperature",
          "temperature",
          "temperature",
          "temperature",
          "temperature",
          "temperature",
          "temperature",
          "temperature",
          "temperature",
          "temperature",
          "temperature",
          "temperature",
          "temperature",
          "temperature",
          "temperature",
          "temperature",
          "temperature",
          "temperature",
          "temperature",
          "temperature",
          "temperature",
          "temperature",
          "temperature",
          "temperature",
          "temperature",
          "temperature",
          "temperature",
          "temperature",
          "temperature",
          "temperature",
          "temperature",
          "temperature",
          "temperature",
          "temperature",
          "temperature",
          "temperature",
          "temperature",
          "temperature",
          "temperature",
          "temperature",
          "temperature",
          "temperature",
          "temperature",
          "temperature",
          "temperature",
          "temperature",
          "temperature",
          "temperature",
          "temperature",
          "temperature",
          "temperature",
          "temperature",
          "temperature",
          "temperature",
          "temperature",
          "temperature",
          "temperature",
          "temperature",
          "temperature",
          "temperature",
          "temperature",
          "temperature",
          "temperature",
          "temperature",
          "temperature",
          "temperature",
          "temperature",
          "temperature",
          "temperature",
          "temperature",
          "temperature",
          "temperature",
          "temperature",
          "temperature",
          "temperature",
          "temperature",
          "temperature",
          "temperature",
          "temperature",
          "temperature",
          "temperature",
          "temperature",
          "temperature",
          "temperature",
          "temperature",
          "temperature",
          "temperature",
          "temperature",
          "temperature",
          "temperature",
          "temperature",
          "temperature",
          "temperature",
          "temperature",
          "temperature",
          "temperature",
          "temperature",
          "temperature",
          "temperature",
          "temperature",
          "temperature",
          "temperature",
          "temperature",
          "temperature",
          "temperature",
          "temperature",
          "temperature",
          "temperature",
          "temperature",
          "temperature",
          "temperature",
          "temperature",
          "temperature",
          "temperature",
          "temperature",
          "temperature",
          "temperature",
          "temperature",
          "temperature",
          "temperature",
          "temperature",
          "temperature",
          "temperature",
          "temperature",
          "temperature",
          "temperature",
          "temperature",
          "temperature",
          "temperature",
          "temperature",
          "temperature",
          "temperature",
          "temperature",
          "temperature",
          "temperature",
          "temperature",
          "temperature",
          "temperature",
          "temperature",
          "temperature",
          "temperature",
          "temperature",
          "temperature",
          "temperature",
          "temperature",
          "temperature",
          "temperature",
          "temperature",
          "temperature",
          "temperature",
          "temperature",
          "temperature",
          "temperature",
          "temperature",
          "temperature",
          "temperature",
          "temperature",
          "temperature",
          "temperature",
          "temperature",
          "temperature",
          "temperature",
          "temperature",
          "temperature",
          "temperature",
          "temperature",
          "temperature",
          "temperature",
          "temperature",
          "temperature",
          "temperature",
          "temperature",
          "temperature",
          "temperature",
          "temperature",
          "temperature",
          "temperature",
          "temperature",
          "temperature",
          "temperature",
          "temperature",
          "temperature",
          "temperature",
          "temperature",
          "temperature",
          "temperature",
          "temperature",
          "temperature",
          "temperature",
          "temperature",
          "temperature",
          "temperature",
          "temperature",
          "temperature",
          "temperature",
          "temperature",
          "temperature",
          "temperature",
          "temperature",
          "temperature",
          "temperature",
          "temperature",
          "temperature",
          "temperature",
          "temperature",
          "temperature",
          "temperature",
          "temperature",
          "temperature",
          "temperature",
          "temperature",
          "temperature",
          "temperature",
          "temperature",
          "temperature",
          "temperature",
          "temperature",
          "temperature",
          "temperature",
          "temperature",
          "temperature",
          "temperature",
          "temperature",
          "temperature",
          "temperature",
          "temperature",
          "temperature",
          "temperature",
          "temperature",
          "temperature",
          "temperature",
          "temperature",
          "temperature",
          "temperature",
          "temperature",
          "temperature",
          "temperature",
          "temperature",
          "temperature",
          "temperature",
          "temperature",
          "temperature",
          "temperature",
          "temperature",
          "temperature",
          "temperature",
          "temperature",
          "temperature",
          "temperature",
          "temperature",
          "temperature",
          "temperature",
          "temperature",
          "temperature",
          "temperature",
          "temperature",
          "temperature",
          "temperature",
          "temperature",
          "temperature",
          "temperature",
          "temperature",
          "temperature",
          "temperature",
          "temperature",
          "temperature",
          "temperature",
          "temperature",
          "temperature",
          "temperature",
          "temperature",
          "temperature",
          "temperature",
          "temperature",
          "temperature",
          "temperature",
          "temperature",
          "temperature",
          "temperature",
          "temperature",
          "temperature",
          "temperature",
          "temperature",
          "temperature",
          "temperature",
          "temperature",
          "temperature",
          "temperature",
          "temperature",
          "temperature",
          "temperature",
          "temperature",
          "temperature",
          "temperature",
          "temperature",
          "temperature",
          "temperature",
          "temperature",
          "temperature",
          "temperature",
          "temperature",
          "temperature",
          "temperature",
          "temperature",
          "temperature",
          "temperature",
          "temperature",
          "temperature",
          "temperature",
          "temperature",
          "temperature",
          "temperature",
          "temperature",
          "temperature",
          "temperature",
          "temperature",
          "temperature",
          "temperature",
          "temperature",
          "temperature",
          "temperature",
          "temperature",
          "temperature",
          "temperature",
          "temperature",
          "temperature",
          "temperature",
          "temperature",
          "temperature",
          "temperature",
          "temperature",
          "temperature",
          "temperature",
          "temperature",
          "temperature",
          "temperature",
          "temperature",
          "temperature",
          "temperature",
          "temperature",
          "temperature",
          "temperature",
          "temperature",
          "temperature",
          "temperature",
          "temperature",
          "temperature",
          "temperature",
          "temperature",
          "temperature",
          "temperature",
          "temperature",
          "temperature",
          "temperature",
          "temperature",
          "temperature",
          "temperature",
          "temperature",
          "temperature",
          "temperature",
          "temperature",
          "temperature",
          "temperature",
          "temperature",
          "temperature",
          "temperature",
          "temperature",
          "temperature",
          "temperature",
          "temperature",
          "temperature",
          "temperature",
          "temperature",
          "temperature",
          "temperature",
          "temperature",
          "temperature",
          "temperature",
          "temperature",
          "temperature",
          "temperature",
          "temperature",
          "temperature",
          "temperature",
          "temperature",
          "temperature",
          "temperature",
          "temperature",
          "temperature",
          "temperature",
          "temperature",
          "temperature",
          "temperature",
          "temperature",
          "temperature",
          "temperature",
          "temperature",
          "temperature",
          "temperature",
          "temperature",
          "temperature",
          "temperature",
          "temperature",
          "temperature",
          "temperature",
          "temperature",
          "temperature",
          "temperature",
          "temperature",
          "temperature",
          "temperature",
          "temperature",
          "temperature",
          "temperature",
          "temperature",
          "temperature",
          "temperature",
          "temperature",
          "temperature",
          "temperature",
          "temperature",
          "temperature",
          "temperature",
          "temperature",
          "temperature",
          "temperature",
          "temperature",
          "temperature",
          "temperature",
          "temperature",
          "temperature",
          "temperature",
          "temperature",
          "temperature",
          "temperature",
          "temperature",
          "temperature",
          "temperature",
          "temperature",
          "temperature",
          "temperature",
          "temperature",
          "temperature",
          "temperature",
          "temperature",
          "temperature",
          "temperature",
          "temperature",
          "temperature",
          "temperature",
          "temperature",
          "temperature",
          "temperature",
          "temperature",
          "temperature",
          "temperature",
          "temperature",
          "temperature",
          "temperature",
          "temperature",
          "temperature",
          "temperature",
          "temperature",
          "temperature",
          "temperature",
          "temperature",
          "temperature",
          "temperature",
          "temperature"
         ],
         "x0": " ",
         "xaxis": "x",
         "y": [
          36.5,
          38.1,
          37.4,
          39.1,
          38.5,
          35.1,
          36.7,
          39.8,
          39.9,
          38.4,
          36.3,
          37.5,
          37.1,
          35.8,
          38,
          37.4,
          36.7,
          38.2,
          38.1,
          35.6,
          38.2,
          37.9,
          36.4,
          37.6,
          38.1,
          37.4,
          37.7,
          37.1,
          36.9,
          38.2,
          37.9,
          38.1,
          36.2,
          36.7,
          38.4,
          37.3,
          37.4,
          37,
          37,
          39.5,
          37.1,
          35.7,
          38.6,
          38.1,
          37.6,
          38.7,
          35.9,
          36.1,
          36.7,
          38,
          38,
          36.8,
          37.9,
          37.8,
          38.2,
          39.3,
          38.6,
          38.4,
          37.2,
          36.7,
          36.1,
          37.1,
          36.5,
          37.2,
          36.5,
          38.5,
          38.8,
          37.2,
          38.8,
          36.8,
          37.9,
          39.2,
          37.5,
          37.9,
          33.9,
          38.1,
          37.5,
          36.4,
          37,
          36.4,
          36.4,
          37.1,
          35,
          38.7,
          37.1,
          37.2,
          37,
          40.3,
          37.7,
          37,
          35.6,
          38.4,
          36.8,
          38.3,
          39.7,
          36.6,
          39.4,
          37.4,
          35.9,
          35.9,
          36.4,
          38.3,
          37.9,
          37.7,
          38.7,
          38.7,
          38.1,
          38.6,
          37.7,
          39,
          36.5,
          39.6,
          38.3,
          37.5,
          39.4,
          36.7,
          37.5,
          39.1,
          36.3,
          38,
          38.8,
          37.5,
          37.2,
          37.3,
          38.2,
          39.8,
          36.6,
          37,
          40.9,
          37.4,
          36.6,
          37.2,
          37.1,
          37.9,
          37.4,
          38.9,
          36.5,
          36.9,
          37.4,
          37.6,
          35.4,
          36.3,
          39.4,
          37.9,
          36.7,
          38.6,
          37.8,
          35.4,
          40.1,
          40,
          36.5,
          37.2,
          37.3,
          36.3,
          38.2,
          37.7,
          39.6,
          36,
          38.7,
          38.8,
          37.2,
          40,
          38,
          37.4,
          37.1,
          38.3,
          36.7,
          37.5,
          37.2,
          38.8,
          36.9,
          38.4,
          37.2,
          37.9,
          37.5,
          37.2,
          37.9,
          38.3,
          37.7,
          40.1,
          38.5,
          37.5,
          38.9,
          38,
          37.6,
          37.8,
          38.1,
          38.1,
          35.7,
          37.5,
          38.6,
          37.6,
          38.2,
          40.1,
          36.1,
          37.2,
          38,
          37.1,
          36.5,
          39.3,
          39.5,
          38,
          37.6,
          37.3,
          36.1,
          37.3,
          37.2,
          38.6,
          37.7,
          36.3,
          39.2,
          38.5,
          37,
          37.3,
          37.6,
          38.5,
          36.8,
          36.6,
          38.9,
          38.4,
          36.8,
          37.8,
          37.3,
          39.9,
          37.4,
          39.9,
          37.2,
          37.7,
          40.6,
          38.2,
          38.1,
          36.8,
          34.8,
          39.5,
          37.9,
          38,
          35.1,
          37.8,
          36.5,
          39.5,
          37.3,
          39.1,
          37.1,
          35.8,
          37,
          38.2,
          37.9,
          37.3,
          37.4,
          37.9,
          37.9,
          39.2,
          37.4,
          39.1,
          39.4,
          38.4,
          38.6,
          36.9,
          37.1,
          36.9,
          38,
          36.4,
          39,
          38,
          36.5,
          40.6,
          36.9,
          38.1,
          38.4,
          37.4,
          37.9,
          36.8,
          38.3,
          39,
          38.3,
          37.9,
          38.1,
          36.3,
          37.8,
          38.4,
          37.4,
          36.6,
          37,
          37.4,
          36.8,
          36.9,
          36.6,
          38.4,
          39,
          38.1,
          36.6,
          38,
          37,
          36.3,
          36.9,
          37.4,
          38,
          38.7,
          38.2,
          36.7,
          40.7,
          36,
          36.4,
          39,
          37.1,
          38.8,
          37.8,
          38,
          36.7,
          39.7,
          38.2,
          36.7,
          36.7,
          37.6,
          37,
          36.7,
          36.7,
          38.8,
          39.1,
          36.3,
          36.7,
          36.2,
          39.1,
          38.1,
          37,
          37.4,
          37.6,
          38.7,
          37.5,
          35.9,
          36.5,
          38.3,
          37.8,
          38.2,
          36.4,
          40.4,
          36.5,
          39.3,
          37.3,
          38.6,
          36.6,
          38.8,
          38.3,
          36.3,
          38.7,
          37.3,
          37.1,
          37.5,
          36.5,
          37.5,
          38.5,
          37.6,
          40.1,
          36.9,
          36.2,
          36,
          40.8,
          38.3,
          37.5,
          37.7,
          34.7,
          39.8,
          38.6,
          38,
          39.4,
          38.7,
          38.8,
          38.5,
          39.5,
          37,
          39.7,
          36.8,
          37.7,
          38,
          38.8,
          38.5,
          38.5,
          36.8,
          38.6,
          37.8,
          37.8,
          36.2,
          36.8,
          36.1,
          37.6,
          38.1,
          40.9,
          37.3,
          39.3,
          40.1,
          38.3,
          36.5,
          37.9,
          38.4,
          38.5,
          38.8,
          42,
          9.1,
          37.1,
          38.7,
          38.7,
          38.9,
          39.6,
          37.3,
          37.8,
          38.7,
          36.3,
          36.7,
          36.8,
          37.9,
          36.2,
          39,
          37.9,
          37.8,
          37,
          38,
          36.4,
          38.1,
          38.1,
          37.9,
          38,
          37.8,
          39,
          38,
          37.6,
          38.1,
          35.5,
          37.4,
          37.7,
          41.1,
          38.6,
          38.1,
          38.5,
          38.2,
          36.3,
          36,
          39.2,
          36.2,
          39.9,
          37.9,
          36.9,
          36.1,
          36.5,
          37.3,
          38.5,
          37,
          37.8,
          37.9,
          38.4,
          37.9,
          36.5,
          35.5,
          39.2,
          36.8,
          37.3,
          39,
          36.5,
          37.5,
          37.1,
          37,
          37.1,
          36.8,
          39.7,
          35.4,
          36.9,
          39.9,
          38.4,
          37.5,
          41,
          36.3,
          39.4,
          35.9,
          37.5,
          35.9,
          36.9,
          36.3,
          37.1,
          37.3,
          35.5,
          38,
          37.4,
          38.4,
          39.7,
          39.3,
          38.6,
          37.3,
          38.7,
          37.4,
          38.5,
          38,
          36.3,
          37.2,
          37.2,
          40.8,
          38.5,
          37.3,
          38,
          37.9,
          36,
          37.6
         ],
         "y0": " ",
         "yaxis": "y"
        }
       ],
       "layout": {
        "autosize": true,
        "boxmode": "group",
        "legend": {
         "tracegroupgap": 0
        },
        "margin": {
         "t": 60
        },
        "template": {
         "data": {
          "bar": [
           {
            "error_x": {
             "color": "#2a3f5f"
            },
            "error_y": {
             "color": "#2a3f5f"
            },
            "marker": {
             "line": {
              "color": "#E5ECF6",
              "width": 0.5
             },
             "pattern": {
              "fillmode": "overlay",
              "size": 10,
              "solidity": 0.2
             }
            },
            "type": "bar"
           }
          ],
          "barpolar": [
           {
            "marker": {
             "line": {
              "color": "#E5ECF6",
              "width": 0.5
             },
             "pattern": {
              "fillmode": "overlay",
              "size": 10,
              "solidity": 0.2
             }
            },
            "type": "barpolar"
           }
          ],
          "carpet": [
           {
            "aaxis": {
             "endlinecolor": "#2a3f5f",
             "gridcolor": "white",
             "linecolor": "white",
             "minorgridcolor": "white",
             "startlinecolor": "#2a3f5f"
            },
            "baxis": {
             "endlinecolor": "#2a3f5f",
             "gridcolor": "white",
             "linecolor": "white",
             "minorgridcolor": "white",
             "startlinecolor": "#2a3f5f"
            },
            "type": "carpet"
           }
          ],
          "choropleth": [
           {
            "colorbar": {
             "outlinewidth": 0,
             "ticks": ""
            },
            "type": "choropleth"
           }
          ],
          "contour": [
           {
            "colorbar": {
             "outlinewidth": 0,
             "ticks": ""
            },
            "colorscale": [
             [
              0,
              "#0d0887"
             ],
             [
              0.1111111111111111,
              "#46039f"
             ],
             [
              0.2222222222222222,
              "#7201a8"
             ],
             [
              0.3333333333333333,
              "#9c179e"
             ],
             [
              0.4444444444444444,
              "#bd3786"
             ],
             [
              0.5555555555555556,
              "#d8576b"
             ],
             [
              0.6666666666666666,
              "#ed7953"
             ],
             [
              0.7777777777777778,
              "#fb9f3a"
             ],
             [
              0.8888888888888888,
              "#fdca26"
             ],
             [
              1,
              "#f0f921"
             ]
            ],
            "type": "contour"
           }
          ],
          "contourcarpet": [
           {
            "colorbar": {
             "outlinewidth": 0,
             "ticks": ""
            },
            "type": "contourcarpet"
           }
          ],
          "heatmap": [
           {
            "colorbar": {
             "outlinewidth": 0,
             "ticks": ""
            },
            "colorscale": [
             [
              0,
              "#0d0887"
             ],
             [
              0.1111111111111111,
              "#46039f"
             ],
             [
              0.2222222222222222,
              "#7201a8"
             ],
             [
              0.3333333333333333,
              "#9c179e"
             ],
             [
              0.4444444444444444,
              "#bd3786"
             ],
             [
              0.5555555555555556,
              "#d8576b"
             ],
             [
              0.6666666666666666,
              "#ed7953"
             ],
             [
              0.7777777777777778,
              "#fb9f3a"
             ],
             [
              0.8888888888888888,
              "#fdca26"
             ],
             [
              1,
              "#f0f921"
             ]
            ],
            "type": "heatmap"
           }
          ],
          "heatmapgl": [
           {
            "colorbar": {
             "outlinewidth": 0,
             "ticks": ""
            },
            "colorscale": [
             [
              0,
              "#0d0887"
             ],
             [
              0.1111111111111111,
              "#46039f"
             ],
             [
              0.2222222222222222,
              "#7201a8"
             ],
             [
              0.3333333333333333,
              "#9c179e"
             ],
             [
              0.4444444444444444,
              "#bd3786"
             ],
             [
              0.5555555555555556,
              "#d8576b"
             ],
             [
              0.6666666666666666,
              "#ed7953"
             ],
             [
              0.7777777777777778,
              "#fb9f3a"
             ],
             [
              0.8888888888888888,
              "#fdca26"
             ],
             [
              1,
              "#f0f921"
             ]
            ],
            "type": "heatmapgl"
           }
          ],
          "histogram": [
           {
            "marker": {
             "pattern": {
              "fillmode": "overlay",
              "size": 10,
              "solidity": 0.2
             }
            },
            "type": "histogram"
           }
          ],
          "histogram2d": [
           {
            "colorbar": {
             "outlinewidth": 0,
             "ticks": ""
            },
            "colorscale": [
             [
              0,
              "#0d0887"
             ],
             [
              0.1111111111111111,
              "#46039f"
             ],
             [
              0.2222222222222222,
              "#7201a8"
             ],
             [
              0.3333333333333333,
              "#9c179e"
             ],
             [
              0.4444444444444444,
              "#bd3786"
             ],
             [
              0.5555555555555556,
              "#d8576b"
             ],
             [
              0.6666666666666666,
              "#ed7953"
             ],
             [
              0.7777777777777778,
              "#fb9f3a"
             ],
             [
              0.8888888888888888,
              "#fdca26"
             ],
             [
              1,
              "#f0f921"
             ]
            ],
            "type": "histogram2d"
           }
          ],
          "histogram2dcontour": [
           {
            "colorbar": {
             "outlinewidth": 0,
             "ticks": ""
            },
            "colorscale": [
             [
              0,
              "#0d0887"
             ],
             [
              0.1111111111111111,
              "#46039f"
             ],
             [
              0.2222222222222222,
              "#7201a8"
             ],
             [
              0.3333333333333333,
              "#9c179e"
             ],
             [
              0.4444444444444444,
              "#bd3786"
             ],
             [
              0.5555555555555556,
              "#d8576b"
             ],
             [
              0.6666666666666666,
              "#ed7953"
             ],
             [
              0.7777777777777778,
              "#fb9f3a"
             ],
             [
              0.8888888888888888,
              "#fdca26"
             ],
             [
              1,
              "#f0f921"
             ]
            ],
            "type": "histogram2dcontour"
           }
          ],
          "mesh3d": [
           {
            "colorbar": {
             "outlinewidth": 0,
             "ticks": ""
            },
            "type": "mesh3d"
           }
          ],
          "parcoords": [
           {
            "line": {
             "colorbar": {
              "outlinewidth": 0,
              "ticks": ""
             }
            },
            "type": "parcoords"
           }
          ],
          "pie": [
           {
            "automargin": true,
            "type": "pie"
           }
          ],
          "scatter": [
           {
            "fillpattern": {
             "fillmode": "overlay",
             "size": 10,
             "solidity": 0.2
            },
            "type": "scatter"
           }
          ],
          "scatter3d": [
           {
            "line": {
             "colorbar": {
              "outlinewidth": 0,
              "ticks": ""
             }
            },
            "marker": {
             "colorbar": {
              "outlinewidth": 0,
              "ticks": ""
             }
            },
            "type": "scatter3d"
           }
          ],
          "scattercarpet": [
           {
            "marker": {
             "colorbar": {
              "outlinewidth": 0,
              "ticks": ""
             }
            },
            "type": "scattercarpet"
           }
          ],
          "scattergeo": [
           {
            "marker": {
             "colorbar": {
              "outlinewidth": 0,
              "ticks": ""
             }
            },
            "type": "scattergeo"
           }
          ],
          "scattergl": [
           {
            "marker": {
             "colorbar": {
              "outlinewidth": 0,
              "ticks": ""
             }
            },
            "type": "scattergl"
           }
          ],
          "scattermapbox": [
           {
            "marker": {
             "colorbar": {
              "outlinewidth": 0,
              "ticks": ""
             }
            },
            "type": "scattermapbox"
           }
          ],
          "scatterpolar": [
           {
            "marker": {
             "colorbar": {
              "outlinewidth": 0,
              "ticks": ""
             }
            },
            "type": "scatterpolar"
           }
          ],
          "scatterpolargl": [
           {
            "marker": {
             "colorbar": {
              "outlinewidth": 0,
              "ticks": ""
             }
            },
            "type": "scatterpolargl"
           }
          ],
          "scatterternary": [
           {
            "marker": {
             "colorbar": {
              "outlinewidth": 0,
              "ticks": ""
             }
            },
            "type": "scatterternary"
           }
          ],
          "surface": [
           {
            "colorbar": {
             "outlinewidth": 0,
             "ticks": ""
            },
            "colorscale": [
             [
              0,
              "#0d0887"
             ],
             [
              0.1111111111111111,
              "#46039f"
             ],
             [
              0.2222222222222222,
              "#7201a8"
             ],
             [
              0.3333333333333333,
              "#9c179e"
             ],
             [
              0.4444444444444444,
              "#bd3786"
             ],
             [
              0.5555555555555556,
              "#d8576b"
             ],
             [
              0.6666666666666666,
              "#ed7953"
             ],
             [
              0.7777777777777778,
              "#fb9f3a"
             ],
             [
              0.8888888888888888,
              "#fdca26"
             ],
             [
              1,
              "#f0f921"
             ]
            ],
            "type": "surface"
           }
          ],
          "table": [
           {
            "cells": {
             "fill": {
              "color": "#EBF0F8"
             },
             "line": {
              "color": "white"
             }
            },
            "header": {
             "fill": {
              "color": "#C8D4E3"
             },
             "line": {
              "color": "white"
             }
            },
            "type": "table"
           }
          ]
         },
         "layout": {
          "annotationdefaults": {
           "arrowcolor": "#2a3f5f",
           "arrowhead": 0,
           "arrowwidth": 1
          },
          "autotypenumbers": "strict",
          "coloraxis": {
           "colorbar": {
            "outlinewidth": 0,
            "ticks": ""
           }
          },
          "colorscale": {
           "diverging": [
            [
             0,
             "#8e0152"
            ],
            [
             0.1,
             "#c51b7d"
            ],
            [
             0.2,
             "#de77ae"
            ],
            [
             0.3,
             "#f1b6da"
            ],
            [
             0.4,
             "#fde0ef"
            ],
            [
             0.5,
             "#f7f7f7"
            ],
            [
             0.6,
             "#e6f5d0"
            ],
            [
             0.7,
             "#b8e186"
            ],
            [
             0.8,
             "#7fbc41"
            ],
            [
             0.9,
             "#4d9221"
            ],
            [
             1,
             "#276419"
            ]
           ],
           "sequential": [
            [
             0,
             "#0d0887"
            ],
            [
             0.1111111111111111,
             "#46039f"
            ],
            [
             0.2222222222222222,
             "#7201a8"
            ],
            [
             0.3333333333333333,
             "#9c179e"
            ],
            [
             0.4444444444444444,
             "#bd3786"
            ],
            [
             0.5555555555555556,
             "#d8576b"
            ],
            [
             0.6666666666666666,
             "#ed7953"
            ],
            [
             0.7777777777777778,
             "#fb9f3a"
            ],
            [
             0.8888888888888888,
             "#fdca26"
            ],
            [
             1,
             "#f0f921"
            ]
           ],
           "sequentialminus": [
            [
             0,
             "#0d0887"
            ],
            [
             0.1111111111111111,
             "#46039f"
            ],
            [
             0.2222222222222222,
             "#7201a8"
            ],
            [
             0.3333333333333333,
             "#9c179e"
            ],
            [
             0.4444444444444444,
             "#bd3786"
            ],
            [
             0.5555555555555556,
             "#d8576b"
            ],
            [
             0.6666666666666666,
             "#ed7953"
            ],
            [
             0.7777777777777778,
             "#fb9f3a"
            ],
            [
             0.8888888888888888,
             "#fdca26"
            ],
            [
             1,
             "#f0f921"
            ]
           ]
          },
          "colorway": [
           "#636efa",
           "#EF553B",
           "#00cc96",
           "#ab63fa",
           "#FFA15A",
           "#19d3f3",
           "#FF6692",
           "#B6E880",
           "#FF97FF",
           "#FECB52"
          ],
          "font": {
           "color": "#2a3f5f"
          },
          "geo": {
           "bgcolor": "white",
           "lakecolor": "white",
           "landcolor": "#E5ECF6",
           "showlakes": true,
           "showland": true,
           "subunitcolor": "white"
          },
          "hoverlabel": {
           "align": "left"
          },
          "hovermode": "closest",
          "mapbox": {
           "style": "light"
          },
          "paper_bgcolor": "white",
          "plot_bgcolor": "#E5ECF6",
          "polar": {
           "angularaxis": {
            "gridcolor": "white",
            "linecolor": "white",
            "ticks": ""
           },
           "bgcolor": "#E5ECF6",
           "radialaxis": {
            "gridcolor": "white",
            "linecolor": "white",
            "ticks": ""
           }
          },
          "scene": {
           "xaxis": {
            "backgroundcolor": "#E5ECF6",
            "gridcolor": "white",
            "gridwidth": 2,
            "linecolor": "white",
            "showbackground": true,
            "ticks": "",
            "zerolinecolor": "white"
           },
           "yaxis": {
            "backgroundcolor": "#E5ECF6",
            "gridcolor": "white",
            "gridwidth": 2,
            "linecolor": "white",
            "showbackground": true,
            "ticks": "",
            "zerolinecolor": "white"
           },
           "zaxis": {
            "backgroundcolor": "#E5ECF6",
            "gridcolor": "white",
            "gridwidth": 2,
            "linecolor": "white",
            "showbackground": true,
            "ticks": "",
            "zerolinecolor": "white"
           }
          },
          "shapedefaults": {
           "line": {
            "color": "#2a3f5f"
           }
          },
          "ternary": {
           "aaxis": {
            "gridcolor": "white",
            "linecolor": "white",
            "ticks": ""
           },
           "baxis": {
            "gridcolor": "white",
            "linecolor": "white",
            "ticks": ""
           },
           "bgcolor": "#E5ECF6",
           "caxis": {
            "gridcolor": "white",
            "linecolor": "white",
            "ticks": ""
           }
          },
          "title": {
           "x": 0.05
          },
          "xaxis": {
           "automargin": true,
           "gridcolor": "white",
           "linecolor": "white",
           "ticks": "",
           "title": {
            "standoff": 15
           },
           "zerolinecolor": "white",
           "zerolinewidth": 2
          },
          "yaxis": {
           "automargin": true,
           "gridcolor": "white",
           "linecolor": "white",
           "ticks": "",
           "title": {
            "standoff": 15
           },
           "zerolinecolor": "white",
           "zerolinewidth": 2
          }
         }
        },
        "xaxis": {
         "anchor": "y",
         "autorange": true,
         "domain": [
          0,
          1
         ],
         "range": [
          -0.5,
          0.5
         ],
         "title": {
          "text": "variable"
         },
         "type": "category"
        },
        "yaxis": {
         "anchor": "x",
         "autorange": true,
         "domain": [
          0,
          1
         ],
         "range": [
          7.272222222222222,
          43.827777777777776
         ],
         "title": {
          "text": "value"
         },
         "type": "linear"
        }
       }
      },
      "image/png": "[encoded data removed]",
      "text/html": [
       "<div>                            <div id=\"7f6c7220-9d90-47d8-976a-cbe10377f9f8\" class=\"plotly-graph-div\" style=\"height:525px; width:100%;\"></div>            <script type=\"text/javascript\">                require([\"plotly\"], function(Plotly) {                    window.PLOTLYENV=window.PLOTLYENV || {};                                    if (document.getElementById(\"7f6c7220-9d90-47d8-976a-cbe10377f9f8\")) {                    Plotly.newPlot(                        \"7f6c7220-9d90-47d8-976a-cbe10377f9f8\",                        [{\"alignmentgroup\":\"True\",\"hovertemplate\":\"variable=%{x}\\u003cbr\\u003evalue=%{y}\\u003cextra\\u003e\\u003c\\u002fextra\\u003e\",\"legendgroup\":\"\",\"marker\":{\"color\":\"#636efa\"},\"name\":\"\",\"notched\":false,\"offsetgroup\":\"\",\"orientation\":\"v\",\"showlegend\":false,\"x\":[\"temperature\",\"temperature\",\"temperature\",\"temperature\",\"temperature\",\"temperature\",\"temperature\",\"temperature\",\"temperature\",\"temperature\",\"temperature\",\"temperature\",\"temperature\",\"temperature\",\"temperature\",\"temperature\",\"temperature\",\"temperature\",\"temperature\",\"temperature\",\"temperature\",\"temperature\",\"temperature\",\"temperature\",\"temperature\",\"temperature\",\"temperature\",\"temperature\",\"temperature\",\"temperature\",\"temperature\",\"temperature\",\"temperature\",\"temperature\",\"temperature\",\"temperature\",\"temperature\",\"temperature\",\"temperature\",\"temperature\",\"temperature\",\"temperature\",\"temperature\",\"temperature\",\"temperature\",\"temperature\",\"temperature\",\"temperature\",\"temperature\",\"temperature\",\"temperature\",\"temperature\",\"temperature\",\"temperature\",\"temperature\",\"temperature\",\"temperature\",\"temperature\",\"temperature\",\"temperature\",\"temperature\",\"temperature\",\"temperature\",\"temperature\",\"temperature\",\"temperature\",\"temperature\",\"temperature\",\"temperature\",\"temperature\",\"temperature\",\"temperature\",\"temperature\",\"temperature\",\"temperature\",\"temperature\",\"temperature\",\"temperature\",\"temperature\",\"temperature\",\"temperature\",\"temperature\",\"temperature\",\"temperature\",\"temperature\",\"temperature\",\"temperature\",\"temperature\",\"temperature\",\"temperature\",\"temperature\",\"temperature\",\"temperature\",\"temperature\",\"temperature\",\"temperature\",\"temperature\",\"temperature\",\"temperature\",\"temperature\",\"temperature\",\"temperature\",\"temperature\",\"temperature\",\"temperature\",\"temperature\",\"temperature\",\"temperature\",\"temperature\",\"temperature\",\"temperature\",\"temperature\",\"temperature\",\"temperature\",\"temperature\",\"temperature\",\"temperature\",\"temperature\",\"temperature\",\"temperature\",\"temperature\",\"temperature\",\"temperature\",\"temperature\",\"temperature\",\"temperature\",\"temperature\",\"temperature\",\"temperature\",\"temperature\",\"temperature\",\"temperature\",\"temperature\",\"temperature\",\"temperature\",\"temperature\",\"temperature\",\"temperature\",\"temperature\",\"temperature\",\"temperature\",\"temperature\",\"temperature\",\"temperature\",\"temperature\",\"temperature\",\"temperature\",\"temperature\",\"temperature\",\"temperature\",\"temperature\",\"temperature\",\"temperature\",\"temperature\",\"temperature\",\"temperature\",\"temperature\",\"temperature\",\"temperature\",\"temperature\",\"temperature\",\"temperature\",\"temperature\",\"temperature\",\"temperature\",\"temperature\",\"temperature\",\"temperature\",\"temperature\",\"temperature\",\"temperature\",\"temperature\",\"temperature\",\"temperature\",\"temperature\",\"temperature\",\"temperature\",\"temperature\",\"temperature\",\"temperature\",\"temperature\",\"temperature\",\"temperature\",\"temperature\",\"temperature\",\"temperature\",\"temperature\",\"temperature\",\"temperature\",\"temperature\",\"temperature\",\"temperature\",\"temperature\",\"temperature\",\"temperature\",\"temperature\",\"temperature\",\"temperature\",\"temperature\",\"temperature\",\"temperature\",\"temperature\",\"temperature\",\"temperature\",\"temperature\",\"temperature\",\"temperature\",\"temperature\",\"temperature\",\"temperature\",\"temperature\",\"temperature\",\"temperature\",\"temperature\",\"temperature\",\"temperature\",\"temperature\",\"temperature\",\"temperature\",\"temperature\",\"temperature\",\"temperature\",\"temperature\",\"temperature\",\"temperature\",\"temperature\",\"temperature\",\"temperature\",\"temperature\",\"temperature\",\"temperature\",\"temperature\",\"temperature\",\"temperature\",\"temperature\",\"temperature\",\"temperature\",\"temperature\",\"temperature\",\"temperature\",\"temperature\",\"temperature\",\"temperature\",\"temperature\",\"temperature\",\"temperature\",\"temperature\",\"temperature\",\"temperature\",\"temperature\",\"temperature\",\"temperature\",\"temperature\",\"temperature\",\"temperature\",\"temperature\",\"temperature\",\"temperature\",\"temperature\",\"temperature\",\"temperature\",\"temperature\",\"temperature\",\"temperature\",\"temperature\",\"temperature\",\"temperature\",\"temperature\",\"temperature\",\"temperature\",\"temperature\",\"temperature\",\"temperature\",\"temperature\",\"temperature\",\"temperature\",\"temperature\",\"temperature\",\"temperature\",\"temperature\",\"temperature\",\"temperature\",\"temperature\",\"temperature\",\"temperature\",\"temperature\",\"temperature\",\"temperature\",\"temperature\",\"temperature\",\"temperature\",\"temperature\",\"temperature\",\"temperature\",\"temperature\",\"temperature\",\"temperature\",\"temperature\",\"temperature\",\"temperature\",\"temperature\",\"temperature\",\"temperature\",\"temperature\",\"temperature\",\"temperature\",\"temperature\",\"temperature\",\"temperature\",\"temperature\",\"temperature\",\"temperature\",\"temperature\",\"temperature\",\"temperature\",\"temperature\",\"temperature\",\"temperature\",\"temperature\",\"temperature\",\"temperature\",\"temperature\",\"temperature\",\"temperature\",\"temperature\",\"temperature\",\"temperature\",\"temperature\",\"temperature\",\"temperature\",\"temperature\",\"temperature\",\"temperature\",\"temperature\",\"temperature\",\"temperature\",\"temperature\",\"temperature\",\"temperature\",\"temperature\",\"temperature\",\"temperature\",\"temperature\",\"temperature\",\"temperature\",\"temperature\",\"temperature\",\"temperature\",\"temperature\",\"temperature\",\"temperature\",\"temperature\",\"temperature\",\"temperature\",\"temperature\",\"temperature\",\"temperature\",\"temperature\",\"temperature\",\"temperature\",\"temperature\",\"temperature\",\"temperature\",\"temperature\",\"temperature\",\"temperature\",\"temperature\",\"temperature\",\"temperature\",\"temperature\",\"temperature\",\"temperature\",\"temperature\",\"temperature\",\"temperature\",\"temperature\",\"temperature\",\"temperature\",\"temperature\",\"temperature\",\"temperature\",\"temperature\",\"temperature\",\"temperature\",\"temperature\",\"temperature\",\"temperature\",\"temperature\",\"temperature\",\"temperature\",\"temperature\",\"temperature\",\"temperature\",\"temperature\",\"temperature\",\"temperature\",\"temperature\",\"temperature\",\"temperature\",\"temperature\",\"temperature\",\"temperature\",\"temperature\",\"temperature\",\"temperature\",\"temperature\",\"temperature\",\"temperature\",\"temperature\",\"temperature\",\"temperature\",\"temperature\",\"temperature\",\"temperature\",\"temperature\",\"temperature\",\"temperature\",\"temperature\",\"temperature\",\"temperature\",\"temperature\",\"temperature\",\"temperature\",\"temperature\",\"temperature\",\"temperature\",\"temperature\",\"temperature\",\"temperature\",\"temperature\",\"temperature\",\"temperature\",\"temperature\",\"temperature\",\"temperature\",\"temperature\",\"temperature\",\"temperature\",\"temperature\",\"temperature\",\"temperature\",\"temperature\",\"temperature\",\"temperature\",\"temperature\",\"temperature\",\"temperature\",\"temperature\",\"temperature\",\"temperature\",\"temperature\",\"temperature\",\"temperature\",\"temperature\",\"temperature\",\"temperature\",\"temperature\",\"temperature\",\"temperature\",\"temperature\",\"temperature\",\"temperature\",\"temperature\",\"temperature\",\"temperature\",\"temperature\",\"temperature\",\"temperature\",\"temperature\",\"temperature\",\"temperature\",\"temperature\",\"temperature\",\"temperature\",\"temperature\",\"temperature\",\"temperature\",\"temperature\",\"temperature\",\"temperature\",\"temperature\",\"temperature\",\"temperature\",\"temperature\",\"temperature\",\"temperature\",\"temperature\",\"temperature\",\"temperature\",\"temperature\",\"temperature\",\"temperature\",\"temperature\",\"temperature\",\"temperature\",\"temperature\",\"temperature\",\"temperature\",\"temperature\",\"temperature\"],\"x0\":\" \",\"xaxis\":\"x\",\"y\":[36.5,38.1,37.4,39.1,38.5,35.1,36.7,39.8,39.9,38.4,36.3,37.5,37.1,35.8,38.0,37.4,36.7,38.2,38.1,35.6,38.2,37.9,36.4,37.6,38.1,37.4,37.7,37.1,36.9,38.2,37.9,38.1,36.2,36.7,38.4,37.3,37.4,37.0,37.0,39.5,37.1,35.7,38.6,38.1,37.6,38.7,35.9,36.1,36.7,38.0,38.0,36.8,37.9,37.8,38.2,39.3,38.6,38.4,37.2,36.7,36.1,37.1,36.5,37.2,36.5,38.5,38.8,37.2,38.8,36.8,37.9,39.2,37.5,37.9,33.9,38.1,37.5,36.4,37.0,36.4,36.4,37.1,35.0,38.7,37.1,37.2,37.0,40.3,37.7,37.0,35.6,38.4,36.8,38.3,39.7,36.6,39.4,37.4,35.9,35.9,36.4,38.3,37.9,37.7,38.7,38.7,38.1,38.6,37.7,39.0,36.5,39.6,38.3,37.5,39.4,36.7,37.5,39.1,36.3,38.0,38.8,37.5,37.2,37.3,38.2,39.8,36.6,37.0,40.9,37.4,36.6,37.2,37.1,37.9,37.4,38.9,36.5,36.9,37.4,37.6,35.4,36.3,39.4,37.9,36.7,38.6,37.8,35.4,40.1,40.0,36.5,37.2,37.3,36.3,38.2,37.7,39.6,36.0,38.7,38.8,37.2,40.0,38.0,37.4,37.1,38.3,36.7,37.5,37.2,38.8,36.9,38.4,37.2,37.9,37.5,37.2,37.9,38.3,37.7,40.1,38.5,37.5,38.9,38.0,37.6,37.8,38.1,38.1,35.7,37.5,38.6,37.6,38.2,40.1,36.1,37.2,38.0,37.1,36.5,39.3,39.5,38.0,37.6,37.3,36.1,37.3,37.2,38.6,37.7,36.3,39.2,38.5,37.0,37.3,37.6,38.5,36.8,36.6,38.9,38.4,36.8,37.8,37.3,39.9,37.4,39.9,37.2,37.7,40.6,38.2,38.1,36.8,34.8,39.5,37.9,38.0,35.1,37.8,36.5,39.5,37.3,39.1,37.1,35.8,37.0,38.2,37.9,37.3,37.4,37.9,37.9,39.2,37.4,39.1,39.4,38.4,38.6,36.9,37.1,36.9,38.0,36.4,39.0,38.0,36.5,40.6,36.9,38.1,38.4,37.4,37.9,36.8,38.3,39.0,38.3,37.9,38.1,36.3,37.8,38.4,37.4,36.6,37.0,37.4,36.8,36.9,36.6,38.4,39.0,38.1,36.6,38.0,37.0,36.3,36.9,37.4,38.0,38.7,38.2,36.7,40.7,36.0,36.4,39.0,37.1,38.8,37.8,38.0,36.7,39.7,38.2,36.7,36.7,37.6,37.0,36.7,36.7,38.8,39.1,36.3,36.7,36.2,39.1,38.1,37.0,37.4,37.6,38.7,37.5,35.9,36.5,38.3,37.8,38.2,36.4,40.4,36.5,39.3,37.3,38.6,36.6,38.8,38.3,36.3,38.7,37.3,37.1,37.5,36.5,37.5,38.5,37.6,40.1,36.9,36.2,36.0,40.8,38.3,37.5,37.7,34.7,39.8,38.6,38.0,39.4,38.7,38.8,38.5,39.5,37.0,39.7,36.8,37.7,38.0,38.8,38.5,38.5,36.8,38.6,37.8,37.8,36.2,36.8,36.1,37.6,38.1,40.9,37.3,39.3,40.1,38.3,36.5,37.9,38.4,38.5,38.8,42.0,9.1,37.1,38.7,38.7,38.9,39.6,37.3,37.8,38.7,36.3,36.7,36.8,37.9,36.2,39.0,37.9,37.8,37.0,38.0,36.4,38.1,38.1,37.9,38.0,37.8,39.0,38.0,37.6,38.1,35.5,37.4,37.7,41.1,38.6,38.1,38.5,38.2,36.3,36.0,39.2,36.2,39.9,37.9,36.9,36.1,36.5,37.3,38.5,37.0,37.8,37.9,38.4,37.9,36.5,35.5,39.2,36.8,37.3,39.0,36.5,37.5,37.1,37.0,37.1,36.8,39.7,35.4,36.9,39.9,38.4,37.5,41.0,36.3,39.4,35.9,37.5,35.9,36.9,36.3,37.1,37.3,35.5,38.0,37.4,38.4,39.7,39.3,38.6,37.3,38.7,37.4,38.5,38.0,36.3,37.2,37.2,40.8,38.5,37.3,38.0,37.9,36.0,37.6],\"y0\":\" \",\"yaxis\":\"y\",\"type\":\"box\"}],                        {\"template\":{\"data\":{\"histogram2dcontour\":[{\"type\":\"histogram2dcontour\",\"colorbar\":{\"outlinewidth\":0,\"ticks\":\"\"},\"colorscale\":[[0.0,\"#0d0887\"],[0.1111111111111111,\"#46039f\"],[0.2222222222222222,\"#7201a8\"],[0.3333333333333333,\"#9c179e\"],[0.4444444444444444,\"#bd3786\"],[0.5555555555555556,\"#d8576b\"],[0.6666666666666666,\"#ed7953\"],[0.7777777777777778,\"#fb9f3a\"],[0.8888888888888888,\"#fdca26\"],[1.0,\"#f0f921\"]]}],\"choropleth\":[{\"type\":\"choropleth\",\"colorbar\":{\"outlinewidth\":0,\"ticks\":\"\"}}],\"histogram2d\":[{\"type\":\"histogram2d\",\"colorbar\":{\"outlinewidth\":0,\"ticks\":\"\"},\"colorscale\":[[0.0,\"#0d0887\"],[0.1111111111111111,\"#46039f\"],[0.2222222222222222,\"#7201a8\"],[0.3333333333333333,\"#9c179e\"],[0.4444444444444444,\"#bd3786\"],[0.5555555555555556,\"#d8576b\"],[0.6666666666666666,\"#ed7953\"],[0.7777777777777778,\"#fb9f3a\"],[0.8888888888888888,\"#fdca26\"],[1.0,\"#f0f921\"]]}],\"heatmap\":[{\"type\":\"heatmap\",\"colorbar\":{\"outlinewidth\":0,\"ticks\":\"\"},\"colorscale\":[[0.0,\"#0d0887\"],[0.1111111111111111,\"#46039f\"],[0.2222222222222222,\"#7201a8\"],[0.3333333333333333,\"#9c179e\"],[0.4444444444444444,\"#bd3786\"],[0.5555555555555556,\"#d8576b\"],[0.6666666666666666,\"#ed7953\"],[0.7777777777777778,\"#fb9f3a\"],[0.8888888888888888,\"#fdca26\"],[1.0,\"#f0f921\"]]}],\"heatmapgl\":[{\"type\":\"heatmapgl\",\"colorbar\":{\"outlinewidth\":0,\"ticks\":\"\"},\"colorscale\":[[0.0,\"#0d0887\"],[0.1111111111111111,\"#46039f\"],[0.2222222222222222,\"#7201a8\"],[0.3333333333333333,\"#9c179e\"],[0.4444444444444444,\"#bd3786\"],[0.5555555555555556,\"#d8576b\"],[0.6666666666666666,\"#ed7953\"],[0.7777777777777778,\"#fb9f3a\"],[0.8888888888888888,\"#fdca26\"],[1.0,\"#f0f921\"]]}],\"contourcarpet\":[{\"type\":\"contourcarpet\",\"colorbar\":{\"outlinewidth\":0,\"ticks\":\"\"}}],\"contour\":[{\"type\":\"contour\",\"colorbar\":{\"outlinewidth\":0,\"ticks\":\"\"},\"colorscale\":[[0.0,\"#0d0887\"],[0.1111111111111111,\"#46039f\"],[0.2222222222222222,\"#7201a8\"],[0.3333333333333333,\"#9c179e\"],[0.4444444444444444,\"#bd3786\"],[0.5555555555555556,\"#d8576b\"],[0.6666666666666666,\"#ed7953\"],[0.7777777777777778,\"#fb9f3a\"],[0.8888888888888888,\"#fdca26\"],[1.0,\"#f0f921\"]]}],\"surface\":[{\"type\":\"surface\",\"colorbar\":{\"outlinewidth\":0,\"ticks\":\"\"},\"colorscale\":[[0.0,\"#0d0887\"],[0.1111111111111111,\"#46039f\"],[0.2222222222222222,\"#7201a8\"],[0.3333333333333333,\"#9c179e\"],[0.4444444444444444,\"#bd3786\"],[0.5555555555555556,\"#d8576b\"],[0.6666666666666666,\"#ed7953\"],[0.7777777777777778,\"#fb9f3a\"],[0.8888888888888888,\"#fdca26\"],[1.0,\"#f0f921\"]]}],\"mesh3d\":[{\"type\":\"mesh3d\",\"colorbar\":{\"outlinewidth\":0,\"ticks\":\"\"}}],\"scatter\":[{\"fillpattern\":{\"fillmode\":\"overlay\",\"size\":10,\"solidity\":0.2},\"type\":\"scatter\"}],\"parcoords\":[{\"type\":\"parcoords\",\"line\":{\"colorbar\":{\"outlinewidth\":0,\"ticks\":\"\"}}}],\"scatterpolargl\":[{\"type\":\"scatterpolargl\",\"marker\":{\"colorbar\":{\"outlinewidth\":0,\"ticks\":\"\"}}}],\"bar\":[{\"error_x\":{\"color\":\"#2a3f5f\"},\"error_y\":{\"color\":\"#2a3f5f\"},\"marker\":{\"line\":{\"color\":\"#E5ECF6\",\"width\":0.5},\"pattern\":{\"fillmode\":\"overlay\",\"size\":10,\"solidity\":0.2}},\"type\":\"bar\"}],\"scattergeo\":[{\"type\":\"scattergeo\",\"marker\":{\"colorbar\":{\"outlinewidth\":0,\"ticks\":\"\"}}}],\"scatterpolar\":[{\"type\":\"scatterpolar\",\"marker\":{\"colorbar\":{\"outlinewidth\":0,\"ticks\":\"\"}}}],\"histogram\":[{\"marker\":{\"pattern\":{\"fillmode\":\"overlay\",\"size\":10,\"solidity\":0.2}},\"type\":\"histogram\"}],\"scattergl\":[{\"type\":\"scattergl\",\"marker\":{\"colorbar\":{\"outlinewidth\":0,\"ticks\":\"\"}}}],\"scatter3d\":[{\"type\":\"scatter3d\",\"line\":{\"colorbar\":{\"outlinewidth\":0,\"ticks\":\"\"}},\"marker\":{\"colorbar\":{\"outlinewidth\":0,\"ticks\":\"\"}}}],\"scattermapbox\":[{\"type\":\"scattermapbox\",\"marker\":{\"colorbar\":{\"outlinewidth\":0,\"ticks\":\"\"}}}],\"scatterternary\":[{\"type\":\"scatterternary\",\"marker\":{\"colorbar\":{\"outlinewidth\":0,\"ticks\":\"\"}}}],\"scattercarpet\":[{\"type\":\"scattercarpet\",\"marker\":{\"colorbar\":{\"outlinewidth\":0,\"ticks\":\"\"}}}],\"carpet\":[{\"aaxis\":{\"endlinecolor\":\"#2a3f5f\",\"gridcolor\":\"white\",\"linecolor\":\"white\",\"minorgridcolor\":\"white\",\"startlinecolor\":\"#2a3f5f\"},\"baxis\":{\"endlinecolor\":\"#2a3f5f\",\"gridcolor\":\"white\",\"linecolor\":\"white\",\"minorgridcolor\":\"white\",\"startlinecolor\":\"#2a3f5f\"},\"type\":\"carpet\"}],\"table\":[{\"cells\":{\"fill\":{\"color\":\"#EBF0F8\"},\"line\":{\"color\":\"white\"}},\"header\":{\"fill\":{\"color\":\"#C8D4E3\"},\"line\":{\"color\":\"white\"}},\"type\":\"table\"}],\"barpolar\":[{\"marker\":{\"line\":{\"color\":\"#E5ECF6\",\"width\":0.5},\"pattern\":{\"fillmode\":\"overlay\",\"size\":10,\"solidity\":0.2}},\"type\":\"barpolar\"}],\"pie\":[{\"automargin\":true,\"type\":\"pie\"}]},\"layout\":{\"autotypenumbers\":\"strict\",\"colorway\":[\"#636efa\",\"#EF553B\",\"#00cc96\",\"#ab63fa\",\"#FFA15A\",\"#19d3f3\",\"#FF6692\",\"#B6E880\",\"#FF97FF\",\"#FECB52\"],\"font\":{\"color\":\"#2a3f5f\"},\"hovermode\":\"closest\",\"hoverlabel\":{\"align\":\"left\"},\"paper_bgcolor\":\"white\",\"plot_bgcolor\":\"#E5ECF6\",\"polar\":{\"bgcolor\":\"#E5ECF6\",\"angularaxis\":{\"gridcolor\":\"white\",\"linecolor\":\"white\",\"ticks\":\"\"},\"radialaxis\":{\"gridcolor\":\"white\",\"linecolor\":\"white\",\"ticks\":\"\"}},\"ternary\":{\"bgcolor\":\"#E5ECF6\",\"aaxis\":{\"gridcolor\":\"white\",\"linecolor\":\"white\",\"ticks\":\"\"},\"baxis\":{\"gridcolor\":\"white\",\"linecolor\":\"white\",\"ticks\":\"\"},\"caxis\":{\"gridcolor\":\"white\",\"linecolor\":\"white\",\"ticks\":\"\"}},\"coloraxis\":{\"colorbar\":{\"outlinewidth\":0,\"ticks\":\"\"}},\"colorscale\":{\"sequential\":[[0.0,\"#0d0887\"],[0.1111111111111111,\"#46039f\"],[0.2222222222222222,\"#7201a8\"],[0.3333333333333333,\"#9c179e\"],[0.4444444444444444,\"#bd3786\"],[0.5555555555555556,\"#d8576b\"],[0.6666666666666666,\"#ed7953\"],[0.7777777777777778,\"#fb9f3a\"],[0.8888888888888888,\"#fdca26\"],[1.0,\"#f0f921\"]],\"sequentialminus\":[[0.0,\"#0d0887\"],[0.1111111111111111,\"#46039f\"],[0.2222222222222222,\"#7201a8\"],[0.3333333333333333,\"#9c179e\"],[0.4444444444444444,\"#bd3786\"],[0.5555555555555556,\"#d8576b\"],[0.6666666666666666,\"#ed7953\"],[0.7777777777777778,\"#fb9f3a\"],[0.8888888888888888,\"#fdca26\"],[1.0,\"#f0f921\"]],\"diverging\":[[0,\"#8e0152\"],[0.1,\"#c51b7d\"],[0.2,\"#de77ae\"],[0.3,\"#f1b6da\"],[0.4,\"#fde0ef\"],[0.5,\"#f7f7f7\"],[0.6,\"#e6f5d0\"],[0.7,\"#b8e186\"],[0.8,\"#7fbc41\"],[0.9,\"#4d9221\"],[1,\"#276419\"]]},\"xaxis\":{\"gridcolor\":\"white\",\"linecolor\":\"white\",\"ticks\":\"\",\"title\":{\"standoff\":15},\"zerolinecolor\":\"white\",\"automargin\":true,\"zerolinewidth\":2},\"yaxis\":{\"gridcolor\":\"white\",\"linecolor\":\"white\",\"ticks\":\"\",\"title\":{\"standoff\":15},\"zerolinecolor\":\"white\",\"automargin\":true,\"zerolinewidth\":2},\"scene\":{\"xaxis\":{\"backgroundcolor\":\"#E5ECF6\",\"gridcolor\":\"white\",\"linecolor\":\"white\",\"showbackground\":true,\"ticks\":\"\",\"zerolinecolor\":\"white\",\"gridwidth\":2},\"yaxis\":{\"backgroundcolor\":\"#E5ECF6\",\"gridcolor\":\"white\",\"linecolor\":\"white\",\"showbackground\":true,\"ticks\":\"\",\"zerolinecolor\":\"white\",\"gridwidth\":2},\"zaxis\":{\"backgroundcolor\":\"#E5ECF6\",\"gridcolor\":\"white\",\"linecolor\":\"white\",\"showbackground\":true,\"ticks\":\"\",\"zerolinecolor\":\"white\",\"gridwidth\":2}},\"shapedefaults\":{\"line\":{\"color\":\"#2a3f5f\"}},\"annotationdefaults\":{\"arrowcolor\":\"#2a3f5f\",\"arrowhead\":0,\"arrowwidth\":1},\"geo\":{\"bgcolor\":\"white\",\"landcolor\":\"#E5ECF6\",\"subunitcolor\":\"white\",\"showland\":true,\"showlakes\":true,\"lakecolor\":\"white\"},\"title\":{\"x\":0.05},\"mapbox\":{\"style\":\"light\"}}},\"xaxis\":{\"anchor\":\"y\",\"domain\":[0.0,1.0],\"title\":{\"text\":\"variable\"}},\"yaxis\":{\"anchor\":\"x\",\"domain\":[0.0,1.0],\"title\":{\"text\":\"value\"}},\"legend\":{\"tracegroupgap\":0},\"margin\":{\"t\":60},\"boxmode\":\"group\"},                        {\"responsive\": true}                    ).then(function(){\n",
       "                            \n",
       "var gd = document.getElementById('7f6c7220-9d90-47d8-976a-cbe10377f9f8');\n",
       "var x = new MutationObserver(function (mutations, observer) {{\n",
       "        var display = window.getComputedStyle(gd).display;\n",
       "        if (!display || display === 'none') {{\n",
       "            console.log([gd, 'removed!']);\n",
       "            Plotly.purge(gd);\n",
       "            observer.disconnect();\n",
       "        }}\n",
       "}});\n",
       "\n",
       "// Listen for the removal of the full notebook cells\n",
       "var notebookContainer = gd.closest('#notebook-container');\n",
       "if (notebookContainer) {{\n",
       "    x.observe(notebookContainer, {childList: true});\n",
       "}}\n",
       "\n",
       "// Listen for the clearing of the current output cell\n",
       "var outputEl = gd.closest('.output');\n",
       "if (outputEl) {{\n",
       "    x.observe(outputEl, {childList: true});\n",
       "}}\n",
       "\n",
       "                        })                };                });            </script>        </div>"
      ]
     },
     "metadata": {},
     "output_type": "display_data"
    }
   ],
   "source": [
    "px.box(icu.temperature) #histogram çizen bir program çizip gel"
   ]
  },
  {
   "cell_type": "code",
   "execution_count": null,
   "id": "9e21f637-94c1-4edb-88b0-e6ef135e4370",
   "metadata": {},
   "outputs": [],
   "source": [
    "print(f\"mean: {}\") # sağ çarpık "
   ]
  },
  {
   "cell_type": "code",
   "execution_count": null,
   "id": "3606e7d3-d3e2-4559-b128-28c1122823e5",
   "metadata": {},
   "outputs": [],
   "source": []
  }
 ],
 "metadata": {
  "kernelspec": {
   "display_name": "Python 3 (ipykernel)",
   "language": "python",
   "name": "python3"
  },
  "language_info": {
   "codemirror_mode": {
    "name": "ipython",
    "version": 3
   },
   "file_extension": ".py",
   "mimetype": "text/x-python",
   "name": "python",
   "nbconvert_exporter": "python",
   "pygments_lexer": "ipython3",
   "version": "3.10.12"
  }
 },
 "nbformat": 4,
 "nbformat_minor": 5
}
