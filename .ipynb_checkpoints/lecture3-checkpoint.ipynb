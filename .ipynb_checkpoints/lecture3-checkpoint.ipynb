{
 "cells": [
  {
   "cell_type": "markdown",
   "id": "3fbc3276-56b6-46a5-bca4-20b713055380",
   "metadata": {},
   "source": [
    "## İstatistiksel Testler"
   ]
  },
  {
   "cell_type": "markdown",
   "id": "5eca0864-ed69-4cf4-a5c4-f6f07dc2e485",
   "metadata": {},
   "source": [
    "Ampirik incelemeler ve çalışmalar genellikle yeni bir fikirle, genellikle açık olan belirli bir sorun hakkında bir varsayımla başlar. Bu varsayım genellikle ampirik gözlemler ve/veya konuya özgü teorik değerlendirmeler temelinde ortaya atılır. Kesin ve ölçülebilir bir şekilde formüle edilebildiği takdirde, bir varsayımın doğrulanmasını kolaylaştırır. Bu durumda bir hipotezden söz edilir. Öncelikle, hipotezin genel olarak akla yatkın olup olmadığını doğrulamak için sorunla ilgili mevcut tüm bilgiler toplanmalı ve teorik arka plan detaylandırılmalıdır. Sıklıkla, bu sayede hipotezin doğru olamayacağı zaten anlaşılır ve bu da işten (ve paradan) tasarruf sağlar. Birçok alanda, hipotezlerin doğrudan kanıtlanması mümkün değildir ve tek bir deneyle doğrudan doğrulanamazlar. Bu noktada istatistik devreye girer. Problem için temsili ve ilgili verileri toplanır ve verileri istatistiksel bir analize tabi tutulur, burada sonuçlar sözde istatistiksel testlerle sağlanabilir. Aşağıdaki örnekte genel yaklaşım bir zar oyunu üzerinden anlatılmaktadır.\n",
    "\n",
    "\"6\" atenspn önemli olduğu bir zar oyunu düşünelim. Bir süre oynadıktan sonra, zarın nadiren \"6\" geldiği fark ediliyor. Bu nedenle, varsayım:</br>\n",
    "&ensp;&ensp;&ensp;&ensp;\"6\"'nın frekansı çok küçük</br>\n",
    "veya\n",
    "&ensp;&ensp;&ensp;&ensp;\"6\"'nın frekansı yanlıştır.</br>\n",
    "\n",
    "Özellikle bu, zarın her tarafının aynı olasılıkla gelmeyeceği anlamına gelir; yani zar adil değildir. Varsayımın kesin ve ölçülebilir formülasyonu hipoteze yol açar:</br>\n",
    "\n",
    "\"6\"nın olasılığı p $\\frac{1}{6}$'ya eşit değildir; kısaltılmıştır: 𝑝 ≠  $\\frac{1}{6}$ <br/>\n",
    "\n",
    "Genel olarak, istatistiksel testler yoluyla bir cevap ancak birbirini dışlayan durumlar varsa mümkündür. Zar için ya:<br/>\n",
    "\n",
    "&ensp;&ensp;&ensp;&ensp; Hipotezimiz doğrudur yani : 𝑝 ≠ $\\frac{1}{6}$ <br/>\n",
    "\n",
    "veya\n",
    "\n",
    "&ensp;&ensp;&ensp;&ensp; Hipotezimiz doğru değildir : 𝑝 = $\\frac{1}{6}$ </br>\n",
    "\n",
    "Mevcut durumda, n kez zar atarak ve \"6\" sayısını sayarak hipotez için bilgi (kanıt) toplanır. İstatistiksel testler aracılığıyla cevaplayabileceğimiz açık sorular şunlardır:\n",
    "\n",
    "- Ne sıklıkta zar atılmalı?\n",
    "- Hipotezin lehinde veya aleyhinde karar vermek için kaç tane \"6 \"ya ihtiyaç var?\n",
    "\n",
    "Önceki örnekte de görüldüğü gibi, istatistiksel testlerin kökeninde birbirini dışlayan iki hipotez vardır. Bunlar genellikle aşağıdaki gibi gösterilir:\n",
    "\n",
    "**Null hypothesis $H_{0}$** </br>\n",
    "**Alternative (hypothesis) $H_{1}$ :** Doğrulanması gereken hipotez (araştırma hipotezi)</br>\n",
    "\n",
    "Yine \"6\" atmanın önemli olduğu zar oyununu ele alalım. Burada elde edilen şudur:</br>\n",
    "Null hypothesis  $H_{0}$ : p = $\\frac{1}{6}$ &ensp;&ensp;&ensp;&ensp;Alternative $H_{1}$ : 𝑝 ≠ $\\frac{1}{6}$ </br>\n",
    "\n",
    "Alternatif, 𝑝 < $\\frac{1}{6}$ ve 𝑝 > $\\frac{1}{6}$ durumlarını içerdiğinden, buna iki taraflı hipotez de denir. </br>\n",
    "\n",
    "Çıkarımsal istatistik çerçevesinde, daha büyük popülasyonların (temsili) örnekleri varsayılır. Hesaplanan tüm değerler somut örnekleme bağlıdır ve kontrol edilemeyen rastgele değişimlere tabidir. İstatistiksel sonuçlara dayanarak verilen kararlar göz önünde bulundurulduğunda, yanlış kararlardan asla tamamen kaçınılamayacağı sonucuna varmak gerekir. Küçük pozitif bir olasılıkla yanlış bir karar verilmesi kaçınılmazdır. Bu durum istatistiksel testlere aktarılırsa, aşağıdaki tabloda gösterilen durum elde edilir.\n",
    "\n",
    "\n",
    "![image](figure25.png)\n",
    "\n",
    "Dolayısıyla, olası yanlış kararlar şunlardır:</br>\n",
    "\n",
    "**Type I error :** Doğru olmasına rağmen $H_{0}$'ı reddetme olasılığı.</br>\n",
    "**Type II error :** Yanlış olmasına rağmen $H_{0}$'ın reddedilmeme olasılığı.</br>\n",
    "\n",
    "**Örnek:** Tıpta aşağıdaki durumu göz önünde bulundurulmaktadır: Uzun yıllardır kullanılan etkili ve güvenli olan,  altın standart olarak adlandırılan bir tedavi mevcuttur. Şimdi, bazı kişiler yeni tedavi yaklaşımının daha da etkili olduğuna ikna olmuş durumdadır. </br>\n",
    "\n",
    "Bu durumda, yeni yaklaşım daha iyi olmasa da, hatta belki de daha kötü olsa da, altın standardın aleyhine ve yeni tedavi lehine karar verilmesi I. tip bir hata olacaktır. Sonuç olarak, hastalar daha etkili bir tedaviden mahrum bırakılır ve tedavinin yan etkileri olduğu durumlarda hastalara zarar bile verebilir. </br>\n",
    "\n",
    "Buna karşılık, tip II hata, yeni yaklaşım aslında daha iyi olmasına rağmen altın standardın korunmasıdır. Yani, iyileştirme için bir şans kaçırılmıştır. Ancak hastalar yine de etkili ve güvenli bir tedavi alırlar.</br>\n",
    "\n",
    "Bu tıbbi uygulamada, I. tip hata daha ciddi bir yanlış karar olacaktır.</br>\n",
    "\n",
    "**Type I error:**\n",
    "- Bu kaçınılmazdır, ancak kontrol edilebilir.\n",
    "- Hata olasılığı test yapılmadan önce ayarlanmalıdır.\n",
    "- α, $H_{0}$'ın sırasıyla kabul ve ret bölgesini belirlemek için temel oluşturur.\n",
    "- Prensip olarak α keyfi olarak seçilebilir. Standart seçim α = 0.05'tir, bazen α = 0.01 veya daha küçük de kullanılır.\n",
    "- H1'in kabulüne bağlı olarak istatistiksel olarak anlamlı (α = 0.05), istatistiksel olarak çok anlamlı (α = 0.01) veya istatistiksel olarak aşırı veya yüksek anlamlı (α = 0:001) olarak da adlandırılır.\n",
    "\n",
    "**Type II error:**\n",
    "- Bunu belirlemek/tahmin etmek zordur.\n",
    "- Genel olarak bu geçerlidir: α ne kadar büyükse, β o kadar küçüktür; yani küçük α ve küçük β birbiriyle rekabet eden iki amaçtır.\n",
    "- Örneklem büyüklüğü n ne kadar büyükse, β o kadar küçüktür. Pratikte, β'yı kontrol etmenin tek yolu budur ve ayrıntılı bir örneklem büyüklüğü hesaplaması ve güç analizi yapılması gerektiği anlamına gelir.\n",
    "\n",
    "Aşağıdaki liste istatistiksel bir testin yürütülmesi için gerekli adımları içermektedir. \n",
    "- $H_{0}$ ve $H_{1}$ hipotezlerinin tanımı (tek/iki taraflı?)\n",
    "- I tipi hatanın düzeltilmesi (anlamlılık düzeyi)\n",
    "- Uygun bir test seçimi T\n",
    "- Örneklem büyüklüğü hesaplaması ve güç analizi\n",
    "- $H_{0}$'ın ret ve kabul bölgesinin belirlenmesi\n",
    "- Deneylerin yürütülmesi ve ilgili verilerin oluşturulması 𝑥1 , ... , 𝑥𝑛\n",
    "- Test istatistiklerinin hesaplanması t = T ( 𝑥1 , ... , 𝑥𝑛 )\n",
    "- $H_{1}$ veya $H_{0}$ için karar\n",
    "\n",
    "Uygulamada, test kararı genellikle **p** değeri olarak adlandırılan değere dayanır. \n",
    "\n",
    "**Eğer p ≤ α ise: $H_{0}$ reddedilir.** </br>\n",
    "**Eğer p > α ise: $H_{0}$'ın kabulü, yani $H_{1}$'in reddi**</br>\n",
    "\n",
    "**Örnek :**  Karşılaştırmak istediğimiz iki grup içeren (bir popülasyon varsayalım. Belirli bir X özelliğinin beklentisiyle (konum parametresi) ilgileniyoruz. Ayrıca, özelliğin normal dağıldığını (en azından yaklaşık olarak) ve her iki grup için de aynı varyanslara sahip olduğunu varsayıyoruz; yani, grup I için: X1 ∼ Norm ($μ_{1}$, $σ^{2}$) ve2 rup II için: X2 ∼ Norm ($μ_{2}$, $σ^{2}$).\n",
    "\n",
    "- Şu hipotezler belirlenmiştir. $H_{0}$ ∶ $μ_{1}$ = $μ_{2}$ </br>\n",
    "$H_{1}$ ∶ $μ_{1}$ ≠ $μ_{2}$\n",
    "- Standart tip I hata(anlam düzeyi): α = 0.05\n"
   ]
  },
  {
   "cell_type": "code",
   "execution_count": 2,
   "id": "459f31c5-ead9-4f44-8525-768307772242",
   "metadata": {},
   "outputs": [],
   "source": [
    "import numpy as np\n",
    "\n",
    "x = np.random.normal(loc=0.5, scale=1, size=20)\n",
    "y = np.random.normal(loc=1.5, scale=1, size=20)"
   ]
  },
  {
   "cell_type": "code",
   "execution_count": 4,
   "id": "52e9694f-f971-48ba-9a60-d5ff8afc5cef",
   "metadata": {},
   "outputs": [
    {
     "data": {
      "text/plain": [
       "ShapiroResult(statistic=0.9575220346450806, pvalue=0.49561214447021484)"
      ]
     },
     "execution_count": 4,
     "metadata": {},
     "output_type": "execute_result"
    }
   ],
   "source": [
    "import scipy.stats as sts\n",
    "sts.shapiro(x)\n",
    "sts.shapiro(y)"
   ]
  },
  {
   "cell_type": "code",
   "execution_count": 6,
   "id": "37040c89-a31a-430c-a07c-6aba45fdb17c",
   "metadata": {},
   "outputs": [
    {
     "data": {
      "text/plain": [
       "(0.1148696851342802, 0.6877641204006828)"
      ]
     },
     "execution_count": 6,
     "metadata": {},
     "output_type": "execute_result"
    }
   ],
   "source": [
    "from statsmodels.stats.diagnostic import lilliefors\n",
    "lilliefors(x, pvalmethod=\"approx\")\n",
    "lilliefors(y, pvalmethod=\"approx\")"
   ]
  },
  {
   "cell_type": "code",
   "execution_count": 8,
   "id": "8a39a57f-8ad9-43aa-b6d8-9716331c9edb",
   "metadata": {},
   "outputs": [
    {
     "data": {
      "text/plain": [
       "{'method': 'Shapiro-Francia normality test',\n",
       " 'statistics W': 0.9702520622654034,\n",
       " 'statistics z': -0.43868496704219556,\n",
       " 'p-value': 0.6695550893709028}"
      ]
     },
     "execution_count": 8,
     "metadata": {},
     "output_type": "execute_result"
    }
   ],
   "source": [
    "import sfrancia as sf\n",
    "sf.shapiroFrancia(x)\n",
    "sf.shapiroFrancia(y)"
   ]
  },
  {
   "cell_type": "code",
   "execution_count": 9,
   "id": "df2f4f75-2e4f-4979-89e0-86b968d35457",
   "metadata": {},
   "outputs": [
    {
     "data": {
      "text/plain": [
       "TtestResult(statistic=-4.015078198999809, pvalue=0.00027002811097731085, df=38.0)"
      ]
     },
     "execution_count": 9,
     "metadata": {},
     "output_type": "execute_result"
    }
   ],
   "source": [
    "sts.ttest_ind(x, y, equal_var=True)"
   ]
  },
  {
   "cell_type": "code",
   "execution_count": 3,
   "id": "a5aa34ed-8bee-45d7-a75a-062abd22edc0",
   "metadata": {},
   "outputs": [],
   "source": [
    "#  conda install -c conda-forge pingouin"
   ]
  },
  {
   "cell_type": "code",
   "execution_count": 4,
   "id": "1b686caf-26b3-48ee-8d15-b5a294136505",
   "metadata": {},
   "outputs": [
    {
     "data": {
      "text/html": [
       "<div>\n",
       "<style scoped>\n",
       "    .dataframe tbody tr th:only-of-type {\n",
       "        vertical-align: middle;\n",
       "    }\n",
       "\n",
       "    .dataframe tbody tr th {\n",
       "        vertical-align: top;\n",
       "    }\n",
       "\n",
       "    .dataframe thead th {\n",
       "        text-align: right;\n",
       "    }\n",
       "</style>\n",
       "<table border=\"1\" class=\"dataframe\">\n",
       "  <thead>\n",
       "    <tr style=\"text-align: right;\">\n",
       "      <th></th>\n",
       "      <th>T</th>\n",
       "      <th>dof</th>\n",
       "      <th>alternative</th>\n",
       "      <th>p-val</th>\n",
       "      <th>CI95%</th>\n",
       "      <th>cohen-d</th>\n",
       "      <th>BF10</th>\n",
       "      <th>power</th>\n",
       "    </tr>\n",
       "  </thead>\n",
       "  <tbody>\n",
       "    <tr>\n",
       "      <th>T-test</th>\n",
       "      <td>-4.970617</td>\n",
       "      <td>33.331386</td>\n",
       "      <td>two-sided</td>\n",
       "      <td>0.00002</td>\n",
       "      <td>[-1.93, -0.81]</td>\n",
       "      <td>1.571847</td>\n",
       "      <td>1155.31</td>\n",
       "      <td>0.998022</td>\n",
       "    </tr>\n",
       "  </tbody>\n",
       "</table>\n",
       "</div>"
      ],
      "text/plain": [
       "               T        dof alternative    p-val           CI95%   cohen-d  \\\n",
       "T-test -4.970617  33.331386   two-sided  0.00002  [-1.93, -0.81]  1.571847   \n",
       "\n",
       "           BF10     power  \n",
       "T-test  1155.31  0.998022  "
      ]
     },
     "execution_count": 4,
     "metadata": {},
     "output_type": "execute_result"
    }
   ],
   "source": [
    "import pingouin as pg\n",
    "\n",
    "pg.ttest(x, y, correction=True)"
   ]
  },
  {
   "cell_type": "markdown",
   "id": "59edc4b5-e862-4142-99a2-5f2bac169580",
   "metadata": {},
   "source": [
    "![image](figure28.png)"
   ]
  },
  {
   "cell_type": "markdown",
   "id": "cb16ecff-6e7c-4fb4-ba19-007dd784c996",
   "metadata": {},
   "source": [
    "### t testi ve türevleri"
   ]
  },
  {
   "cell_type": "markdown",
   "id": "05a51a8a-ed61-409e-b7bd-176fb72be499",
   "metadata": {},
   "source": [
    "- En basit durumda, değerleri bağımsız ve Norm (μ , $σ^{2}$) dağıtılmış rastgele değişkenlerin gerçekleşmeleri olan tek bir örnek vardır. . Olası sıfır hipotezleri örneğin μ = μ0 veya μ ≤ μ0'dırİlgili teste tek örnekli t testi adı verilir (one-sample t test).\n",
    "- Temel, eşleştirilmiş iki örnektir. Örneğin, bir kişinin belirli bir özelliğini iki farklı zaman noktasında ölçtüğümüzde durum böyledir. Teste eşleştirilmiş t testi adı verilir (paired t test).\n",
    "- n1 ve n2 boyutunda iki bağımsız örnek vardır. Bu iki örnekli t testi olarak adlandırılır (two-sample t test).\n",
    "- Durum bir önceki maddeye benzer. Buna karşılık, iki grup artık farklı varyanslara sahip olabilir. Buna Welch t test adı verilir.\n",
    "\n"
   ]
  },
  {
   "cell_type": "code",
   "execution_count": 11,
   "id": "f44ecbe4-9998-4f92-b909-546e94b36982",
   "metadata": {},
   "outputs": [
    {
     "data": {
      "text/html": [
       "<div>\n",
       "<style scoped>\n",
       "    .dataframe tbody tr th:only-of-type {\n",
       "        vertical-align: middle;\n",
       "    }\n",
       "\n",
       "    .dataframe tbody tr th {\n",
       "        vertical-align: top;\n",
       "    }\n",
       "\n",
       "    .dataframe thead th {\n",
       "        text-align: right;\n",
       "    }\n",
       "</style>\n",
       "<table border=\"1\" class=\"dataframe\">\n",
       "  <thead>\n",
       "    <tr style=\"text-align: right;\">\n",
       "      <th></th>\n",
       "      <th>ID</th>\n",
       "      <th>sex</th>\n",
       "      <th>age</th>\n",
       "      <th>surgery</th>\n",
       "      <th>heart rate</th>\n",
       "      <th>temperature</th>\n",
       "      <th>bilirubin</th>\n",
       "      <th>SAPS II</th>\n",
       "      <th>liver failure</th>\n",
       "      <th>LOS</th>\n",
       "      <th>outcome</th>\n",
       "    </tr>\n",
       "  </thead>\n",
       "  <tbody>\n",
       "    <tr>\n",
       "      <th>0</th>\n",
       "      <td>1</td>\n",
       "      <td>female</td>\n",
       "      <td>76</td>\n",
       "      <td>other</td>\n",
       "      <td>98.0</td>\n",
       "      <td>36.5</td>\n",
       "      <td>6.512142</td>\n",
       "      <td>57</td>\n",
       "      <td>0</td>\n",
       "      <td>1</td>\n",
       "      <td>died</td>\n",
       "    </tr>\n",
       "    <tr>\n",
       "      <th>1</th>\n",
       "      <td>2</td>\n",
       "      <td>female</td>\n",
       "      <td>60</td>\n",
       "      <td>gastrointestinal</td>\n",
       "      <td>80.0</td>\n",
       "      <td>38.1</td>\n",
       "      <td>14.523197</td>\n",
       "      <td>52</td>\n",
       "      <td>0</td>\n",
       "      <td>2</td>\n",
       "      <td>home</td>\n",
       "    </tr>\n",
       "    <tr>\n",
       "      <th>2</th>\n",
       "      <td>3</td>\n",
       "      <td>male</td>\n",
       "      <td>66</td>\n",
       "      <td>cardiothoracic</td>\n",
       "      <td>99.6</td>\n",
       "      <td>37.4</td>\n",
       "      <td>22.972480</td>\n",
       "      <td>57</td>\n",
       "      <td>0</td>\n",
       "      <td>1</td>\n",
       "      <td>secondary care/rehab</td>\n",
       "    </tr>\n",
       "    <tr>\n",
       "      <th>3</th>\n",
       "      <td>4</td>\n",
       "      <td>male</td>\n",
       "      <td>74</td>\n",
       "      <td>other</td>\n",
       "      <td>110.0</td>\n",
       "      <td>39.1</td>\n",
       "      <td>19.299346</td>\n",
       "      <td>45</td>\n",
       "      <td>0</td>\n",
       "      <td>2</td>\n",
       "      <td>home</td>\n",
       "    </tr>\n",
       "    <tr>\n",
       "      <th>4</th>\n",
       "      <td>5</td>\n",
       "      <td>female</td>\n",
       "      <td>68</td>\n",
       "      <td>other</td>\n",
       "      <td>94.1</td>\n",
       "      <td>38.5</td>\n",
       "      <td>39.076485</td>\n",
       "      <td>49</td>\n",
       "      <td>0</td>\n",
       "      <td>1</td>\n",
       "      <td>home</td>\n",
       "    </tr>\n",
       "    <tr>\n",
       "      <th>...</th>\n",
       "      <td>...</td>\n",
       "      <td>...</td>\n",
       "      <td>...</td>\n",
       "      <td>...</td>\n",
       "      <td>...</td>\n",
       "      <td>...</td>\n",
       "      <td>...</td>\n",
       "      <td>...</td>\n",
       "      <td>...</td>\n",
       "      <td>...</td>\n",
       "      <td>...</td>\n",
       "    </tr>\n",
       "    <tr>\n",
       "      <th>495</th>\n",
       "      <td>496</td>\n",
       "      <td>male</td>\n",
       "      <td>62</td>\n",
       "      <td>cardiothoracic</td>\n",
       "      <td>118.0</td>\n",
       "      <td>37.3</td>\n",
       "      <td>13.234537</td>\n",
       "      <td>33</td>\n",
       "      <td>0</td>\n",
       "      <td>1</td>\n",
       "      <td>secondary care/rehab</td>\n",
       "    </tr>\n",
       "    <tr>\n",
       "      <th>496</th>\n",
       "      <td>497</td>\n",
       "      <td>male</td>\n",
       "      <td>67</td>\n",
       "      <td>cardiothoracic</td>\n",
       "      <td>115.0</td>\n",
       "      <td>38.0</td>\n",
       "      <td>10.740772</td>\n",
       "      <td>56</td>\n",
       "      <td>0</td>\n",
       "      <td>1</td>\n",
       "      <td>died</td>\n",
       "    </tr>\n",
       "    <tr>\n",
       "      <th>497</th>\n",
       "      <td>498</td>\n",
       "      <td>female</td>\n",
       "      <td>53</td>\n",
       "      <td>cardiothoracic</td>\n",
       "      <td>131.0</td>\n",
       "      <td>37.9</td>\n",
       "      <td>14.131188</td>\n",
       "      <td>38</td>\n",
       "      <td>0</td>\n",
       "      <td>3</td>\n",
       "      <td>secondary care/rehab</td>\n",
       "    </tr>\n",
       "    <tr>\n",
       "      <th>498</th>\n",
       "      <td>499</td>\n",
       "      <td>male</td>\n",
       "      <td>68</td>\n",
       "      <td>other</td>\n",
       "      <td>86.9</td>\n",
       "      <td>36.0</td>\n",
       "      <td>9.596478</td>\n",
       "      <td>66</td>\n",
       "      <td>0</td>\n",
       "      <td>2</td>\n",
       "      <td>home</td>\n",
       "    </tr>\n",
       "    <tr>\n",
       "      <th>499</th>\n",
       "      <td>500</td>\n",
       "      <td>male</td>\n",
       "      <td>75</td>\n",
       "      <td>cardiothoracic</td>\n",
       "      <td>92.0</td>\n",
       "      <td>37.6</td>\n",
       "      <td>11.660875</td>\n",
       "      <td>25</td>\n",
       "      <td>0</td>\n",
       "      <td>1</td>\n",
       "      <td>secondary care/rehab</td>\n",
       "    </tr>\n",
       "  </tbody>\n",
       "</table>\n",
       "<p>500 rows × 11 columns</p>\n",
       "</div>"
      ],
      "text/plain": [
       "      ID     sex  age           surgery  heart rate  temperature  bilirubin  \\\n",
       "0      1  female   76             other        98.0         36.5   6.512142   \n",
       "1      2  female   60  gastrointestinal        80.0         38.1  14.523197   \n",
       "2      3    male   66    cardiothoracic        99.6         37.4  22.972480   \n",
       "3      4    male   74             other       110.0         39.1  19.299346   \n",
       "4      5  female   68             other        94.1         38.5  39.076485   \n",
       "..   ...     ...  ...               ...         ...          ...        ...   \n",
       "495  496    male   62    cardiothoracic       118.0         37.3  13.234537   \n",
       "496  497    male   67    cardiothoracic       115.0         38.0  10.740772   \n",
       "497  498  female   53    cardiothoracic       131.0         37.9  14.131188   \n",
       "498  499    male   68             other        86.9         36.0   9.596478   \n",
       "499  500    male   75    cardiothoracic        92.0         37.6  11.660875   \n",
       "\n",
       "     SAPS II  liver failure  LOS               outcome  \n",
       "0         57              0    1                  died  \n",
       "1         52              0    2                  home  \n",
       "2         57              0    1  secondary care/rehab  \n",
       "3         45              0    2                  home  \n",
       "4         49              0    1                  home  \n",
       "..       ...            ...  ...                   ...  \n",
       "495       33              0    1  secondary care/rehab  \n",
       "496       56              0    1                  died  \n",
       "497       38              0    3  secondary care/rehab  \n",
       "498       66              0    2                  home  \n",
       "499       25              0    1  secondary care/rehab  \n",
       "\n",
       "[500 rows x 11 columns]"
      ]
     },
     "execution_count": 11,
     "metadata": {},
     "output_type": "execute_result"
    }
   ],
   "source": [
    "import pandas as pd\n",
    "icu = pd.read_csv(\"ICUData.csv\")\n",
    "icu"
   ]
  },
  {
   "cell_type": "markdown",
   "id": "415e06dd-9753-41fc-ad57-bc7108ac5160",
   "metadata": {},
   "source": [
    "$H_{0}$∶ 𝜇 ≤ 37.5 </br>\n",
    "$H_{1}$∶ 𝜇 > 37.5"
   ]
  },
  {
   "cell_type": "code",
   "execution_count": 7,
   "id": "71d78d71-5907-4fe7-b9ee-2516c0145a69",
   "metadata": {},
   "outputs": [
    {
     "data": {
      "text/plain": [
       "TtestResult(statistic=4.197348728151364, pvalue=1.5993464725586295e-05, df=498)"
      ]
     },
     "execution_count": 7,
     "metadata": {},
     "output_type": "execute_result"
    }
   ],
   "source": [
    "from scipy import stats\n",
    "data = icu.temperature.drop(397)\n",
    "stats.ttest_1samp(data, popmean=37.5, alternative=\"greater\")"
   ]
  },
  {
   "cell_type": "code",
   "execution_count": 9,
   "id": "16e3e85a-1452-4881-b9be-410e496bdc65",
   "metadata": {},
   "outputs": [
    {
     "data": {
      "text/html": [
       "<div>\n",
       "<style scoped>\n",
       "    .dataframe tbody tr th:only-of-type {\n",
       "        vertical-align: middle;\n",
       "    }\n",
       "\n",
       "    .dataframe tbody tr th {\n",
       "        vertical-align: top;\n",
       "    }\n",
       "\n",
       "    .dataframe thead th {\n",
       "        text-align: right;\n",
       "    }\n",
       "</style>\n",
       "<table border=\"1\" class=\"dataframe\">\n",
       "  <thead>\n",
       "    <tr style=\"text-align: right;\">\n",
       "      <th></th>\n",
       "      <th>T</th>\n",
       "      <th>dof</th>\n",
       "      <th>alternative</th>\n",
       "      <th>p-val</th>\n",
       "      <th>CI95%</th>\n",
       "      <th>cohen-d</th>\n",
       "      <th>BF10</th>\n",
       "      <th>power</th>\n",
       "    </tr>\n",
       "  </thead>\n",
       "  <tbody>\n",
       "    <tr>\n",
       "      <th>T-test</th>\n",
       "      <td>4.197349</td>\n",
       "      <td>498</td>\n",
       "      <td>greater</td>\n",
       "      <td>0.000016</td>\n",
       "      <td>[37.63, inf]</td>\n",
       "      <td>0.187899</td>\n",
       "      <td>550.419</td>\n",
       "      <td>0.994564</td>\n",
       "    </tr>\n",
       "  </tbody>\n",
       "</table>\n",
       "</div>"
      ],
      "text/plain": [
       "               T  dof alternative     p-val         CI95%   cohen-d     BF10  \\\n",
       "T-test  4.197349  498     greater  0.000016  [37.63, inf]  0.187899  550.419   \n",
       "\n",
       "           power  \n",
       "T-test  0.994564  "
      ]
     },
     "execution_count": 9,
     "metadata": {},
     "output_type": "execute_result"
    }
   ],
   "source": [
    "import pingouin as pg\n",
    "pg.ttest(data, 37.5, alternative=\"greater\")"
   ]
  },
  {
   "cell_type": "markdown",
   "id": "098b30f2-6f9c-4095-84bc-0661d7736b9e",
   "metadata": {},
   "source": [
    "%5'lik bir anlamlılık düzeyine dayanarak, yoğun bakımdaki hastaların ortalama yoğun bakımda kaldıkları süre boyunca vücut ısılarının arttığını varsayabiliriz."
   ]
  },
  {
   "cell_type": "markdown",
   "id": "1d233ffa-164f-43b2-87c7-2eaabecb72c9",
   "metadata": {},
   "source": [
    "Hasta 398'i eklersek p değeri açıkça artar ancak test yine de alternatifi tercih eder."
   ]
  },
  {
   "cell_type": "code",
   "execution_count": 4,
   "id": "0c543134-53ef-4c87-a54f-75709e3fdf3f",
   "metadata": {},
   "outputs": [
    {
     "data": {
      "text/plain": [
       "TtestResult(statistic=2.1027472872691644, pvalue=0.01799407119910482, df=499)"
      ]
     },
     "execution_count": 4,
     "metadata": {},
     "output_type": "execute_result"
    }
   ],
   "source": [
    "stats.ttest_1samp(icu.temperature, popmean=37.5, alternative=\"greater\")"
   ]
  },
  {
   "cell_type": "markdown",
   "id": "abbead30-23bf-4640-83ac-6c2146caffd8",
   "metadata": {},
   "source": [
    "İkinci adımda, kadınların (μ1) ve erkeklerin (μ2) maksimum vücut sıcaklığının önemli ölçüde farklı olup olmadığını araştırıyoruz. İki bağımsız grubu ele aldığımız ve her iki grup için de normal dağılım varsayabildiğimiz için iki örneklemli t testini uygulayabiliriz. Eşit varyansları kabul edip edemeyeceğimiz açık bir sorudur. Kadınların ve erkeklerin varyanslarını hesaplıyoruz."
   ]
  },
  {
   "cell_type": "code",
   "execution_count": 14,
   "id": "95656b07-79b9-4961-8e00-945f7f0fc270",
   "metadata": {},
   "outputs": [
    {
     "data": {
      "text/plain": [
       "ShapiroResult(statistic=0.9879996180534363, pvalue=0.008832931518554688)"
      ]
     },
     "execution_count": 14,
     "metadata": {},
     "output_type": "execute_result"
    }
   ],
   "source": [
    "sts.shapiro(icu[icu.sex == \"female\"].temperature)\n",
    "sts.shapiro(icu.drop(397)[icu.drop(397).sex == \"male\"].temperature)"
   ]
  },
  {
   "cell_type": "code",
   "execution_count": 7,
   "id": "e758663b-5ebc-4345-80c3-fcd4da8734bd",
   "metadata": {},
   "outputs": [
    {
     "data": {
      "text/plain": [
       "1.5743588571428573"
      ]
     },
     "execution_count": 7,
     "metadata": {},
     "output_type": "execute_result"
    }
   ],
   "source": [
    "np.var(icu[icu.sex == \"female\"].temperature)"
   ]
  },
  {
   "cell_type": "code",
   "execution_count": 10,
   "id": "c1b4e956-8ea5-403d-9441-0b53805b240e",
   "metadata": {},
   "outputs": [
    {
     "data": {
      "text/plain": [
       "3.7756199763313605"
      ]
     },
     "execution_count": 10,
     "metadata": {},
     "output_type": "execute_result"
    }
   ],
   "source": [
    "np.var(icu[icu.sex == \"male\"].temperature)"
   ]
  },
  {
   "cell_type": "markdown",
   "id": "240cf572-41bc-4b47-9819-0dda1a21c74b",
   "metadata": {},
   "source": [
    "Her iki grubun sonuçları açıkça farklıdır. Ancak 398 numaralı erkek hasta dikkate alınmadı. Dolayısıyla 398 numaralı hastayı atlayarak erkeklerin standart sapmalarını yeniden hesaplayalım."
   ]
  },
  {
   "cell_type": "code",
   "execution_count": 12,
   "id": "c9bb17b4-2bec-4bda-b32a-6a57dd8ecc02",
   "metadata": {},
   "outputs": [
    {
     "data": {
      "text/plain": [
       "1.2580727023319616"
      ]
     },
     "execution_count": 12,
     "metadata": {},
     "output_type": "execute_result"
    }
   ],
   "source": [
    "np.var(icu.drop(397)[icu.drop(397).sex == \"male\"].temperature)"
   ]
  },
  {
   "cell_type": "markdown",
   "id": "6857fbbe-1b8d-4b9e-8824-c582f38d6c4c",
   "metadata": {},
   "source": [
    "Yine bu hastanın değerinin sonuç üzerinde güçlü bir etkisi vardır. Hesaplamalarımıza bir kez hasta 398'i dahil edeceğiz ve bir kez hasta 398'i çıkaracağız. Her iki durumda da, daha ihtiyatlı yaklaşımı seçiyoruz ve cinsiyet ayrımının sıcaklık ∼ cinsiyet formülü aracılığıyla yapıldığı Welch t testini uyguluyoruz."
   ]
  },
  {
   "cell_type": "code",
   "execution_count": 18,
   "id": "f3db0465-5bb3-4771-b266-f955793cc089",
   "metadata": {},
   "outputs": [
    {
     "data": {
      "text/plain": [
       "TtestResult(statistic=-0.3763844542391408, pvalue=0.7067968223676342, df=481.7086606343309)"
      ]
     },
     "execution_count": 18,
     "metadata": {},
     "output_type": "execute_result"
    }
   ],
   "source": [
    "sts.ttest_ind(icu[icu.sex == \"female\"].temperature, \n",
    "                icu[icu.sex == \"male\"].temperature, equal_var=False)"
   ]
  },
  {
   "cell_type": "code",
   "execution_count": 21,
   "id": "6f74f342-838d-4a9a-945a-e268b97c27b5",
   "metadata": {},
   "outputs": [
    {
     "data": {
      "text/plain": [
       "TtestResult(statistic=-1.2514171914600383, pvalue=0.21168583024595652, df=323.7324571156322)"
      ]
     },
     "execution_count": 21,
     "metadata": {},
     "output_type": "execute_result"
    }
   ],
   "source": [
    "sts.ttest_ind(icu.drop(397)[icu.drop(397).sex == \"female\"].temperature, \n",
    "                icu.drop(397)[icu.drop(397).sex == \"male\"].temperature, equal_var=False)"
   ]
  },
  {
   "cell_type": "markdown",
   "id": "026aa715-437f-47a0-aa47-8d7367738c99",
   "metadata": {},
   "source": [
    "Yani dişilerin vücut ısısı ortalama olarak biraz daha düşüktür. Ancak test (hasta 398 ile ve hasta 398 olmadan) bunun yalnızca rastgele bir varyasyon olduğu hipotezini desteklemektedir. Sonuç olarak, kadınların ve erkeklerin maksimum vücut sıcaklığı ortalamalarının farklı olmadığını varsayabiliriz/varsaymalıyız (sıfır hipotez). </br>\n",
    "\n",
    "Eğer normal bir dağılım kabul edemiyorsak ve örneklem büyüklüğü küçük veya orta düzeyde ise farklı testler uygulamamız gerekir."
   ]
  },
  {
   "cell_type": "markdown",
   "id": "59f5d18a-8dcd-470e-b6a3-3f87a3ea2984",
   "metadata": {},
   "source": [
    "### Wilcoxon signed rank"
   ]
  },
  {
   "cell_type": "markdown",
   "id": "ce2d5a9d-eb0f-4f7f-9418-9982cd4ded95",
   "metadata": {},
   "source": [
    "Wilcoxon eşleştirilmiş çift testi olarak da bilinen Wilcoxon işaretli sıralama testi, iki eşleştirilmiş grubun ortancasını karşılaştıran ve bunların aynı şekilde dağılıp dağılmadığını söyleyen parametrik olmayan bir hipotez testidir.</br>\n",
    "\n",
    "Ho: Örneklem dağılımları eşittir.\n",
    "H1: Örneklem dağılımları eşit değildir."
   ]
  },
  {
   "cell_type": "markdown",
   "id": "c4881289-c6cf-4477-ba4a-f19b73ee4d6d",
   "metadata": {},
   "source": [
    "### Wilcoxon-Mann-Whitney U test"
   ]
  },
  {
   "cell_type": "markdown",
   "id": "fde1badf-adf2-4c22-a71a-ae6d568c26a4",
   "metadata": {},
   "source": [
    "Mann ve Whitney'in U-testi veya Wilcoxon sıra toplamı testi, sıralı verilerin iki bağımsız örneği arasındaki farkı analiz etmek için kullanılan parametrik olmayan istatistiksel hipotez testidir. Bu testte, rastgele çekilmiş iki örneklem verilir ve bu iki örneklemin aynı popülasyondan olup olmadığını doğrulamamız gerekir.</br>\n",
    "\n",
    "- Her iki grubun tüm gözlemleri birbirinden bağımsızdır.\n",
    "- Bağımlı değişkenin değerleri sıralı bir şekilde olmalıdır (yani birbirleriyle karşılaştırılabilir ve en yüksekten en düşüğe doğru sıralanabilir).\n",
    "- Bağımsız değişken iki bağımsız, kategorik grup olmalıdır.\n",
    "- Örneklemin her biri için önerilen sayı 5 ile 20 arasındadır.\n",
    "- Mann-Whitney U-testinde boş hipotez her zaman aynıdır, yani iki örneklem arasında anlamlı bir fark yoktur.\n",
    "- Mann Whitney testi, normal dağılıma sahip olması gerekmeyen ancak aynı eğri şekline sahip olması gereken iki dağılıma uygulanır. Örneğin: Bir eğrinin (bir örneğin) sağ kuyruğu daha uzunsa, diğer eğrinin (veya diğer örneklerin) de daha uzun bir sağ kuyruğa sahip olması gerekir."
   ]
  },
  {
   "cell_type": "markdown",
   "id": "bf3e2ee0-3bdf-4c5e-92bf-093eaf76ede6",
   "metadata": {},
   "source": [
    "Öncelikle yoğun bakımdaki hastaların maksimum vücut sıcaklığının ortalamasının artıp artmadığını araştırıyoruz.Sonuçları hasta 398 ile ve hasta olmadan karşılaştırıyoruz. "
   ]
  },
  {
   "cell_type": "markdown",
   "id": "31a78583-4922-447d-9632-99e724cec914",
   "metadata": {},
   "source": [
    "stats.wilcoxon(icu.temperature - 37.5, alternative=\"greater\")"
   ]
  },
  {
   "cell_type": "code",
   "execution_count": 22,
   "id": "e9639849-592e-44f3-baff-2ad63c8ca490",
   "metadata": {},
   "outputs": [
    {
     "data": {
      "text/plain": [
       "WilcoxonResult(statistic=69173.0, pvalue=0.00016697168360892)"
      ]
     },
     "execution_count": 22,
     "metadata": {},
     "output_type": "execute_result"
    }
   ],
   "source": [
    "sts.wilcoxon(icu.drop(397).temperature - 37.5, alternative=\"greater\")"
   ]
  },
  {
   "cell_type": "markdown",
   "id": "dedf0c6b-3c76-4918-9a49-8aa3821d4f5e",
   "metadata": {},
   "source": [
    "Tek örnekli t testinde olduğu gibi anlamlı sonuçlar elde ediyoruz ve bu nedenle ortalama olarak vücut sıcaklığının arttığını varsaymalıyız. Ancak sonuç hasta 398'den daha az etkilenir."
   ]
  },
  {
   "cell_type": "code",
   "execution_count": 25,
   "id": "da01f063-fa07-4961-b9cc-b00d232ce46a",
   "metadata": {},
   "outputs": [
    {
     "data": {
      "text/plain": [
       "MannwhitneyuResult(statistic=26387.5, pvalue=0.18333100511010658)"
      ]
     },
     "execution_count": 25,
     "metadata": {},
     "output_type": "execute_result"
    }
   ],
   "source": [
    "stats.mannwhitneyu(icu[icu.sex == \"female\"].temperature, \n",
    "                   icu[icu.sex == \"male\"].temperature)"
   ]
  },
  {
   "cell_type": "code",
   "execution_count": 27,
   "id": "cb7ac742-d979-4843-a7f9-22c125d4b94e",
   "metadata": {},
   "outputs": [
    {
     "data": {
      "text/plain": [
       "MannwhitneyuResult(statistic=26212.5, pvalue=0.16425374376579738)"
      ]
     },
     "execution_count": 27,
     "metadata": {},
     "output_type": "execute_result"
    }
   ],
   "source": [
    "stats.mannwhitneyu(icu.drop(397)[icu.drop(397).sex == \"female\"].temperature, \n",
    "                icu.drop(397)[icu.drop(397).sex == \"male\"].temperature)"
   ]
  },
  {
   "cell_type": "markdown",
   "id": "a76aaea4-fe4e-4a41-b5fb-ff4e8488c0c9",
   "metadata": {},
   "source": [
    "Sonuçlar yine hasta 398'in etkisinin açıkça daha küçük olduğu t testiyle uyumludur."
   ]
  },
  {
   "cell_type": "markdown",
   "id": "2eb986ee-915d-4e73-9ca7-6dca17d5ef5a",
   "metadata": {},
   "source": [
    "### F testi\n",
    "\n",
    "F-testi, iki veya daha fazla numunenin veya popülasyonun hipotez testindeki varyanslarını, önemli ölçüde farklı olup olmadıklarını belirlemek için karşılaştırmak için kullanılan istatistiksel testtir. İki örneğin veya popülasyonun varyanslarının eşit olup olmadığını belirlemek için F testi istatistiğini uygular.</br> \n",
    "\n",
    "F testi, istatistik ve makine öğreniminde, varyansları karşılaştırmak veya varyans analizi (ANOVA) veya regresyon analizi gibi istatistiksel bir modelin genel önemini test etmek için kullanılır.</br>\n",
    "\n",
    "F-testini gerçekleştirerek hesaplanan F istatistiğini kritik bir değerle veya belirli bir anlamlılık düzeyiyle karşılaştırırız. F testinin sonuçları istatistiksel olarak anlamlıysa, yani hesaplanan F istatistiği kritik değeri aşıyorsa, varyansların eşit olduğunu varsayan sıfır hipotezini reddedebiliriz. Öte yandan, eğer sonuçlar istatistiksel olarak anlamlı değilse, varyansların önemli ölçüde farklı olduğu sonucuna varmak için yeterli kanıt bulunmadığını belirten sıfır hipotezini reddetmeyi başaramayız."
   ]
  },
  {
   "cell_type": "code",
   "execution_count": 20,
   "id": "1db13e3b-037c-48e6-b75a-cba9509b7a71",
   "metadata": {},
   "outputs": [
    {
     "name": "stdout",
     "output_type": "stream",
     "text": [
      "Degree of freedom 1: 174\n",
      "Degree of freedom 2: 324\n",
      "F-statistic: 0.41808627065941445\n",
      "p-value: 3.033044478412135e-10\n"
     ]
    }
   ],
   "source": [
    "group1 = icu[icu.sex == \"female\"].temperature\n",
    "group2 = icu[icu.sex == \"male\"].temperature\n",
    "\n",
    "#varyanslar hesaplanıyor\n",
    "variance1 = np.var(group1, ddof=1)\n",
    "variance2 = np.var(group2, ddof=1)\n",
    "\n",
    "# f istatistiği hesaplanıyor\n",
    "f_value = variance1 / variance2\n",
    "\n",
    "# Serbestlik dereceleri hesaplanıyor\n",
    "df1 = len(group1) - 1\n",
    "df2 = len(group2) - 1\n",
    "\n",
    "# p değeri hesaplanıyor\n",
    "p_value = stats.f.cdf(f_value, df1, df2)\n",
    "\n",
    "# sonuçlar yazdırılıyor\n",
    "# Print the results\n",
    "print('Degree of freedom 1:',df1)\n",
    "print('Degree of freedom 2:',df2)\n",
    "print(\"F-statistic:\", f_value)\n",
    "print(\"p-value:\", p_value)"
   ]
  },
  {
   "cell_type": "code",
   "execution_count": 24,
   "id": "1b625773-2dab-4512-98c4-7182997e8e60",
   "metadata": {},
   "outputs": [
    {
     "name": "stdout",
     "output_type": "stream",
     "text": [
      "Degree of freedom 1: 174\n",
      "Degree of freedom 2: 323\n",
      "F-statistic: 1.2547127326609122\n",
      "p-value: 0.9586751048180714\n"
     ]
    }
   ],
   "source": [
    "icu_new = icu.drop(397)\n",
    "group1 = icu_new[icu_new.sex == \"female\"].temperature\n",
    "group2 = icu_new[icu_new.sex == \"male\"].temperature\n",
    "\n",
    "#varyanslar hesaplanıyor\n",
    "variance1 = np.var(group1, ddof=1)\n",
    "variance2 = np.var(group2, ddof=1)\n",
    "\n",
    "# f istatistiği hesaplanıyor\n",
    "f_value = variance1 / variance2\n",
    "\n",
    "# Serbestlik dereceleri hesaplanıyor\n",
    "df1 = len(group1) - 1\n",
    "df2 = len(group2) - 1\n",
    "\n",
    "# p değeri hesaplanıyor\n",
    "p_value = stats.f.cdf(f_value, df1, df2)\n",
    "\n",
    "# sonuçlar yazdırılıyor\n",
    "# Print the results\n",
    "print('Degree of freedom 1:',df1)\n",
    "print('Degree of freedom 2:',df2)\n",
    "print(\"F-statistic:\", f_value)\n",
    "print(\"p-value:\", p_value)"
   ]
  },
  {
   "cell_type": "markdown",
   "id": "2507952c-fa21-4d5a-8502-4dbb3033bdfb",
   "metadata": {},
   "source": [
    "Ansari-Bradley testi, iki örneğin alındığı dağılımların ölçek parametresinin eşitliğini belirleyen parametrik olmayan bir testtir. Sıfır hipotezi, x'in temelindeki dağılım ölçeğinin, y'nin altında yatan dağılım ölçeğine oranının 1 olduğunu belirtir.</br>\n",
    "\n",
    "H0 : aynı dağılımdan gelmektedir </br>\n",
    "H1 : aynı medyan ve şekle sahip ancak farklı dağılımlara (örneğin varyanslara) sahip dağılımlardan gelmemektedir."
   ]
  },
  {
   "cell_type": "code",
   "execution_count": 22,
   "id": "6bc126d3-4f67-400f-a1c9-c1c277bc080a",
   "metadata": {},
   "outputs": [
    {
     "data": {
      "text/plain": [
       "AnsariResult(statistic=20903.5, pvalue=0.16875529793204147)"
      ]
     },
     "execution_count": 22,
     "metadata": {},
     "output_type": "execute_result"
    }
   ],
   "source": [
    "stats.ansari(icu[icu.sex == \"female\"].temperature, icu[icu.sex == \"male\"].temperature)"
   ]
  },
  {
   "cell_type": "code",
   "execution_count": 8,
   "id": "edd1c991-3814-4496-899b-fecf9456d592",
   "metadata": {},
   "outputs": [
    {
     "data": {
      "text/plain": [
       "AnsariResult(statistic=20807.5, pvalue=0.1477243639127207)"
      ]
     },
     "execution_count": 8,
     "metadata": {},
     "output_type": "execute_result"
    }
   ],
   "source": [
    "stats.ansari(icu.drop(397)[icu.drop(397).sex == \"female\"].temperature, \n",
    "                icu.drop(397)[icu.drop(397).sex == \"male\"].temperature)"
   ]
  },
  {
   "cell_type": "markdown",
   "id": "b4875fbc-96de-45b7-aabf-16e48c8cc104",
   "metadata": {},
   "source": [
    "### one-sample binomial test\n",
    "\n",
    "Binom testi, örnek bir oranı varsayılan bir oran ile karşılaştırır.\n",
    "\n",
    "Örneğin 6 kenarlı bir zarımız olduğunu varsayalım. Eğer 12 kez atarsak, “3” sayısının 1/6 oranında gelmesini bekleriz, bu da 12 * (1/6) = 2 katı olur.\n",
    "\n",
    "Eğer “3” rakamı gerçekte 4 kez görünüyorsa, bu zarın “3” rakamına göre yönlendirildiğinin kanıtı mıdır? Bu soruyu cevaplamak için binom testi yapabiliriz."
   ]
  },
  {
   "cell_type": "markdown",
   "id": "c615848a-f8cc-4c34-97f7-40dd2dc84d78",
   "metadata": {},
   "source": [
    "**Örnek 1:** 6 yüzlü bir zarı 24 kez atıyoruz ve tam 6 kez “3” rakamına geliyor. Zarın \"3\" rakamına göre eğilimli olup olmadığını belirlemek için binom testi yapın.\n",
    "\n",
    "H0: π ≤ 1/6 (zar “3” sayısına göre ayarlanmamıştır)</br>\n",
    "HA: π > 1/6</br>\n",
    "\n",
    "π nüfus oranının sembolüdür."
   ]
  },
  {
   "cell_type": "code",
   "execution_count": 24,
   "id": "8176ac24-06a0-4981-a27f-bb1528d91dae",
   "metadata": {},
   "outputs": [
    {
     "data": {
      "text/plain": [
       "BinomTestResult(k=6, n=24, alternative='greater', statistic=0.25, pvalue=0.1995295129479585)"
      ]
     },
     "execution_count": 24,
     "metadata": {},
     "output_type": "execute_result"
    }
   ],
   "source": [
    "sts.binomtest(k=6, n=24, p=1/6, alternative='greater')\n",
    "# Bu p değeri (0,1995) 0,05'ten küçük olmadığı için sıfır hipotezini reddetmede başarısız oluyoruz. \n",
    "# Zarın \"3\" sayısına eğilimli olduğunu söyleyecek yeterli kanıtımız yok."
   ]
  },
  {
   "cell_type": "markdown",
   "id": "df9ec11b-dfc8-4cc2-9406-fb8da4433a24",
   "metadata": {},
   "source": [
    "Bir parayı 30 kez atıyoruz ve tam olarak 19 kez tura geliyor. Madalyonun turaya doğru eğilimli olup olmadığını belirlemek için binom testi yapın.</br>\n",
    "\n",
    "H0: π ≤ 1/2 (para tura yönünde eğilimli değildir)</br>\n",
    "\n",
    "HA: π > 1/2"
   ]
  },
  {
   "cell_type": "code",
   "execution_count": 25,
   "id": "513882fb-d1c3-469b-bb50-9c90eaddccd3",
   "metadata": {},
   "outputs": [
    {
     "data": {
      "text/plain": [
       "BinomTestResult(k=19, n=30, alternative='greater', statistic=0.6333333333333333, pvalue=0.10024421103298667)"
      ]
     },
     "execution_count": 25,
     "metadata": {},
     "output_type": "execute_result"
    }
   ],
   "source": [
    "sts.binomtest(k=19, n=30, p=1/2, alternative='greater')\n",
    "# Bu p değeri (0,10024) 0,05'ten küçük olmadığı için sıfır hipotezini reddedemiyoruz. \n",
    "# Madalyonun tura eğilimli olduğunu söyleyecek yeterli kanıtımız yok."
   ]
  },
  {
   "cell_type": "markdown",
   "id": "681d0335-fef1-4e21-8dad-d3cb1af64539",
   "metadata": {},
   "source": [
    "Yine icu veri setimizi kullanıyoruz ve karaciğer yetmezliği prevalansını araştırıyoruz. Yaygınlığın %5'ten az olduğunu varsayıp varsayamayacağımızı öğrenmek istiyoruz; yani.\n",
    "\n",
    "H0 : p >= 0.05 </br>\n",
    "H1 : p < 0.05"
   ]
  },
  {
   "cell_type": "code",
   "execution_count": 27,
   "id": "c1bdc863-e118-410e-a2ed-52cd1b26a09a",
   "metadata": {},
   "outputs": [
    {
     "data": {
      "text/plain": [
       "BinomTestResult(k=25, n=500, alternative='less', statistic=0.05, pvalue=0.5529388564087532)"
      ]
     },
     "execution_count": 27,
     "metadata": {},
     "output_type": "execute_result"
    }
   ],
   "source": [
    "sts.binomtest(25, 500, p=0.05, alternative=\"less\")"
   ]
  },
  {
   "cell_type": "markdown",
   "id": "e2df380d-35d1-420b-a5b1-7433b26965c0",
   "metadata": {},
   "source": [
    "Sonuç olarak; yani prevalansın %5'ten küçük olduğundan emin olamayız."
   ]
  },
  {
   "cell_type": "markdown",
   "id": "03d5c0f4-9b2a-4d33-a50b-b92d76edf668",
   "metadata": {},
   "source": [
    "### Fisher’s Exact Test\n",
    "\n",
    "Fisher exact testi, iki kategori değişkeninin rastgele olmayan bağlantılara sahip olup olmadığını belirleyen istatistiksel bir testtir veya iki kategori değişkeninin anlamlı bir ilişkiye sahip olup olmadığını kontrol etmek için kullanıldığını söyleyebiliriz.</br>\n",
    "\n",
    "\n",
    "- null hypothesis:  satırlar ve sütunlar arasında ilişki yoktur veya sınıflandırmalar bağımsızdır.\n",
    "- alternative hypothesis:   satırlar ve sütunlar arasında ilişkiler vardır veya sınıflandırmalar bağımlıdır.\n"
   ]
  },
  {
   "cell_type": "code",
   "execution_count": 32,
   "id": "68d2f1e2-e4f5-4fc9-98e1-4f47002c9753",
   "metadata": {},
   "outputs": [
    {
     "data": {
      "text/html": [
       "<div>\n",
       "<style scoped>\n",
       "    .dataframe tbody tr th:only-of-type {\n",
       "        vertical-align: middle;\n",
       "    }\n",
       "\n",
       "    .dataframe tbody tr th {\n",
       "        vertical-align: top;\n",
       "    }\n",
       "\n",
       "    .dataframe thead th {\n",
       "        text-align: right;\n",
       "    }\n",
       "</style>\n",
       "<table border=\"1\" class=\"dataframe\">\n",
       "  <thead>\n",
       "    <tr style=\"text-align: right;\">\n",
       "      <th>sex</th>\n",
       "      <th>female</th>\n",
       "      <th>male</th>\n",
       "    </tr>\n",
       "    <tr>\n",
       "      <th>liver failure</th>\n",
       "      <th></th>\n",
       "      <th></th>\n",
       "    </tr>\n",
       "  </thead>\n",
       "  <tbody>\n",
       "    <tr>\n",
       "      <th>0</th>\n",
       "      <td>168</td>\n",
       "      <td>312</td>\n",
       "    </tr>\n",
       "    <tr>\n",
       "      <th>1</th>\n",
       "      <td>7</td>\n",
       "      <td>13</td>\n",
       "    </tr>\n",
       "  </tbody>\n",
       "</table>\n",
       "</div>"
      ],
      "text/plain": [
       "sex            female  male\n",
       "liver failure              \n",
       "0                 168   312\n",
       "1                   7    13"
      ]
     },
     "execution_count": 32,
     "metadata": {},
     "output_type": "execute_result"
    }
   ],
   "source": [
    "result = pd.crosstab(icu['liver failure'], icu['sex'])\n",
    "result"
   ]
  },
  {
   "cell_type": "code",
   "execution_count": 33,
   "id": "f1698713-af47-49b6-b413-1bb4687eabfd",
   "metadata": {},
   "outputs": [
    {
     "data": {
      "text/plain": [
       "SignificanceResult(statistic=1.0, pvalue=1.0)"
      ]
     },
     "execution_count": 33,
     "metadata": {},
     "output_type": "execute_result"
    }
   ],
   "source": [
    "stats.fisher_exact(result)"
   ]
  },
  {
   "cell_type": "code",
   "execution_count": 36,
   "id": "a03648ba-0476-43d2-a96b-e14e721f60ce",
   "metadata": {},
   "outputs": [
    {
     "data": {
      "text/plain": [
       "PearsonRResult(statistic=0.2978033285606186, pvalue=1.118148500008259e-11)"
      ]
     },
     "execution_count": 36,
     "metadata": {},
     "output_type": "execute_result"
    }
   ],
   "source": [
    "stats.pearsonr(icu.drop(397).temperature, icu.drop(397)[\"heart rate\"])"
   ]
  },
  {
   "cell_type": "code",
   "execution_count": 37,
   "id": "bf473fc4-975d-4799-91d4-e06e3477039c",
   "metadata": {},
   "outputs": [
    {
     "data": {
      "text/plain": [
       "SignificanceResult(statistic=0.26599572175445046, pvalue=1.5207779303155718e-09)"
      ]
     },
     "execution_count": 37,
     "metadata": {},
     "output_type": "execute_result"
    }
   ],
   "source": [
    "stats.spearmanr(icu.temperature, icu[\"heart rate\"])"
   ]
  },
  {
   "cell_type": "code",
   "execution_count": 38,
   "id": "e7534a3c-84c2-42ae-ae67-ce63519b06bc",
   "metadata": {},
   "outputs": [
    {
     "data": {
      "text/plain": [
       "SignificanceResult(statistic=0.18269029154469063, pvalue=1.9348573865883658e-09)"
      ]
     },
     "execution_count": 38,
     "metadata": {},
     "output_type": "execute_result"
    }
   ],
   "source": [
    "stats.kendalltau(icu.temperature, icu[\"heart rate\"])"
   ]
  },
  {
   "cell_type": "markdown",
   "id": "d5c35ee3-3805-4204-b16a-436a0e8a16fd",
   "metadata": {},
   "source": [
    "### One-Way ANOVA \n",
    "\n",
    "Tek yönlü ANOVA (“varyans analizi” olarak da bilinir), birden fazla grubun ortalama değerleri arasında istatistiksel olarak anlamlı bir fark olup olmadığını tespit etmek için kullanılan bir testtir.</br>\n",
    "\n",
    "H0 (null hypothesis): μ1 = μ2 = μ3 = … = μk (Tüm popülasyonun ortalamalarının eşit olduğu anlamına gelir)</br>\n",
    "H1 (alternative hypothesis): Geri kalanından farklı olan en az bir popülasyon ortalamasının olacağını belirtir.\n"
   ]
  },
  {
   "cell_type": "code",
   "execution_count": 48,
   "id": "3a2f9696-1bba-4b01-ae76-2d27a08e02e4",
   "metadata": {},
   "outputs": [
    {
     "data": {
      "text/plain": [
       "F_onewayResult(statistic=1.9571847180075135, pvalue=0.11950631981506887)"
      ]
     },
     "execution_count": 48,
     "metadata": {},
     "output_type": "execute_result"
    }
   ],
   "source": [
    "result_two = icu.groupby(\"outcome\")[\"temperature\"].apply(list)\n",
    "stats.f_oneway(*result_two)"
   ]
  },
  {
   "cell_type": "code",
   "execution_count": 49,
   "id": "6aeb71c8-85e2-43c1-a2ae-555b5185eef5",
   "metadata": {},
   "outputs": [
    {
     "data": {
      "text/plain": [
       "F_onewayResult(statistic=5.2203056810786075, pvalue=0.001481073204953295)"
      ]
     },
     "execution_count": 49,
     "metadata": {},
     "output_type": "execute_result"
    }
   ],
   "source": [
    "result_two = icu.drop(397).groupby(\"outcome\")[\"temperature\"].apply(list)\n",
    "stats.f_oneway(*result_two)"
   ]
  },
  {
   "cell_type": "markdown",
   "id": "fa300834-5d79-4ea3-aae6-56d0f9447bb5",
   "metadata": {},
   "source": [
    "### Shapiro-Wilk test\n",
    "\n",
    "Shapiro-Wilk testi bir normallik testidir, verilen örneğin normal dağılımdan gelip gelmediğini belirler. Shapiro-Wilk testi veya Shapiro testi, frekans istatistiklerinde bir normallik testidir. Shapiro testinin sıfır hipotezi popülasyonun normal dağıldığı yönündedir.</br>\n",
    "\n",
    "Ho: Örnek normal dağılımdan alınmıştır.</br>\n",
    "Ha: Örnek normal dağılımdan değil.\n"
   ]
  },
  {
   "cell_type": "code",
   "execution_count": 50,
   "id": "df852818-fc74-4198-8b08-430f25093303",
   "metadata": {},
   "outputs": [
    {
     "data": {
      "text/plain": [
       "ShapiroResult(statistic=0.9918887615203857, pvalue=0.008012347854673862)"
      ]
     },
     "execution_count": 50,
     "metadata": {},
     "output_type": "execute_result"
    }
   ],
   "source": [
    "stats.shapiro(icu.drop(397).temperature)"
   ]
  },
  {
   "cell_type": "markdown",
   "id": "0c7fa262-72d4-407e-8aa5-433229e673e6",
   "metadata": {},
   "source": [
    "### Lilliefors\n",
    "Test, Lilliefors testi kullanılarak normal veya üstel dağılım varsayılmıştır.\n",
    "\n",
    "Lilliefors testi, tahmin edilen parametrelere sahip bir Kolmogorov-Smirnov testidir.\n",
    "\n"
   ]
  },
  {
   "cell_type": "code",
   "execution_count": 53,
   "id": "db4300a2-4955-4d96-93d1-9fad89439d5b",
   "metadata": {},
   "outputs": [
    {
     "data": {
      "text/plain": [
       "(0.048498348779779654, 0.007001263561967399)"
      ]
     },
     "execution_count": 53,
     "metadata": {},
     "output_type": "execute_result"
    }
   ],
   "source": [
    "from statsmodels.stats.diagnostic import lilliefors\n",
    "\n",
    "lilliefors(icu.drop(397).temperature, pvalmethod=\"approx\")"
   ]
  },
  {
   "cell_type": "markdown",
   "id": "f451355f-193b-401b-b347-a6e9e32a88c1",
   "metadata": {},
   "source": [
    "### Cramér-von Mises \n",
    "\n",
    "- Bir örneklemin dağılımının teorik bir dağılım ile uyumlu olup olmadığını ya da örneklemin öngörülen bir teorik dağılımdan gelip gelmediğinin kontrol edilmesi amacıyla uygulanan testlere uyum iyiliği testleri adı verilir.</br>\n",
    "\n",
    "-Uyum iyiliği için tek örnekli Cramer-von Mises testi yapılır. Bu, bağımsız ve aynı şekilde dağıtıldığı varsayılan gözlemlenen rastgele değişkenlerin ampirik dağılım fonksiyonuyla karşılaştırıldığında kümülatif dağılım fonksiyonunun (cdf) uyum iyiliğini test eder. "
   ]
  },
  {
   "cell_type": "code",
   "execution_count": 74,
   "id": "1cab20b1-ed59-4de4-9cab-30233b51aac1",
   "metadata": {},
   "outputs": [
    {
     "data": {
      "text/html": [
       "<p>class=TestResult name=Unnamed type=CramerVonMisesNormal binaryQualityMeasure=false p-value threshold=0.05 p-value=0.01426 statistic=0.167025 description=[]</p>"
      ],
      "text/plain": [
       "class=TestResult name=Unnamed type=CramerVonMisesNormal binaryQualityMeasure=false p-value threshold=0.05 p-value=0.01426 statistic=0.167025 description=[]"
      ]
     },
     "execution_count": 74,
     "metadata": {},
     "output_type": "execute_result"
    }
   ],
   "source": [
    "#  conda install -c conda-forge openturns\n",
    "import openturns as ot\n",
    "data = icu.drop(397).temperature\n",
    "data = ot.Sample(np.reshape(data, (-1, 1)))\n",
    "ot.NormalityTest.CramerVonMisesNormal(data)"
   ]
  },
  {
   "cell_type": "markdown",
   "id": "6061f339-757e-47e8-acd8-03c79aafa0b5",
   "metadata": {},
   "source": [
    "###  Shapiro-Francia normality test\n",
    "\n",
    "Shapiro-Francia'nın istatistiksel testi, sıralı örnek değerleri ile standart normal dağılımdan beklenen (yaklaşık) beklenen sıralı nicelikler arasındaki kare korelasyonu dikkate alır. P değeri Royston tarafından verilen formülden hesaplanır."
   ]
  },
  {
   "cell_type": "code",
   "execution_count": 75,
   "id": "8bb7fb2a-d32b-418c-9717-e133785e2d84",
   "metadata": {},
   "outputs": [
    {
     "data": {
      "text/plain": [
       "{'method': 'Shapiro-Francia normality test',\n",
       " 'statistics W': 0.991310918637953,\n",
       " 'statistics z': 2.5034940978076157,\n",
       " 'p-value': 0.0061486865737002605}"
      ]
     },
     "execution_count": 75,
     "metadata": {},
     "output_type": "execute_result"
    }
   ],
   "source": [
    "# pip install sfrancia\n",
    "\n",
    "import sfrancia as sf\n",
    "\n",
    "sf.shapiroFrancia(icu.drop(397).temperature)"
   ]
  },
  {
   "cell_type": "code",
   "execution_count": null,
   "id": "4809fcbc-1609-471c-aae1-b541271e1d24",
   "metadata": {},
   "outputs": [],
   "source": []
  }
 ],
 "metadata": {
  "kernelspec": {
   "display_name": "Python 3 (ipykernel)",
   "language": "python",
   "name": "python3"
  },
  "language_info": {
   "codemirror_mode": {
    "name": "ipython",
    "version": 3
   },
   "file_extension": ".py",
   "mimetype": "text/x-python",
   "name": "python",
   "nbconvert_exporter": "python",
   "pygments_lexer": "ipython3",
   "version": "3.10.13"
  }
 },
 "nbformat": 4,
 "nbformat_minor": 5
}
