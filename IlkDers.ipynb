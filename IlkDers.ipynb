{
 "cells": [
  {
   "cell_type": "code",
   "execution_count": 1,
   "id": "1e2b5fb5",
   "metadata": {},
   "outputs": [
    {
     "name": "stdout",
     "output_type": "stream",
     "text": [
      "Hello World\n"
     ]
    }
   ],
   "source": [
    "print(\"Hello World\")"
   ]
  },
  {
   "cell_type": "code",
   "execution_count": 2,
   "id": "bbb46fd2",
   "metadata": {},
   "outputs": [
    {
     "name": "stdout",
     "output_type": "stream",
     "text": [
      "Hello World Hello Python\n"
     ]
    }
   ],
   "source": [
    "print(\"Hello World\", \"Hello Python\")"
   ]
  },
  {
   "cell_type": "code",
   "execution_count": 12,
   "id": "cdea0f6d",
   "metadata": {},
   "outputs": [
    {
     "name": "stdout",
     "output_type": "stream",
     "text": [
      "Hello World,Hello Java,hello python\n",
      "Hello Java\n"
     ]
    }
   ],
   "source": [
    "print(\"Hello World\", \"Hello Java\", \"hello python\", sep=\",\")\n",
    "print(\"Hello Java\")\n"
   ]
  },
  {
   "cell_type": "code",
   "execution_count": 5,
   "id": "1f5b4561",
   "metadata": {},
   "outputs": [
    {
     "name": "stdout",
     "output_type": "stream",
     "text": [
      "Hello World\n",
      "Hello Java\n"
     ]
    }
   ],
   "source": [
    "print(\"Hello World\")\n",
    "print(\"Hello Java\")"
   ]
  },
  {
   "cell_type": "code",
   "execution_count": 11,
   "id": "0c99144e",
   "metadata": {},
   "outputs": [
    {
     "name": "stdout",
     "output_type": "stream",
     "text": [
      "Hello World Hello JavaklkmopHello Java\n",
      "Hello Java\n"
     ]
    }
   ],
   "source": [
    "print(\"Hello World\", \"Hello Java\", end=\"klkmop\")\n",
    "print(\"Hello Java\")\n",
    "print(\"Hello Java\")"
   ]
  },
  {
   "cell_type": "code",
   "execution_count": 14,
   "id": "a89817d9",
   "metadata": {},
   "outputs": [
    {
     "ename": "SyntaxError",
     "evalue": "invalid decimal literal (505771345.py, line 5)",
     "output_type": "error",
     "traceback": [
      "\u001b[1;36m  Cell \u001b[1;32mIn[14], line 5\u001b[1;36m\u001b[0m\n\u001b[1;33m    karmasik = 3 + 5f\u001b[0m\n\u001b[1;37m                   ^\u001b[0m\n\u001b[1;31mSyntaxError\u001b[0m\u001b[1;31m:\u001b[0m invalid decimal literal\n"
     ]
    }
   ],
   "source": [
    "tam_sayi = 15\n",
    "float_sayi = 3.14\n",
    "kelime = \"merhaba\"\n",
    "mantik = True\n",
    "karmasik = 3 + 5f"
   ]
  },
  {
   "cell_type": "code",
   "execution_count": 9,
   "id": "5f7c69c6",
   "metadata": {},
   "outputs": [
    {
     "name": "stdout",
     "output_type": "stream",
     "text": [
      "tam_sayi değişkeni <class 'int'> türündedir\n",
      "float_sayi değişkeni <class 'float'> türündedir\n",
      "kelime değişkeni <class 'str'> türündedir\n",
      "mantik değişkeni <class 'bool'> türündedir\n",
      "karmasik değişkeni <class 'complex'> türündedir\n"
     ]
    }
   ],
   "source": [
    "print(f\"tam_sayi değişkeni {type(tam_sayi)} türündedir\")\n",
    "print(f\"float_sayi değişkeni {type(float_sayi)} türündedir\")\n",
    "print(f\"kelime değişkeni {type(kelime)} türündedir\")\n",
    "print(f\"mantik değişkeni {type(mantik)} türündedir\")\n",
    "print(f\"karmasik değişkeni {type(karmasik)} türündedir\")"
   ]
  },
  {
   "cell_type": "code",
   "execution_count": 10,
   "id": "01e3933b",
   "metadata": {},
   "outputs": [
    {
     "name": "stdout",
     "output_type": "stream",
     "text": [
      "5 + 10 = 15\n"
     ]
    }
   ],
   "source": [
    "sayi1 = 5\n",
    "sayi2 = 10\n",
    "\n",
    "print(f\"{sayi1} + {sayi2} = {sayi1 + sayi2}\")"
   ]
  },
  {
   "cell_type": "code",
   "execution_count": 11,
   "id": "47a187a7",
   "metadata": {},
   "outputs": [
    {
     "data": {
      "text/plain": [
       "7"
      ]
     },
     "execution_count": 11,
     "metadata": {},
     "output_type": "execute_result"
    }
   ],
   "source": [
    "len(\"Merhaba\")"
   ]
  },
  {
   "cell_type": "code",
   "execution_count": 12,
   "id": "3af5db8b",
   "metadata": {},
   "outputs": [
    {
     "data": {
      "text/plain": [
       "3"
      ]
     },
     "execution_count": 12,
     "metadata": {},
     "output_type": "execute_result"
    }
   ],
   "source": [
    "int(3.14)"
   ]
  },
  {
   "cell_type": "code",
   "execution_count": 13,
   "id": "5d0d6c6f",
   "metadata": {},
   "outputs": [
    {
     "data": {
      "text/plain": [
       "4"
      ]
     },
     "execution_count": 13,
     "metadata": {},
     "output_type": "execute_result"
    }
   ],
   "source": [
    "round(3.54)"
   ]
  },
  {
   "cell_type": "code",
   "execution_count": 14,
   "id": "a372b095",
   "metadata": {},
   "outputs": [
    {
     "data": {
      "text/plain": [
       "3"
      ]
     },
     "execution_count": 14,
     "metadata": {},
     "output_type": "execute_result"
    }
   ],
   "source": [
    "round(3.45)"
   ]
  },
  {
   "cell_type": "code",
   "execution_count": 15,
   "id": "3b191655",
   "metadata": {},
   "outputs": [
    {
     "data": {
      "text/plain": [
       "'maşallahmaşallahmaşallahmaşallahmaşallahmaşallahmaşallahmaşallahmaşallahmaşallahmaşallahmaşallahmaşallahmaşallahmaşallahmaşallahmaşallahmaşallahmaşallahmaşallahmaşallahmaşallahmaşallahmaşallahmaşallahmaşallahmaşallahmaşallahmaşallahmaşallahmaşallahmaşallahmaşallahmaşallahmaşallahmaşallahmaşallahmaşallahmaşallahmaşallahmaşallah'"
      ]
     },
     "execution_count": 15,
     "metadata": {},
     "output_type": "execute_result"
    }
   ],
   "source": [
    " 41 * \"maşallah\""
   ]
  },
  {
   "cell_type": "code",
   "execution_count": 16,
   "id": "bfd2e958",
   "metadata": {},
   "outputs": [],
   "source": [
    "import math"
   ]
  },
  {
   "cell_type": "code",
   "execution_count": 17,
   "id": "eab19b8e",
   "metadata": {},
   "outputs": [
    {
     "data": {
      "text/plain": [
       "120"
      ]
     },
     "execution_count": 17,
     "metadata": {},
     "output_type": "execute_result"
    }
   ],
   "source": [
    "math.factorial(5)"
   ]
  },
  {
   "cell_type": "code",
   "execution_count": 19,
   "id": "f3957e7d",
   "metadata": {},
   "outputs": [
    {
     "data": {
      "text/plain": [
       "0.5000000000000001"
      ]
     },
     "execution_count": 19,
     "metadata": {},
     "output_type": "execute_result"
    }
   ],
   "source": [
    "math.cos(math.radians(60))"
   ]
  },
  {
   "cell_type": "code",
   "execution_count": 20,
   "id": "d39c2363",
   "metadata": {},
   "outputs": [],
   "source": [
    "# açıklama satırı"
   ]
  },
  {
   "cell_type": "code",
   "execution_count": 21,
   "id": "6a711f37",
   "metadata": {},
   "outputs": [
    {
     "data": {
      "text/plain": [
       "'\\n    açıklama1\\n    açıklama2\\n    açkılama3\\n'"
      ]
     },
     "execution_count": 21,
     "metadata": {},
     "output_type": "execute_result"
    }
   ],
   "source": [
    "'''\n",
    "    açıklama1\n",
    "    açıklama2\n",
    "    açkılama3\n",
    "'''"
   ]
  },
  {
   "cell_type": "markdown",
   "id": "9cd3a73a",
   "metadata": {},
   "source": [
    "Merhaba Dünya"
   ]
  },
  {
   "cell_type": "markdown",
   "id": "fd749040",
   "metadata": {},
   "source": [
    "for dongu_degiskeni in range(start, stop, artış veya azalış miktarı):\n",
    "    yapılacaklar"
   ]
  },
  {
   "cell_type": "code",
   "execution_count": 24,
   "id": "9e16e32a",
   "metadata": {},
   "outputs": [
    {
     "name": "stdout",
     "output_type": "stream",
     "text": [
      "10\n",
      "8\n",
      "6\n",
      "4\n",
      "2\n"
     ]
    }
   ],
   "source": [
    "for i in range(10, 1, -2):\n",
    "    print(i)"
   ]
  },
  {
   "cell_type": "code",
   "execution_count": 25,
   "id": "e2c318aa",
   "metadata": {},
   "outputs": [
    {
     "name": "stdout",
     "output_type": "stream",
     "text": [
      "0\n",
      "1\n",
      "2\n",
      "3\n",
      "4\n",
      "5\n",
      "6\n",
      "7\n",
      "8\n",
      "9\n"
     ]
    }
   ],
   "source": [
    "i = 0\n",
    "while i < 10:\n",
    "    print(i)\n",
    "    i += 1\n"
   ]
  },
  {
   "cell_type": "code",
   "execution_count": 26,
   "id": "d74f88b3",
   "metadata": {},
   "outputs": [
    {
     "name": "stdout",
     "output_type": "stream",
     "text": [
      "a büyük\n"
     ]
    }
   ],
   "source": [
    "a = 5\n",
    "b = 4\n",
    "\n",
    "if a > b:\n",
    "    print(\"a büyük\")\n",
    "elif a == b:\n",
    "    print(\"eşit\")\n",
    "else:\n",
    "    print(\"b büyük\")"
   ]
  },
  {
   "cell_type": "code",
   "execution_count": 27,
   "id": "c814d04a",
   "metadata": {},
   "outputs": [
    {
     "name": "stdout",
     "output_type": "stream",
     "text": [
      "<class 'list'>\n",
      "<class 'list'>\n"
     ]
    }
   ],
   "source": [
    "liste1 = []\n",
    "liste2 = list()\n",
    "print(type(liste1))\n",
    "print(type(liste2))"
   ]
  },
  {
   "cell_type": "code",
   "execution_count": 28,
   "id": "d9207ef0",
   "metadata": {},
   "outputs": [
    {
     "data": {
      "text/plain": [
       "[15, 'Merhaba', 3.14, True, (3+5j)]"
      ]
     },
     "execution_count": 28,
     "metadata": {},
     "output_type": "execute_result"
    }
   ],
   "source": [
    "liste_yeni = [15, \"Merhaba\", 3.14, True, 3+5j]\n",
    "liste_yeni"
   ]
  },
  {
   "cell_type": "code",
   "execution_count": 29,
   "id": "debe2f83",
   "metadata": {},
   "outputs": [
    {
     "data": {
      "text/plain": [
       "[15, 'Merhaba', 3.14, True, (3+5j), 'Son']"
      ]
     },
     "execution_count": 29,
     "metadata": {},
     "output_type": "execute_result"
    }
   ],
   "source": [
    "liste_yeni.append(\"Son\")\n",
    "liste_yeni"
   ]
  },
  {
   "cell_type": "code",
   "execution_count": 30,
   "id": "f37320b0",
   "metadata": {},
   "outputs": [
    {
     "data": {
      "text/plain": [
       "15"
      ]
     },
     "execution_count": 30,
     "metadata": {},
     "output_type": "execute_result"
    }
   ],
   "source": [
    "liste_yeni[0]"
   ]
  },
  {
   "cell_type": "code",
   "execution_count": 31,
   "id": "1e5af7c2",
   "metadata": {},
   "outputs": [
    {
     "name": "stdout",
     "output_type": "stream",
     "text": [
      "15\n",
      "Merhaba\n",
      "3.14\n",
      "True\n",
      "(3+5j)\n",
      "Son\n"
     ]
    }
   ],
   "source": [
    "for elm in liste_yeni:\n",
    "    print(elm)"
   ]
  },
  {
   "cell_type": "code",
   "execution_count": 33,
   "id": "b66d43eb",
   "metadata": {},
   "outputs": [
    {
     "name": "stdout",
     "output_type": "stream",
     "text": [
      "0. eleman 15\n",
      "1. eleman Merhaba\n",
      "2. eleman 3.14\n",
      "3. eleman True\n",
      "4. eleman (3+5j)\n",
      "5. eleman Son\n"
     ]
    }
   ],
   "source": [
    "for i in range(len(liste_yeni)):\n",
    "    print(f\"{i}. eleman {liste_yeni[i]}\")"
   ]
  },
  {
   "cell_type": "code",
   "execution_count": 34,
   "id": "93160522",
   "metadata": {},
   "outputs": [
    {
     "name": "stdout",
     "output_type": "stream",
     "text": [
      "<class 'tuple'>\n",
      "<class 'tuple'>\n"
     ]
    }
   ],
   "source": [
    "tuple1 = ()\n",
    "tuple2 = tuple()\n",
    "print(type(tuple1))\n",
    "print(type(tuple2))"
   ]
  },
  {
   "cell_type": "code",
   "execution_count": 35,
   "id": "e3a6e1ed",
   "metadata": {},
   "outputs": [
    {
     "data": {
      "text/plain": [
       "(1, 2, 3, 4, 5)"
      ]
     },
     "execution_count": 35,
     "metadata": {},
     "output_type": "execute_result"
    }
   ],
   "source": [
    "tuple_new = (1, 2, 3, 4, 5)\n",
    "tuple_new"
   ]
  },
  {
   "cell_type": "code",
   "execution_count": 36,
   "id": "9d0d1728",
   "metadata": {},
   "outputs": [
    {
     "name": "stdout",
     "output_type": "stream",
     "text": [
      "<class 'dict'>\n",
      "<class 'dict'>\n"
     ]
    }
   ],
   "source": [
    "dict1 = {}\n",
    "dict2 = dict()\n",
    "print(type(dict1))\n",
    "print(type(dict2))"
   ]
  },
  {
   "cell_type": "code",
   "execution_count": 37,
   "id": "6043f6e1",
   "metadata": {},
   "outputs": [
    {
     "data": {
      "text/plain": [
       "{'Kalem': 2, 'Defter': 3, 'Silgi': 4}"
      ]
     },
     "execution_count": 37,
     "metadata": {},
     "output_type": "execute_result"
    }
   ],
   "source": [
    "dict_new = {\n",
    "    \"Kalem\" : 2,\n",
    "    \"Defter\" : 3,\n",
    "    \"Silgi\" :4\n",
    "}\n",
    "dict_new"
   ]
  },
  {
   "cell_type": "code",
   "execution_count": 38,
   "id": "ad9e5bbb",
   "metadata": {},
   "outputs": [
    {
     "data": {
      "text/plain": [
       "2"
      ]
     },
     "execution_count": 38,
     "metadata": {},
     "output_type": "execute_result"
    }
   ],
   "source": [
    "dict_new[\"Kalem\"]"
   ]
  },
  {
   "cell_type": "code",
   "execution_count": 46,
   "id": "fee6beac",
   "metadata": {},
   "outputs": [
    {
     "data": {
      "text/plain": [
       "{1: 3, 2: 3, 10: 2, 18: 1, 4: 2, 75: 1, 3: 1, 5: 1}"
      ]
     },
     "execution_count": 46,
     "metadata": {},
     "output_type": "execute_result"
    }
   ],
   "source": [
    "liste = [1, 2, 10, 18, 1, 2, 4, 10, 75, 3, 4, 1, 5, 2]\n",
    "sonuc = {}\n",
    "\n",
    "for elm in liste:\n",
    "    if elm not in sonuc.keys():\n",
    "        sonuc[elm] = 1\n",
    "    else:\n",
    "        sonuc[elm] += 1\n",
    "sonuc\n",
    "    \n",
    "        \n"
   ]
  },
  {
   "cell_type": "code",
   "execution_count": null,
   "id": "b520015b",
   "metadata": {},
   "outputs": [],
   "source": []
  },
  {
   "cell_type": "code",
   "execution_count": null,
   "id": "17e1699c",
   "metadata": {},
   "outputs": [],
   "source": []
  },
  {
   "cell_type": "code",
   "execution_count": null,
   "id": "a80f7a5b",
   "metadata": {},
   "outputs": [],
   "source": []
  },
  {
   "cell_type": "code",
   "execution_count": null,
   "id": "3dd8cd85",
   "metadata": {},
   "outputs": [],
   "source": []
  },
  {
   "cell_type": "code",
   "execution_count": null,
   "id": "7b2460aa",
   "metadata": {},
   "outputs": [],
   "source": []
  },
  {
   "cell_type": "code",
   "execution_count": null,
   "id": "16f8d7cc",
   "metadata": {},
   "outputs": [],
   "source": []
  },
  {
   "cell_type": "code",
   "execution_count": null,
   "id": "015bf36c",
   "metadata": {},
   "outputs": [],
   "source": []
  },
  {
   "cell_type": "code",
   "execution_count": null,
   "id": "d4668f50",
   "metadata": {},
   "outputs": [],
   "source": []
  },
  {
   "cell_type": "code",
   "execution_count": null,
   "id": "9392b5a0",
   "metadata": {},
   "outputs": [],
   "source": []
  }
 ],
 "metadata": {
  "kernelspec": {
   "display_name": "Python 3 (ipykernel)",
   "language": "python",
   "name": "python3"
  },
  "language_info": {
   "codemirror_mode": {
    "name": "ipython",
    "version": 3
   },
   "file_extension": ".py",
   "mimetype": "text/x-python",
   "name": "python",
   "nbconvert_exporter": "python",
   "pygments_lexer": "ipython3",
   "version": "3.11.4"
  }
 },
 "nbformat": 4,
 "nbformat_minor": 5
}
