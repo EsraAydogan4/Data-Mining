{
 "cells": [
  {
   "cell_type": "code",
   "execution_count": 1,
   "id": "cc4aa316-fd33-4244-8f40-c2232d696f31",
   "metadata": {},
   "outputs": [],
   "source": [
    "import pandas as pd"
   ]
  },
  {
   "cell_type": "code",
   "execution_count": 2,
   "id": "a518a385-dd47-48ab-8c31-c69b193d1376",
   "metadata": {},
   "outputs": [
    {
     "data": {
      "text/html": [
       "<div>\n",
       "<style scoped>\n",
       "    .dataframe tbody tr th:only-of-type {\n",
       "        vertical-align: middle;\n",
       "    }\n",
       "\n",
       "    .dataframe tbody tr th {\n",
       "        vertical-align: top;\n",
       "    }\n",
       "\n",
       "    .dataframe thead th {\n",
       "        text-align: right;\n",
       "    }\n",
       "</style>\n",
       "<table border=\"1\" class=\"dataframe\">\n",
       "  <thead>\n",
       "    <tr style=\"text-align: right;\">\n",
       "      <th></th>\n",
       "      <th>label</th>\n",
       "      <th>id</th>\n",
       "      <th>fea_1</th>\n",
       "      <th>fea_2</th>\n",
       "      <th>fea_3</th>\n",
       "      <th>fea_4</th>\n",
       "      <th>fea_5</th>\n",
       "      <th>fea_6</th>\n",
       "      <th>fea_7</th>\n",
       "      <th>fea_8</th>\n",
       "      <th>fea_9</th>\n",
       "      <th>fea_10</th>\n",
       "      <th>fea_11</th>\n",
       "    </tr>\n",
       "  </thead>\n",
       "  <tbody>\n",
       "    <tr>\n",
       "      <th>0</th>\n",
       "      <td>1</td>\n",
       "      <td>54982665</td>\n",
       "      <td>5</td>\n",
       "      <td>1245.5</td>\n",
       "      <td>3</td>\n",
       "      <td>77000.0</td>\n",
       "      <td>2</td>\n",
       "      <td>15</td>\n",
       "      <td>5</td>\n",
       "      <td>109</td>\n",
       "      <td>5</td>\n",
       "      <td>151300</td>\n",
       "      <td>244.948974</td>\n",
       "    </tr>\n",
       "    <tr>\n",
       "      <th>1</th>\n",
       "      <td>0</td>\n",
       "      <td>59004779</td>\n",
       "      <td>4</td>\n",
       "      <td>1277.0</td>\n",
       "      <td>1</td>\n",
       "      <td>113000.0</td>\n",
       "      <td>2</td>\n",
       "      <td>8</td>\n",
       "      <td>-1</td>\n",
       "      <td>100</td>\n",
       "      <td>3</td>\n",
       "      <td>341759</td>\n",
       "      <td>207.173840</td>\n",
       "    </tr>\n",
       "    <tr>\n",
       "      <th>2</th>\n",
       "      <td>0</td>\n",
       "      <td>58990862</td>\n",
       "      <td>7</td>\n",
       "      <td>1298.0</td>\n",
       "      <td>1</td>\n",
       "      <td>110000.0</td>\n",
       "      <td>2</td>\n",
       "      <td>11</td>\n",
       "      <td>-1</td>\n",
       "      <td>101</td>\n",
       "      <td>5</td>\n",
       "      <td>72001</td>\n",
       "      <td>1.000000</td>\n",
       "    </tr>\n",
       "    <tr>\n",
       "      <th>3</th>\n",
       "      <td>1</td>\n",
       "      <td>58995168</td>\n",
       "      <td>7</td>\n",
       "      <td>1335.5</td>\n",
       "      <td>1</td>\n",
       "      <td>151000.0</td>\n",
       "      <td>2</td>\n",
       "      <td>11</td>\n",
       "      <td>5</td>\n",
       "      <td>110</td>\n",
       "      <td>3</td>\n",
       "      <td>60084</td>\n",
       "      <td>1.000000</td>\n",
       "    </tr>\n",
       "    <tr>\n",
       "      <th>4</th>\n",
       "      <td>0</td>\n",
       "      <td>54987320</td>\n",
       "      <td>7</td>\n",
       "      <td>NaN</td>\n",
       "      <td>2</td>\n",
       "      <td>59000.0</td>\n",
       "      <td>2</td>\n",
       "      <td>11</td>\n",
       "      <td>5</td>\n",
       "      <td>108</td>\n",
       "      <td>4</td>\n",
       "      <td>450081</td>\n",
       "      <td>197.403141</td>\n",
       "    </tr>\n",
       "    <tr>\n",
       "      <th>...</th>\n",
       "      <td>...</td>\n",
       "      <td>...</td>\n",
       "      <td>...</td>\n",
       "      <td>...</td>\n",
       "      <td>...</td>\n",
       "      <td>...</td>\n",
       "      <td>...</td>\n",
       "      <td>...</td>\n",
       "      <td>...</td>\n",
       "      <td>...</td>\n",
       "      <td>...</td>\n",
       "      <td>...</td>\n",
       "      <td>...</td>\n",
       "    </tr>\n",
       "    <tr>\n",
       "      <th>1120</th>\n",
       "      <td>0</td>\n",
       "      <td>58988196</td>\n",
       "      <td>5</td>\n",
       "      <td>1289.0</td>\n",
       "      <td>1</td>\n",
       "      <td>173000.0</td>\n",
       "      <td>2</td>\n",
       "      <td>15</td>\n",
       "      <td>5</td>\n",
       "      <td>112</td>\n",
       "      <td>3</td>\n",
       "      <td>350702</td>\n",
       "      <td>200.000000</td>\n",
       "    </tr>\n",
       "    <tr>\n",
       "      <th>1121</th>\n",
       "      <td>0</td>\n",
       "      <td>58987926</td>\n",
       "      <td>5</td>\n",
       "      <td>NaN</td>\n",
       "      <td>2</td>\n",
       "      <td>50000.0</td>\n",
       "      <td>2</td>\n",
       "      <td>15</td>\n",
       "      <td>5</td>\n",
       "      <td>108</td>\n",
       "      <td>4</td>\n",
       "      <td>450000</td>\n",
       "      <td>169.000000</td>\n",
       "    </tr>\n",
       "    <tr>\n",
       "      <th>1122</th>\n",
       "      <td>0</td>\n",
       "      <td>58995381</td>\n",
       "      <td>7</td>\n",
       "      <td>1220.0</td>\n",
       "      <td>3</td>\n",
       "      <td>76000.0</td>\n",
       "      <td>2</td>\n",
       "      <td>11</td>\n",
       "      <td>2</td>\n",
       "      <td>90</td>\n",
       "      <td>5</td>\n",
       "      <td>71002</td>\n",
       "      <td>1.000000</td>\n",
       "    </tr>\n",
       "    <tr>\n",
       "      <th>1123</th>\n",
       "      <td>0</td>\n",
       "      <td>58998054</td>\n",
       "      <td>4</td>\n",
       "      <td>1250.0</td>\n",
       "      <td>3</td>\n",
       "      <td>137000.0</td>\n",
       "      <td>2</td>\n",
       "      <td>8</td>\n",
       "      <td>5</td>\n",
       "      <td>90</td>\n",
       "      <td>5</td>\n",
       "      <td>72000</td>\n",
       "      <td>1.000000</td>\n",
       "    </tr>\n",
       "    <tr>\n",
       "      <th>1124</th>\n",
       "      <td>0</td>\n",
       "      <td>54989781</td>\n",
       "      <td>4</td>\n",
       "      <td>1415.0</td>\n",
       "      <td>3</td>\n",
       "      <td>93000.0</td>\n",
       "      <td>2</td>\n",
       "      <td>8</td>\n",
       "      <td>5</td>\n",
       "      <td>113</td>\n",
       "      <td>4</td>\n",
       "      <td>151300</td>\n",
       "      <td>273.861279</td>\n",
       "    </tr>\n",
       "  </tbody>\n",
       "</table>\n",
       "<p>1125 rows × 13 columns</p>\n",
       "</div>"
      ],
      "text/plain": [
       "      label        id  fea_1   fea_2  fea_3     fea_4  fea_5  fea_6  fea_7  \\\n",
       "0         1  54982665      5  1245.5      3   77000.0      2     15      5   \n",
       "1         0  59004779      4  1277.0      1  113000.0      2      8     -1   \n",
       "2         0  58990862      7  1298.0      1  110000.0      2     11     -1   \n",
       "3         1  58995168      7  1335.5      1  151000.0      2     11      5   \n",
       "4         0  54987320      7     NaN      2   59000.0      2     11      5   \n",
       "...     ...       ...    ...     ...    ...       ...    ...    ...    ...   \n",
       "1120      0  58988196      5  1289.0      1  173000.0      2     15      5   \n",
       "1121      0  58987926      5     NaN      2   50000.0      2     15      5   \n",
       "1122      0  58995381      7  1220.0      3   76000.0      2     11      2   \n",
       "1123      0  58998054      4  1250.0      3  137000.0      2      8      5   \n",
       "1124      0  54989781      4  1415.0      3   93000.0      2      8      5   \n",
       "\n",
       "      fea_8  fea_9  fea_10      fea_11  \n",
       "0       109      5  151300  244.948974  \n",
       "1       100      3  341759  207.173840  \n",
       "2       101      5   72001    1.000000  \n",
       "3       110      3   60084    1.000000  \n",
       "4       108      4  450081  197.403141  \n",
       "...     ...    ...     ...         ...  \n",
       "1120    112      3  350702  200.000000  \n",
       "1121    108      4  450000  169.000000  \n",
       "1122     90      5   71002    1.000000  \n",
       "1123     90      5   72000    1.000000  \n",
       "1124    113      4  151300  273.861279  \n",
       "\n",
       "[1125 rows x 13 columns]"
      ]
     },
     "execution_count": 2,
     "metadata": {},
     "output_type": "execute_result"
    }
   ],
   "source": [
    "df = pd.read_csv(\"resources/customer_data.csv\")\n",
    "df"
   ]
  },
  {
   "cell_type": "code",
   "execution_count": 3,
   "id": "a5f8e6cc-d66c-4af9-b2fa-04be4f56ec91",
   "metadata": {},
   "outputs": [
    {
     "name": "stdout",
     "output_type": "stream",
     "text": [
      "<class 'pandas.core.frame.DataFrame'>\n",
      "RangeIndex: 1125 entries, 0 to 1124\n",
      "Data columns (total 13 columns):\n",
      " #   Column  Non-Null Count  Dtype  \n",
      "---  ------  --------------  -----  \n",
      " 0   label   1125 non-null   int64  \n",
      " 1   id      1125 non-null   int64  \n",
      " 2   fea_1   1125 non-null   int64  \n",
      " 3   fea_2   976 non-null    float64\n",
      " 4   fea_3   1125 non-null   int64  \n",
      " 5   fea_4   1125 non-null   float64\n",
      " 6   fea_5   1125 non-null   int64  \n",
      " 7   fea_6   1125 non-null   int64  \n",
      " 8   fea_7   1125 non-null   int64  \n",
      " 9   fea_8   1125 non-null   int64  \n",
      " 10  fea_9   1125 non-null   int64  \n",
      " 11  fea_10  1125 non-null   int64  \n",
      " 12  fea_11  1125 non-null   float64\n",
      "dtypes: float64(3), int64(10)\n",
      "memory usage: 114.4 KB\n"
     ]
    }
   ],
   "source": [
    "df.info()"
   ]
  },
  {
   "cell_type": "code",
   "execution_count": 4,
   "id": "9c12aa98-3877-4832-aad4-5f7e3cc8e7f8",
   "metadata": {},
   "outputs": [
    {
     "data": {
      "text/html": [
       "<div>\n",
       "<style scoped>\n",
       "    .dataframe tbody tr th:only-of-type {\n",
       "        vertical-align: middle;\n",
       "    }\n",
       "\n",
       "    .dataframe tbody tr th {\n",
       "        vertical-align: top;\n",
       "    }\n",
       "\n",
       "    .dataframe thead th {\n",
       "        text-align: right;\n",
       "    }\n",
       "</style>\n",
       "<table border=\"1\" class=\"dataframe\">\n",
       "  <thead>\n",
       "    <tr style=\"text-align: right;\">\n",
       "      <th></th>\n",
       "      <th>count</th>\n",
       "      <th>mean</th>\n",
       "      <th>std</th>\n",
       "      <th>min</th>\n",
       "      <th>25%</th>\n",
       "      <th>50%</th>\n",
       "      <th>75%</th>\n",
       "      <th>max</th>\n",
       "    </tr>\n",
       "  </thead>\n",
       "  <tbody>\n",
       "    <tr>\n",
       "      <th>label</th>\n",
       "      <td>1125.0</td>\n",
       "      <td>2.000000e-01</td>\n",
       "      <td>4.001779e-01</td>\n",
       "      <td>0.0</td>\n",
       "      <td>0.0</td>\n",
       "      <td>0.000000e+00</td>\n",
       "      <td>0.000000e+00</td>\n",
       "      <td>1.000000e+00</td>\n",
       "    </tr>\n",
       "    <tr>\n",
       "      <th>id</th>\n",
       "      <td>1125.0</td>\n",
       "      <td>5.783677e+07</td>\n",
       "      <td>1.817150e+06</td>\n",
       "      <td>54982353.0</td>\n",
       "      <td>54990497.0</td>\n",
       "      <td>5.898975e+07</td>\n",
       "      <td>5.899799e+07</td>\n",
       "      <td>5.900624e+07</td>\n",
       "    </tr>\n",
       "    <tr>\n",
       "      <th>fea_1</th>\n",
       "      <td>1125.0</td>\n",
       "      <td>5.482667e+00</td>\n",
       "      <td>1.383338e+00</td>\n",
       "      <td>1.0</td>\n",
       "      <td>4.0</td>\n",
       "      <td>5.000000e+00</td>\n",
       "      <td>7.000000e+00</td>\n",
       "      <td>7.000000e+00</td>\n",
       "    </tr>\n",
       "    <tr>\n",
       "      <th>fea_2</th>\n",
       "      <td>976.0</td>\n",
       "      <td>1.283911e+03</td>\n",
       "      <td>5.176402e+01</td>\n",
       "      <td>1116.5</td>\n",
       "      <td>1244.0</td>\n",
       "      <td>1.281500e+03</td>\n",
       "      <td>1.314500e+03</td>\n",
       "      <td>1.481000e+03</td>\n",
       "    </tr>\n",
       "    <tr>\n",
       "      <th>fea_3</th>\n",
       "      <td>1125.0</td>\n",
       "      <td>2.333333e+00</td>\n",
       "      <td>8.787730e-01</td>\n",
       "      <td>1.0</td>\n",
       "      <td>1.0</td>\n",
       "      <td>3.000000e+00</td>\n",
       "      <td>3.000000e+00</td>\n",
       "      <td>3.000000e+00</td>\n",
       "    </tr>\n",
       "    <tr>\n",
       "      <th>fea_4</th>\n",
       "      <td>1125.0</td>\n",
       "      <td>1.208836e+05</td>\n",
       "      <td>8.844523e+04</td>\n",
       "      <td>15000.0</td>\n",
       "      <td>72000.0</td>\n",
       "      <td>1.020000e+05</td>\n",
       "      <td>1.390000e+05</td>\n",
       "      <td>1.200000e+06</td>\n",
       "    </tr>\n",
       "    <tr>\n",
       "      <th>fea_5</th>\n",
       "      <td>1125.0</td>\n",
       "      <td>1.928889e+00</td>\n",
       "      <td>2.571247e-01</td>\n",
       "      <td>1.0</td>\n",
       "      <td>2.0</td>\n",
       "      <td>2.000000e+00</td>\n",
       "      <td>2.000000e+00</td>\n",
       "      <td>2.000000e+00</td>\n",
       "    </tr>\n",
       "    <tr>\n",
       "      <th>fea_6</th>\n",
       "      <td>1125.0</td>\n",
       "      <td>1.087200e+01</td>\n",
       "      <td>2.676437e+00</td>\n",
       "      <td>3.0</td>\n",
       "      <td>8.0</td>\n",
       "      <td>1.100000e+01</td>\n",
       "      <td>1.100000e+01</td>\n",
       "      <td>1.600000e+01</td>\n",
       "    </tr>\n",
       "    <tr>\n",
       "      <th>fea_7</th>\n",
       "      <td>1125.0</td>\n",
       "      <td>4.832889e+00</td>\n",
       "      <td>2.971182e+00</td>\n",
       "      <td>-1.0</td>\n",
       "      <td>5.0</td>\n",
       "      <td>5.000000e+00</td>\n",
       "      <td>5.000000e+00</td>\n",
       "      <td>1.000000e+01</td>\n",
       "    </tr>\n",
       "    <tr>\n",
       "      <th>fea_8</th>\n",
       "      <td>1125.0</td>\n",
       "      <td>1.008027e+02</td>\n",
       "      <td>1.198896e+01</td>\n",
       "      <td>64.0</td>\n",
       "      <td>90.0</td>\n",
       "      <td>1.050000e+02</td>\n",
       "      <td>1.110000e+02</td>\n",
       "      <td>1.150000e+02</td>\n",
       "    </tr>\n",
       "    <tr>\n",
       "      <th>fea_9</th>\n",
       "      <td>1125.0</td>\n",
       "      <td>4.195556e+00</td>\n",
       "      <td>8.556790e-01</td>\n",
       "      <td>1.0</td>\n",
       "      <td>3.0</td>\n",
       "      <td>4.000000e+00</td>\n",
       "      <td>5.000000e+00</td>\n",
       "      <td>5.000000e+00</td>\n",
       "    </tr>\n",
       "    <tr>\n",
       "      <th>fea_10</th>\n",
       "      <td>1125.0</td>\n",
       "      <td>1.646185e+05</td>\n",
       "      <td>1.525205e+05</td>\n",
       "      <td>60000.0</td>\n",
       "      <td>60044.0</td>\n",
       "      <td>7.200000e+04</td>\n",
       "      <td>1.513070e+05</td>\n",
       "      <td>6.500700e+05</td>\n",
       "    </tr>\n",
       "    <tr>\n",
       "      <th>fea_11</th>\n",
       "      <td>1125.0</td>\n",
       "      <td>1.349990e+02</td>\n",
       "      <td>1.126168e+02</td>\n",
       "      <td>1.0</td>\n",
       "      <td>1.0</td>\n",
       "      <td>1.732051e+02</td>\n",
       "      <td>2.024846e+02</td>\n",
       "      <td>7.071068e+02</td>\n",
       "    </tr>\n",
       "  </tbody>\n",
       "</table>\n",
       "</div>"
      ],
      "text/plain": [
       "         count          mean           std         min         25%  \\\n",
       "label   1125.0  2.000000e-01  4.001779e-01         0.0         0.0   \n",
       "id      1125.0  5.783677e+07  1.817150e+06  54982353.0  54990497.0   \n",
       "fea_1   1125.0  5.482667e+00  1.383338e+00         1.0         4.0   \n",
       "fea_2    976.0  1.283911e+03  5.176402e+01      1116.5      1244.0   \n",
       "fea_3   1125.0  2.333333e+00  8.787730e-01         1.0         1.0   \n",
       "fea_4   1125.0  1.208836e+05  8.844523e+04     15000.0     72000.0   \n",
       "fea_5   1125.0  1.928889e+00  2.571247e-01         1.0         2.0   \n",
       "fea_6   1125.0  1.087200e+01  2.676437e+00         3.0         8.0   \n",
       "fea_7   1125.0  4.832889e+00  2.971182e+00        -1.0         5.0   \n",
       "fea_8   1125.0  1.008027e+02  1.198896e+01        64.0        90.0   \n",
       "fea_9   1125.0  4.195556e+00  8.556790e-01         1.0         3.0   \n",
       "fea_10  1125.0  1.646185e+05  1.525205e+05     60000.0     60044.0   \n",
       "fea_11  1125.0  1.349990e+02  1.126168e+02         1.0         1.0   \n",
       "\n",
       "                 50%           75%           max  \n",
       "label   0.000000e+00  0.000000e+00  1.000000e+00  \n",
       "id      5.898975e+07  5.899799e+07  5.900624e+07  \n",
       "fea_1   5.000000e+00  7.000000e+00  7.000000e+00  \n",
       "fea_2   1.281500e+03  1.314500e+03  1.481000e+03  \n",
       "fea_3   3.000000e+00  3.000000e+00  3.000000e+00  \n",
       "fea_4   1.020000e+05  1.390000e+05  1.200000e+06  \n",
       "fea_5   2.000000e+00  2.000000e+00  2.000000e+00  \n",
       "fea_6   1.100000e+01  1.100000e+01  1.600000e+01  \n",
       "fea_7   5.000000e+00  5.000000e+00  1.000000e+01  \n",
       "fea_8   1.050000e+02  1.110000e+02  1.150000e+02  \n",
       "fea_9   4.000000e+00  5.000000e+00  5.000000e+00  \n",
       "fea_10  7.200000e+04  1.513070e+05  6.500700e+05  \n",
       "fea_11  1.732051e+02  2.024846e+02  7.071068e+02  "
      ]
     },
     "execution_count": 4,
     "metadata": {},
     "output_type": "execute_result"
    }
   ],
   "source": [
    "df.describe().T"
   ]
  },
  {
   "cell_type": "code",
   "execution_count": 5,
   "id": "1b65d1fc-2a29-41ed-a7e1-6d9920a3394d",
   "metadata": {},
   "outputs": [
    {
     "data": {
      "text/plain": [
       "(1283.9113729508197, 1281.5)"
      ]
     },
     "execution_count": 5,
     "metadata": {},
     "output_type": "execute_result"
    }
   ],
   "source": [
    "df.fea_2.mean(), df.fea_2.median()"
   ]
  },
  {
   "cell_type": "code",
   "execution_count": 6,
   "id": "6563938f-8761-4e94-ac36-8dfdded06a21",
   "metadata": {},
   "outputs": [
    {
     "data": {
      "text/plain": [
       "label     0\n",
       "id        0\n",
       "fea_1     0\n",
       "fea_2     0\n",
       "fea_3     0\n",
       "fea_4     0\n",
       "fea_5     0\n",
       "fea_6     0\n",
       "fea_7     0\n",
       "fea_8     0\n",
       "fea_9     0\n",
       "fea_10    0\n",
       "fea_11    0\n",
       "dtype: int64"
      ]
     },
     "execution_count": 6,
     "metadata": {},
     "output_type": "execute_result"
    }
   ],
   "source": [
    "df.fea_2.fillna(df.fea_2.mean(), inplace=True)\n",
    "df.isna().sum()"
   ]
  },
  {
   "cell_type": "code",
   "execution_count": 7,
   "id": "4851924b-772c-4e11-8948-39b29b971003",
   "metadata": {},
   "outputs": [
    {
     "data": {
      "text/plain": [
       "label\n",
       "0    900\n",
       "1    225\n",
       "Name: count, dtype: int64"
      ]
     },
     "execution_count": 7,
     "metadata": {},
     "output_type": "execute_result"
    }
   ],
   "source": [
    "df.label.value_counts()"
   ]
  },
  {
   "cell_type": "code",
   "execution_count": 17,
   "id": "dc997038-1155-4959-b750-432e626d387f",
   "metadata": {},
   "outputs": [
    {
     "data": {
      "text/plain": [
       "<Axes: title={'center': 'Risk Dağılım Grafiği'}, xlabel='label'>"
      ]
     },
     "execution_count": 17,
     "metadata": {},
     "output_type": "execute_result"
    },
    {
     "data": {
      "image/png": "[encoded data removed]",
      "text/plain": [
       "<Figure size 640x480 with 1 Axes>"
      ]
     },
     "metadata": {},
     "output_type": "display_data"
    }
   ],
   "source": [
    "import seaborn as sns\n",
    "import matplotlib.pyplot as plt\n",
    "\n",
    "label_count = pd.DataFrame(\n",
    "    {\n",
    "        \"Risk_Duzeyi\":df.label.value_counts().index,\n",
    "        \"Toplam_Sayi\":df.label.value_counts().values\n",
    "    }\n",
    ")\n",
    "\n",
    "plt.title(\"Risk Dağılım Grafiği\")\n",
    "# sns.barplot(data=label_count, x=\"Risk_Duzeyi\", y=\"Toplam_Sayi\", hue=\"Risk_Duzeyi\")\n",
    "sns.barplot(x=df.label.value_counts().index, \n",
    "            y=df.label.value_counts().values, hue=df.label.value_counts().index)"
   ]
  },
  {
   "cell_type": "code",
   "execution_count": 18,
   "id": "c2ad6946-d6c7-41af-af54-482c9bf2860a",
   "metadata": {},
   "outputs": [],
   "source": [
    "X = df.drop(\"label\", axis=1)\n",
    "y = df.label"
   ]
  },
  {
   "cell_type": "code",
   "execution_count": 20,
   "id": "a2fb6c26-af62-44f9-acd3-6d6ecfa88c37",
   "metadata": {},
   "outputs": [
    {
     "data": {
      "text/plain": [
       "0       1\n",
       "1       0\n",
       "2       0\n",
       "3       1\n",
       "4       0\n",
       "       ..\n",
       "1120    0\n",
       "1121    0\n",
       "1122    0\n",
       "1123    0\n",
       "1124    0\n",
       "Name: label, Length: 1125, dtype: int64"
      ]
     },
     "execution_count": 20,
     "metadata": {},
     "output_type": "execute_result"
    }
   ],
   "source": [
    "y"
   ]
  },
  {
   "cell_type": "code",
   "execution_count": 23,
   "id": "84d11034-e4ff-4cd1-9013-3b5c5a87a2ba",
   "metadata": {},
   "outputs": [],
   "source": [
    "from sklearn.model_selection import train_test_split\n",
    "\n",
    "X_train, X_test, y_train, y_test = train_test_split(X, y, test_size=0.2,\n",
    "                                                   random_state=42,\n",
    "                                                   stratify=y)"
   ]
  },
  {
   "cell_type": "code",
   "execution_count": 24,
   "id": "97eb1b3c-df8d-4a9c-8656-d7158df35ff9",
   "metadata": {},
   "outputs": [
    {
     "data": {
      "text/html": [
       "<style>#sk-container-id-1 {color: black;}#sk-container-id-1 pre{padding: 0;}#sk-container-id-1 div.sk-toggleable {background-color: white;}#sk-container-id-1 label.sk-toggleable__label {cursor: pointer;display: block;width: 100%;margin-bottom: 0;padding: 0.3em;box-sizing: border-box;text-align: center;}#sk-container-id-1 label.sk-toggleable__label-arrow:before {content: \"▸\";float: left;margin-right: 0.25em;color: #696969;}#sk-container-id-1 label.sk-toggleable__label-arrow:hover:before {color: black;}#sk-container-id-1 div.sk-estimator:hover label.sk-toggleable__label-arrow:before {color: black;}#sk-container-id-1 div.sk-toggleable__content {max-height: 0;max-width: 0;overflow: hidden;text-align: left;background-color: #f0f8ff;}#sk-container-id-1 div.sk-toggleable__content pre {margin: 0.2em;color: black;border-radius: 0.25em;background-color: #f0f8ff;}#sk-container-id-1 input.sk-toggleable__control:checked~div.sk-toggleable__content {max-height: 200px;max-width: 100%;overflow: auto;}#sk-container-id-1 input.sk-toggleable__control:checked~label.sk-toggleable__label-arrow:before {content: \"▾\";}#sk-container-id-1 div.sk-estimator input.sk-toggleable__control:checked~label.sk-toggleable__label {background-color: #d4ebff;}#sk-container-id-1 div.sk-label input.sk-toggleable__control:checked~label.sk-toggleable__label {background-color: #d4ebff;}#sk-container-id-1 input.sk-hidden--visually {border: 0;clip: rect(1px 1px 1px 1px);clip: rect(1px, 1px, 1px, 1px);height: 1px;margin: -1px;overflow: hidden;padding: 0;position: absolute;width: 1px;}#sk-container-id-1 div.sk-estimator {font-family: monospace;background-color: #f0f8ff;border: 1px dotted black;border-radius: 0.25em;box-sizing: border-box;margin-bottom: 0.5em;}#sk-container-id-1 div.sk-estimator:hover {background-color: #d4ebff;}#sk-container-id-1 div.sk-parallel-item::after {content: \"\";width: 100%;border-bottom: 1px solid gray;flex-grow: 1;}#sk-container-id-1 div.sk-label:hover label.sk-toggleable__label {background-color: #d4ebff;}#sk-container-id-1 div.sk-serial::before {content: \"\";position: absolute;border-left: 1px solid gray;box-sizing: border-box;top: 0;bottom: 0;left: 50%;z-index: 0;}#sk-container-id-1 div.sk-serial {display: flex;flex-direction: column;align-items: center;background-color: white;padding-right: 0.2em;padding-left: 0.2em;position: relative;}#sk-container-id-1 div.sk-item {position: relative;z-index: 1;}#sk-container-id-1 div.sk-parallel {display: flex;align-items: stretch;justify-content: center;background-color: white;position: relative;}#sk-container-id-1 div.sk-item::before, #sk-container-id-1 div.sk-parallel-item::before {content: \"\";position: absolute;border-left: 1px solid gray;box-sizing: border-box;top: 0;bottom: 0;left: 50%;z-index: -1;}#sk-container-id-1 div.sk-parallel-item {display: flex;flex-direction: column;z-index: 1;position: relative;background-color: white;}#sk-container-id-1 div.sk-parallel-item:first-child::after {align-self: flex-end;width: 50%;}#sk-container-id-1 div.sk-parallel-item:last-child::after {align-self: flex-start;width: 50%;}#sk-container-id-1 div.sk-parallel-item:only-child::after {width: 0;}#sk-container-id-1 div.sk-dashed-wrapped {border: 1px dashed gray;margin: 0 0.4em 0.5em 0.4em;box-sizing: border-box;padding-bottom: 0.4em;background-color: white;}#sk-container-id-1 div.sk-label label {font-family: monospace;font-weight: bold;display: inline-block;line-height: 1.2em;}#sk-container-id-1 div.sk-label-container {text-align: center;}#sk-container-id-1 div.sk-container {/* jupyter's `normalize.less` sets `[hidden] { display: none; }` but bootstrap.min.css set `[hidden] { display: none !important; }` so we also need the `!important` here to be able to override the default hidden behavior on the sphinx rendered scikit-learn.org. See: https://github.com/scikit-learn/scikit-learn/issues/21755 */display: inline-block !important;position: relative;}#sk-container-id-1 div.sk-text-repr-fallback {display: none;}</style><div id=\"sk-container-id-1\" class=\"sk-top-container\"><div class=\"sk-text-repr-fallback\"><pre>RandomForestClassifier()</pre><b>In a Jupyter environment, please rerun this cell to show the HTML representation or trust the notebook. <br />On GitHub, the HTML representation is unable to render, please try loading this page with nbviewer.org.</b></div><div class=\"sk-container\" hidden><div class=\"sk-item\"><div class=\"sk-estimator sk-toggleable\"><input class=\"sk-toggleable__control sk-hidden--visually\" id=\"sk-estimator-id-1\" type=\"checkbox\" checked><label for=\"sk-estimator-id-1\" class=\"sk-toggleable__label sk-toggleable__label-arrow\">RandomForestClassifier</label><div class=\"sk-toggleable__content\"><pre>RandomForestClassifier()</pre></div></div></div></div></div>"
      ],
      "text/plain": [
       "RandomForestClassifier()"
      ]
     },
     "execution_count": 24,
     "metadata": {},
     "output_type": "execute_result"
    }
   ],
   "source": [
    "from sklearn.ensemble import RandomForestClassifier\n",
    "\n",
    "model_rf = RandomForestClassifier()\n",
    "model_rf.fit(X_train, y_train)"
   ]
  },
  {
   "cell_type": "code",
   "execution_count": 27,
   "id": "583d0814-7829-4847-aea4-96679fbe0a29",
   "metadata": {},
   "outputs": [
    {
     "name": "stdout",
     "output_type": "stream",
     "text": [
      "              precision    recall  f1-score   support\n",
      "\n",
      "           0       0.80      0.96      0.87       180\n",
      "           1       0.22      0.04      0.07        45\n",
      "\n",
      "    accuracy                           0.78       225\n",
      "   macro avg       0.51      0.50      0.47       225\n",
      "weighted avg       0.69      0.78      0.71       225\n",
      "\n"
     ]
    }
   ],
   "source": [
    "from sklearn.metrics import classification_report, confusion_matrix\n",
    "\n",
    "print(classification_report(y_test, model_rf.predict(X_test)))"
   ]
  },
  {
   "cell_type": "code",
   "execution_count": 30,
   "id": "d0a27805-edb3-4fa2-b76e-da0611ca5941",
   "metadata": {},
   "outputs": [
    {
     "data": {
      "text/plain": [
       "<Axes: >"
      ]
     },
     "execution_count": 30,
     "metadata": {},
     "output_type": "execute_result"
    },
    {
     "data": {
      "image/png": "[encoded data removed]",
      "text/plain": [
       "<Figure size 640x480 with 2 Axes>"
      ]
     },
     "metadata": {},
     "output_type": "display_data"
    }
   ],
   "source": [
    "sns.heatmap(confusion_matrix(y_test, model_rf.predict(X_test)),\n",
    "           annot=True, fmt=\".1f\")"
   ]
  },
  {
   "cell_type": "code",
   "execution_count": 32,
   "id": "d038bb8a-3c70-452b-ba55-f4275c99bf97",
   "metadata": {},
   "outputs": [
    {
     "data": {
      "text/html": [
       "<style>#sk-container-id-2 {color: black;}#sk-container-id-2 pre{padding: 0;}#sk-container-id-2 div.sk-toggleable {background-color: white;}#sk-container-id-2 label.sk-toggleable__label {cursor: pointer;display: block;width: 100%;margin-bottom: 0;padding: 0.3em;box-sizing: border-box;text-align: center;}#sk-container-id-2 label.sk-toggleable__label-arrow:before {content: \"▸\";float: left;margin-right: 0.25em;color: #696969;}#sk-container-id-2 label.sk-toggleable__label-arrow:hover:before {color: black;}#sk-container-id-2 div.sk-estimator:hover label.sk-toggleable__label-arrow:before {color: black;}#sk-container-id-2 div.sk-toggleable__content {max-height: 0;max-width: 0;overflow: hidden;text-align: left;background-color: #f0f8ff;}#sk-container-id-2 div.sk-toggleable__content pre {margin: 0.2em;color: black;border-radius: 0.25em;background-color: #f0f8ff;}#sk-container-id-2 input.sk-toggleable__control:checked~div.sk-toggleable__content {max-height: 200px;max-width: 100%;overflow: auto;}#sk-container-id-2 input.sk-toggleable__control:checked~label.sk-toggleable__label-arrow:before {content: \"▾\";}#sk-container-id-2 div.sk-estimator input.sk-toggleable__control:checked~label.sk-toggleable__label {background-color: #d4ebff;}#sk-container-id-2 div.sk-label input.sk-toggleable__control:checked~label.sk-toggleable__label {background-color: #d4ebff;}#sk-container-id-2 input.sk-hidden--visually {border: 0;clip: rect(1px 1px 1px 1px);clip: rect(1px, 1px, 1px, 1px);height: 1px;margin: -1px;overflow: hidden;padding: 0;position: absolute;width: 1px;}#sk-container-id-2 div.sk-estimator {font-family: monospace;background-color: #f0f8ff;border: 1px dotted black;border-radius: 0.25em;box-sizing: border-box;margin-bottom: 0.5em;}#sk-container-id-2 div.sk-estimator:hover {background-color: #d4ebff;}#sk-container-id-2 div.sk-parallel-item::after {content: \"\";width: 100%;border-bottom: 1px solid gray;flex-grow: 1;}#sk-container-id-2 div.sk-label:hover label.sk-toggleable__label {background-color: #d4ebff;}#sk-container-id-2 div.sk-serial::before {content: \"\";position: absolute;border-left: 1px solid gray;box-sizing: border-box;top: 0;bottom: 0;left: 50%;z-index: 0;}#sk-container-id-2 div.sk-serial {display: flex;flex-direction: column;align-items: center;background-color: white;padding-right: 0.2em;padding-left: 0.2em;position: relative;}#sk-container-id-2 div.sk-item {position: relative;z-index: 1;}#sk-container-id-2 div.sk-parallel {display: flex;align-items: stretch;justify-content: center;background-color: white;position: relative;}#sk-container-id-2 div.sk-item::before, #sk-container-id-2 div.sk-parallel-item::before {content: \"\";position: absolute;border-left: 1px solid gray;box-sizing: border-box;top: 0;bottom: 0;left: 50%;z-index: -1;}#sk-container-id-2 div.sk-parallel-item {display: flex;flex-direction: column;z-index: 1;position: relative;background-color: white;}#sk-container-id-2 div.sk-parallel-item:first-child::after {align-self: flex-end;width: 50%;}#sk-container-id-2 div.sk-parallel-item:last-child::after {align-self: flex-start;width: 50%;}#sk-container-id-2 div.sk-parallel-item:only-child::after {width: 0;}#sk-container-id-2 div.sk-dashed-wrapped {border: 1px dashed gray;margin: 0 0.4em 0.5em 0.4em;box-sizing: border-box;padding-bottom: 0.4em;background-color: white;}#sk-container-id-2 div.sk-label label {font-family: monospace;font-weight: bold;display: inline-block;line-height: 1.2em;}#sk-container-id-2 div.sk-label-container {text-align: center;}#sk-container-id-2 div.sk-container {/* jupyter's `normalize.less` sets `[hidden] { display: none; }` but bootstrap.min.css set `[hidden] { display: none !important; }` so we also need the `!important` here to be able to override the default hidden behavior on the sphinx rendered scikit-learn.org. See: https://github.com/scikit-learn/scikit-learn/issues/21755 */display: inline-block !important;position: relative;}#sk-container-id-2 div.sk-text-repr-fallback {display: none;}</style><div id=\"sk-container-id-2\" class=\"sk-top-container\"><div class=\"sk-text-repr-fallback\"><pre>DecisionTreeClassifier()</pre><b>In a Jupyter environment, please rerun this cell to show the HTML representation or trust the notebook. <br />On GitHub, the HTML representation is unable to render, please try loading this page with nbviewer.org.</b></div><div class=\"sk-container\" hidden><div class=\"sk-item\"><div class=\"sk-estimator sk-toggleable\"><input class=\"sk-toggleable__control sk-hidden--visually\" id=\"sk-estimator-id-2\" type=\"checkbox\" checked><label for=\"sk-estimator-id-2\" class=\"sk-toggleable__label sk-toggleable__label-arrow\">DecisionTreeClassifier</label><div class=\"sk-toggleable__content\"><pre>DecisionTreeClassifier()</pre></div></div></div></div></div>"
      ],
      "text/plain": [
       "DecisionTreeClassifier()"
      ]
     },
     "execution_count": 32,
     "metadata": {},
     "output_type": "execute_result"
    }
   ],
   "source": [
    "from sklearn.tree import DecisionTreeClassifier\n",
    "\n",
    "model_tree = DecisionTreeClassifier()\n",
    "model_tree.fit(X_train, y_train)"
   ]
  },
  {
   "cell_type": "code",
   "execution_count": 33,
   "id": "16068c7b-a1b8-447a-a96c-b2ab1cb42f32",
   "metadata": {},
   "outputs": [
    {
     "name": "stdout",
     "output_type": "stream",
     "text": [
      "              precision    recall  f1-score   support\n",
      "\n",
      "           0       0.80      0.76      0.78       180\n",
      "           1       0.19      0.22      0.20        45\n",
      "\n",
      "    accuracy                           0.65       225\n",
      "   macro avg       0.49      0.49      0.49       225\n",
      "weighted avg       0.67      0.65      0.66       225\n",
      "\n"
     ]
    }
   ],
   "source": [
    "print(classification_report(y_test, model_tree.predict(X_test)))"
   ]
  },
  {
   "cell_type": "code",
   "execution_count": 34,
   "id": "c37135cd-8d18-41b3-815d-e1d9291c96f2",
   "metadata": {},
   "outputs": [],
   "source": [
    "from imblearn.over_sampling import RandomOverSampler\n",
    "\n"
   ]
  },
  {
   "cell_type": "code",
   "execution_count": 36,
   "id": "4786ee58-0b8d-4f79-be2d-4e342d3baad9",
   "metadata": {},
   "outputs": [],
   "source": [
    "sampler = RandomOverSampler()\n",
    "X_new, y_new = sampler.fit_resample(X, y)"
   ]
  },
  {
   "cell_type": "code",
   "execution_count": 37,
   "id": "13c45624-8974-4536-8e13-e8efe70aa8cb",
   "metadata": {},
   "outputs": [
    {
     "data": {
      "text/plain": [
       "label\n",
       "1    900\n",
       "0    900\n",
       "Name: count, dtype: int64"
      ]
     },
     "execution_count": 37,
     "metadata": {},
     "output_type": "execute_result"
    }
   ],
   "source": [
    "y_new.value_counts()"
   ]
  },
  {
   "cell_type": "code",
   "execution_count": 39,
   "id": "5f5e5625-304e-4b11-97c9-dc3b09e7c8a8",
   "metadata": {},
   "outputs": [],
   "source": [
    "X_newtr, X_newts, y_newtr, y_newts = train_test_split(X_new, y_new, test_size=0.2,\n",
    "                                                   random_state=42)"
   ]
  },
  {
   "cell_type": "code",
   "execution_count": 40,
   "id": "3b2fcd15-3da8-4bdd-8a1d-c8c00e9a67d4",
   "metadata": {},
   "outputs": [
    {
     "data": {
      "text/html": [
       "<style>#sk-container-id-3 {color: black;}#sk-container-id-3 pre{padding: 0;}#sk-container-id-3 div.sk-toggleable {background-color: white;}#sk-container-id-3 label.sk-toggleable__label {cursor: pointer;display: block;width: 100%;margin-bottom: 0;padding: 0.3em;box-sizing: border-box;text-align: center;}#sk-container-id-3 label.sk-toggleable__label-arrow:before {content: \"▸\";float: left;margin-right: 0.25em;color: #696969;}#sk-container-id-3 label.sk-toggleable__label-arrow:hover:before {color: black;}#sk-container-id-3 div.sk-estimator:hover label.sk-toggleable__label-arrow:before {color: black;}#sk-container-id-3 div.sk-toggleable__content {max-height: 0;max-width: 0;overflow: hidden;text-align: left;background-color: #f0f8ff;}#sk-container-id-3 div.sk-toggleable__content pre {margin: 0.2em;color: black;border-radius: 0.25em;background-color: #f0f8ff;}#sk-container-id-3 input.sk-toggleable__control:checked~div.sk-toggleable__content {max-height: 200px;max-width: 100%;overflow: auto;}#sk-container-id-3 input.sk-toggleable__control:checked~label.sk-toggleable__label-arrow:before {content: \"▾\";}#sk-container-id-3 div.sk-estimator input.sk-toggleable__control:checked~label.sk-toggleable__label {background-color: #d4ebff;}#sk-container-id-3 div.sk-label input.sk-toggleable__control:checked~label.sk-toggleable__label {background-color: #d4ebff;}#sk-container-id-3 input.sk-hidden--visually {border: 0;clip: rect(1px 1px 1px 1px);clip: rect(1px, 1px, 1px, 1px);height: 1px;margin: -1px;overflow: hidden;padding: 0;position: absolute;width: 1px;}#sk-container-id-3 div.sk-estimator {font-family: monospace;background-color: #f0f8ff;border: 1px dotted black;border-radius: 0.25em;box-sizing: border-box;margin-bottom: 0.5em;}#sk-container-id-3 div.sk-estimator:hover {background-color: #d4ebff;}#sk-container-id-3 div.sk-parallel-item::after {content: \"\";width: 100%;border-bottom: 1px solid gray;flex-grow: 1;}#sk-container-id-3 div.sk-label:hover label.sk-toggleable__label {background-color: #d4ebff;}#sk-container-id-3 div.sk-serial::before {content: \"\";position: absolute;border-left: 1px solid gray;box-sizing: border-box;top: 0;bottom: 0;left: 50%;z-index: 0;}#sk-container-id-3 div.sk-serial {display: flex;flex-direction: column;align-items: center;background-color: white;padding-right: 0.2em;padding-left: 0.2em;position: relative;}#sk-container-id-3 div.sk-item {position: relative;z-index: 1;}#sk-container-id-3 div.sk-parallel {display: flex;align-items: stretch;justify-content: center;background-color: white;position: relative;}#sk-container-id-3 div.sk-item::before, #sk-container-id-3 div.sk-parallel-item::before {content: \"\";position: absolute;border-left: 1px solid gray;box-sizing: border-box;top: 0;bottom: 0;left: 50%;z-index: -1;}#sk-container-id-3 div.sk-parallel-item {display: flex;flex-direction: column;z-index: 1;position: relative;background-color: white;}#sk-container-id-3 div.sk-parallel-item:first-child::after {align-self: flex-end;width: 50%;}#sk-container-id-3 div.sk-parallel-item:last-child::after {align-self: flex-start;width: 50%;}#sk-container-id-3 div.sk-parallel-item:only-child::after {width: 0;}#sk-container-id-3 div.sk-dashed-wrapped {border: 1px dashed gray;margin: 0 0.4em 0.5em 0.4em;box-sizing: border-box;padding-bottom: 0.4em;background-color: white;}#sk-container-id-3 div.sk-label label {font-family: monospace;font-weight: bold;display: inline-block;line-height: 1.2em;}#sk-container-id-3 div.sk-label-container {text-align: center;}#sk-container-id-3 div.sk-container {/* jupyter's `normalize.less` sets `[hidden] { display: none; }` but bootstrap.min.css set `[hidden] { display: none !important; }` so we also need the `!important` here to be able to override the default hidden behavior on the sphinx rendered scikit-learn.org. See: https://github.com/scikit-learn/scikit-learn/issues/21755 */display: inline-block !important;position: relative;}#sk-container-id-3 div.sk-text-repr-fallback {display: none;}</style><div id=\"sk-container-id-3\" class=\"sk-top-container\"><div class=\"sk-text-repr-fallback\"><pre>RandomForestClassifier()</pre><b>In a Jupyter environment, please rerun this cell to show the HTML representation or trust the notebook. <br />On GitHub, the HTML representation is unable to render, please try loading this page with nbviewer.org.</b></div><div class=\"sk-container\" hidden><div class=\"sk-item\"><div class=\"sk-estimator sk-toggleable\"><input class=\"sk-toggleable__control sk-hidden--visually\" id=\"sk-estimator-id-3\" type=\"checkbox\" checked><label for=\"sk-estimator-id-3\" class=\"sk-toggleable__label sk-toggleable__label-arrow\">RandomForestClassifier</label><div class=\"sk-toggleable__content\"><pre>RandomForestClassifier()</pre></div></div></div></div></div>"
      ],
      "text/plain": [
       "RandomForestClassifier()"
      ]
     },
     "execution_count": 40,
     "metadata": {},
     "output_type": "execute_result"
    }
   ],
   "source": [
    "model_rfn = RandomForestClassifier()\n",
    "model_rfn.fit(X_newtr, y_newtr)"
   ]
  },
  {
   "cell_type": "code",
   "execution_count": 41,
   "id": "b1d0d475-c47e-49df-821a-d79c3aefd504",
   "metadata": {},
   "outputs": [
    {
     "name": "stdout",
     "output_type": "stream",
     "text": [
      "              precision    recall  f1-score   support\n",
      "\n",
      "           0       0.92      0.86      0.89       176\n",
      "           1       0.88      0.92      0.90       184\n",
      "\n",
      "    accuracy                           0.89       360\n",
      "   macro avg       0.90      0.89      0.89       360\n",
      "weighted avg       0.90      0.89      0.89       360\n",
      "\n"
     ]
    }
   ],
   "source": [
    "print(classification_report(y_newts, model_rfn.predict(X_newts)))"
   ]
  },
  {
   "cell_type": "code",
   "execution_count": null,
   "id": "1f1eddc5-576c-4bb8-a62b-ce6cb35d7b9a",
   "metadata": {},
   "outputs": [],
   "source": []
  }
 ],
 "metadata": {
  "kernelspec": {
   "display_name": "Python 3 (ipykernel)",
   "language": "python",
   "name": "python3"
  },
  "language_info": {
   "codemirror_mode": {
    "name": "ipython",
    "version": 3
   },
   "file_extension": ".py",
   "mimetype": "text/x-python",
   "name": "python",
   "nbconvert_exporter": "python",
   "pygments_lexer": "ipython3",
   "version": "3.11.4"
  }
 },
 "nbformat": 4,
 "nbformat_minor": 5
}
