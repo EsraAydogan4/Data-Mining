{
 "cells": [
  {
   "cell_type": "code",
   "execution_count": 3,
   "id": "5d29bfd8-a43d-4f22-99b6-88b82bae6c62",
   "metadata": {},
   "outputs": [],
   "source": [
    "import pandas as pd\n",
    "import random as rd\n",
    "import matplotlib.pyplot as plt\n",
    "import seaborn as sns\n",
    "import plotly.express as px\n",
    "import numpy as np"
   ]
  },
  {
   "cell_type": "code",
   "execution_count": 11,
   "id": "e9307d50-bad1-4e40-b99c-ab8ab679dec5",
   "metadata": {},
   "outputs": [],
   "source": [
    "#istatiksel testler sınvada mutlaka çıkar\n",
    "x = np.random.normal(loc=0.5, scale=1, size=20)\n",
    "y = np.random.normal(loc=1.5, scale=1, size=20)"
   ]
  },
  {
   "cell_type": "code",
   "execution_count": 13,
   "id": "fed971ce-6fe1-4a63-9703-9000a37acaad",
   "metadata": {},
   "outputs": [
    {
     "data": {
      "text/plain": [
       "ShapiroResult(statistic=0.9488819241523743, pvalue=0.3504367470741272)"
      ]
     },
     "execution_count": 13,
     "metadata": {},
     "output_type": "execute_result"
    }
   ],
   "source": [
    "import scipy.stats as sts\n",
    "sts.shapiro(x) #normallik testi h0 hipotezi elimdeki verinin dağılımı ile normal dağılım rarsında bir fark yoktur. sınavda yazdırı \n",
    "# anlamlılık değeri 0.05 bu değerden büyük olduğu için h0 hipotezi doğrudur"
   ]
  },
  {
   "cell_type": "code",
   "execution_count": 12,
   "id": "13f95271-d33e-45dd-8ab4-bce93d594e34",
   "metadata": {},
   "outputs": [
    {
     "data": {
      "text/plain": [
       "ShapiroResult(statistic=0.9573004245758057, pvalue=0.49142971634864807)"
      ]
     },
     "execution_count": 12,
     "metadata": {},
     "output_type": "execute_result"
    }
   ],
   "source": [
    " sts.shapiro(y) #p>0.05 ollduğu için veri normal dağılmaktadır"
   ]
  },
  {
   "cell_type": "code",
   "execution_count": 14,
   "id": "d0e539ef-4a57-43f3-b217-4c15976f46b3",
   "metadata": {},
   "outputs": [
    {
     "data": {
      "text/plain": [
       "(0.0900414638725705, 0.9396082503550632)"
      ]
     },
     "execution_count": 14,
     "metadata": {},
     "output_type": "execute_result"
    }
   ],
   "source": [
    "from statsmodels.stats.diagnostic import lilliefors\n",
    "lilliefors(x, pvalmethod=\"approx\")\n",
    "lilliefors(y, pvalmethod=\"approx\")\n"
   ]
  },
  {
   "cell_type": "code",
   "execution_count": 16,
   "id": "4e9c6ec1-489e-48ab-967f-d5b801481ef6",
   "metadata": {},
   "outputs": [
    {
     "data": {
      "text/plain": [
       "{'method': 'Shapiro-Francia normality test',\n",
       " 'statistics W': 0.9689272026336413,\n",
       " 'statistics z': -0.3606774214601013,\n",
       " 'p-value': 0.6408296973836191}"
      ]
     },
     "execution_count": 16,
     "metadata": {},
     "output_type": "execute_result"
    }
   ],
   "source": [
    "import sfrancia  as sf # bu 3 test de normallik testidir\n",
    "sf.shapiroFrancia(x)\n",
    "sf.shapiroFrancia(y)"
   ]
  },
  {
   "cell_type": "code",
   "execution_count": 19,
   "id": "f3df1892-1a7a-4685-a020-d0cae510a05c",
   "metadata": {},
   "outputs": [
    {
     "data": {
      "text/plain": [
       "TtestResult(statistic=-2.9111849188603567, pvalue=0.00599378463261712, df=38.0)"
      ]
     },
     "execution_count": 19,
     "metadata": {},
     "output_type": "execute_result"
    }
   ],
   "source": [
    "sts.ttest_ind(x, y, equal_var=True) # 2 testin ortalamaları arasında bir far mı var mı diye uygulnan tets"
   ]
  },
  {
   "cell_type": "code",
   "execution_count": 20,
   "id": "0f95f444-4e7e-4660-b92f-1ba04de54a49",
   "metadata": {},
   "outputs": [],
   "source": [
    "#h0 = 1. ve 2.  verilerin arasında bir fark yoktur\n",
    "#h1 = 1. ve 2.  verilerin arasında bir fark vardır\n",
    "# h0 reddedilir iki test arsında bir fark vardır h1 hipotezi kabul edilir"
   ]
  },
  {
   "cell_type": "code",
   "execution_count": 21,
   "id": "27c3d482-2ed7-4f29-9368-c8c49d48b178",
   "metadata": {},
   "outputs": [
    {
     "data": {
      "text/html": [
       "<div>\n",
       "<style scoped>\n",
       "    .dataframe tbody tr th:only-of-type {\n",
       "        vertical-align: middle;\n",
       "    }\n",
       "\n",
       "    .dataframe tbody tr th {\n",
       "        vertical-align: top;\n",
       "    }\n",
       "\n",
       "    .dataframe thead th {\n",
       "        text-align: right;\n",
       "    }\n",
       "</style>\n",
       "<table border=\"1\" class=\"dataframe\">\n",
       "  <thead>\n",
       "    <tr style=\"text-align: right;\">\n",
       "      <th></th>\n",
       "      <th>ID</th>\n",
       "      <th>sex</th>\n",
       "      <th>age</th>\n",
       "      <th>surgery</th>\n",
       "      <th>heart rate</th>\n",
       "      <th>temperature</th>\n",
       "      <th>bilirubin</th>\n",
       "      <th>SAPS II</th>\n",
       "      <th>liver failure</th>\n",
       "      <th>LOS</th>\n",
       "      <th>outcome</th>\n",
       "    </tr>\n",
       "  </thead>\n",
       "  <tbody>\n",
       "    <tr>\n",
       "      <th>0</th>\n",
       "      <td>1</td>\n",
       "      <td>female</td>\n",
       "      <td>76</td>\n",
       "      <td>other</td>\n",
       "      <td>98.0</td>\n",
       "      <td>36.5</td>\n",
       "      <td>6.512142</td>\n",
       "      <td>57</td>\n",
       "      <td>0</td>\n",
       "      <td>1</td>\n",
       "      <td>died</td>\n",
       "    </tr>\n",
       "    <tr>\n",
       "      <th>1</th>\n",
       "      <td>2</td>\n",
       "      <td>female</td>\n",
       "      <td>60</td>\n",
       "      <td>gastrointestinal</td>\n",
       "      <td>80.0</td>\n",
       "      <td>38.1</td>\n",
       "      <td>14.523197</td>\n",
       "      <td>52</td>\n",
       "      <td>0</td>\n",
       "      <td>2</td>\n",
       "      <td>home</td>\n",
       "    </tr>\n",
       "    <tr>\n",
       "      <th>2</th>\n",
       "      <td>3</td>\n",
       "      <td>male</td>\n",
       "      <td>66</td>\n",
       "      <td>cardiothoracic</td>\n",
       "      <td>99.6</td>\n",
       "      <td>37.4</td>\n",
       "      <td>22.972480</td>\n",
       "      <td>57</td>\n",
       "      <td>0</td>\n",
       "      <td>1</td>\n",
       "      <td>secondary care/rehab</td>\n",
       "    </tr>\n",
       "    <tr>\n",
       "      <th>3</th>\n",
       "      <td>4</td>\n",
       "      <td>male</td>\n",
       "      <td>74</td>\n",
       "      <td>other</td>\n",
       "      <td>110.0</td>\n",
       "      <td>39.1</td>\n",
       "      <td>19.299346</td>\n",
       "      <td>45</td>\n",
       "      <td>0</td>\n",
       "      <td>2</td>\n",
       "      <td>home</td>\n",
       "    </tr>\n",
       "    <tr>\n",
       "      <th>4</th>\n",
       "      <td>5</td>\n",
       "      <td>female</td>\n",
       "      <td>68</td>\n",
       "      <td>other</td>\n",
       "      <td>94.1</td>\n",
       "      <td>38.5</td>\n",
       "      <td>39.076485</td>\n",
       "      <td>49</td>\n",
       "      <td>0</td>\n",
       "      <td>1</td>\n",
       "      <td>home</td>\n",
       "    </tr>\n",
       "    <tr>\n",
       "      <th>...</th>\n",
       "      <td>...</td>\n",
       "      <td>...</td>\n",
       "      <td>...</td>\n",
       "      <td>...</td>\n",
       "      <td>...</td>\n",
       "      <td>...</td>\n",
       "      <td>...</td>\n",
       "      <td>...</td>\n",
       "      <td>...</td>\n",
       "      <td>...</td>\n",
       "      <td>...</td>\n",
       "    </tr>\n",
       "    <tr>\n",
       "      <th>495</th>\n",
       "      <td>496</td>\n",
       "      <td>male</td>\n",
       "      <td>62</td>\n",
       "      <td>cardiothoracic</td>\n",
       "      <td>118.0</td>\n",
       "      <td>37.3</td>\n",
       "      <td>13.234537</td>\n",
       "      <td>33</td>\n",
       "      <td>0</td>\n",
       "      <td>1</td>\n",
       "      <td>secondary care/rehab</td>\n",
       "    </tr>\n",
       "    <tr>\n",
       "      <th>496</th>\n",
       "      <td>497</td>\n",
       "      <td>male</td>\n",
       "      <td>67</td>\n",
       "      <td>cardiothoracic</td>\n",
       "      <td>115.0</td>\n",
       "      <td>38.0</td>\n",
       "      <td>10.740772</td>\n",
       "      <td>56</td>\n",
       "      <td>0</td>\n",
       "      <td>1</td>\n",
       "      <td>died</td>\n",
       "    </tr>\n",
       "    <tr>\n",
       "      <th>497</th>\n",
       "      <td>498</td>\n",
       "      <td>female</td>\n",
       "      <td>53</td>\n",
       "      <td>cardiothoracic</td>\n",
       "      <td>131.0</td>\n",
       "      <td>37.9</td>\n",
       "      <td>14.131188</td>\n",
       "      <td>38</td>\n",
       "      <td>0</td>\n",
       "      <td>3</td>\n",
       "      <td>secondary care/rehab</td>\n",
       "    </tr>\n",
       "    <tr>\n",
       "      <th>498</th>\n",
       "      <td>499</td>\n",
       "      <td>male</td>\n",
       "      <td>68</td>\n",
       "      <td>other</td>\n",
       "      <td>86.9</td>\n",
       "      <td>36.0</td>\n",
       "      <td>9.596478</td>\n",
       "      <td>66</td>\n",
       "      <td>0</td>\n",
       "      <td>2</td>\n",
       "      <td>home</td>\n",
       "    </tr>\n",
       "    <tr>\n",
       "      <th>499</th>\n",
       "      <td>500</td>\n",
       "      <td>male</td>\n",
       "      <td>75</td>\n",
       "      <td>cardiothoracic</td>\n",
       "      <td>92.0</td>\n",
       "      <td>37.6</td>\n",
       "      <td>11.660875</td>\n",
       "      <td>25</td>\n",
       "      <td>0</td>\n",
       "      <td>1</td>\n",
       "      <td>secondary care/rehab</td>\n",
       "    </tr>\n",
       "  </tbody>\n",
       "</table>\n",
       "<p>500 rows × 11 columns</p>\n",
       "</div>"
      ],
      "text/plain": [
       "      ID     sex  age           surgery  heart rate  temperature  bilirubin  \\\n",
       "0      1  female   76             other        98.0         36.5   6.512142   \n",
       "1      2  female   60  gastrointestinal        80.0         38.1  14.523197   \n",
       "2      3    male   66    cardiothoracic        99.6         37.4  22.972480   \n",
       "3      4    male   74             other       110.0         39.1  19.299346   \n",
       "4      5  female   68             other        94.1         38.5  39.076485   \n",
       "..   ...     ...  ...               ...         ...          ...        ...   \n",
       "495  496    male   62    cardiothoracic       118.0         37.3  13.234537   \n",
       "496  497    male   67    cardiothoracic       115.0         38.0  10.740772   \n",
       "497  498  female   53    cardiothoracic       131.0         37.9  14.131188   \n",
       "498  499    male   68             other        86.9         36.0   9.596478   \n",
       "499  500    male   75    cardiothoracic        92.0         37.6  11.660875   \n",
       "\n",
       "     SAPS II  liver failure  LOS               outcome  \n",
       "0         57              0    1                  died  \n",
       "1         52              0    2                  home  \n",
       "2         57              0    1  secondary care/rehab  \n",
       "3         45              0    2                  home  \n",
       "4         49              0    1                  home  \n",
       "..       ...            ...  ...                   ...  \n",
       "495       33              0    1  secondary care/rehab  \n",
       "496       56              0    1                  died  \n",
       "497       38              0    3  secondary care/rehab  \n",
       "498       66              0    2                  home  \n",
       "499       25              0    1  secondary care/rehab  \n",
       "\n",
       "[500 rows x 11 columns]"
      ]
     },
     "execution_count": 21,
     "metadata": {},
     "output_type": "execute_result"
    }
   ],
   "source": [
    "icu = pd.read_csv(\"ICUData.csv\")\n",
    "icu"
   ]
  },
  {
   "cell_type": "code",
   "execution_count": 22,
   "id": "afc469e0-e7ad-49e0-980e-b5268755b183",
   "metadata": {},
   "outputs": [],
   "source": [
    "# hastaların ataeşleri 37.5 tan küçüktür h0 değildir h1\n"
   ]
  },
  {
   "cell_type": "code",
   "execution_count": 25,
   "id": "86f03539-f75a-400e-b785-d893fc54095d",
   "metadata": {},
   "outputs": [
    {
     "data": {
      "text/plain": [
       "TtestResult(statistic=4.197348728151364, pvalue=1.59934647255863e-05, df=498)"
      ]
     },
     "execution_count": 25,
     "metadata": {},
     "output_type": "execute_result"
    }
   ],
   "source": [
    "from scipy import stats  # boşta olan bu verinin önce silinmesi gerekiyor\n",
    "data = icu.temperature.drop(397)\n",
    "stats.ttest_1samp(data, popmean=37.5, alternative=\"greater\")"
   ]
  },
  {
   "cell_type": "code",
   "execution_count": 27,
   "id": "09aa74f1-8084-4c61-9b23-b8e4d6f44404",
   "metadata": {},
   "outputs": [
    {
     "data": {
      "text/plain": [
       "TtestResult(statistic=2.1027472872691644, pvalue=0.01799407119910482, df=499)"
      ]
     },
     "execution_count": 27,
     "metadata": {},
     "output_type": "execute_result"
    }
   ],
   "source": [
    "stats.ttest_1samp(icu.temperature, popmean=37.5, alternative=\"greater\")\n"
   ]
  },
  {
   "cell_type": "code",
   "execution_count": 28,
   "id": "6dcd2fa5-824b-4c5b-84d5-6effd61dc94f",
   "metadata": {},
   "outputs": [
    {
     "data": {
      "text/plain": [
       "ShapiroResult(statistic=0.9879996180534363, pvalue=0.008832931518554688)"
      ]
     },
     "execution_count": 28,
     "metadata": {},
     "output_type": "execute_result"
    }
   ],
   "source": [
    "sts.shapiro(icu[icu.sex == \"female\"].temperature)\n",
    "sts.shapiro(icu.drop(397)[icu.drop(397).sex == \"male\"].temperature) # normal dağılıyor mu test etmek gerekiyor"
   ]
  },
  {
   "cell_type": "code",
   "execution_count": 29,
   "id": "fba79a6e-0f3d-471f-bfec-c7a6e1d8d64c",
   "metadata": {},
   "outputs": [
    {
     "data": {
      "text/plain": [
       "1.5743588571428573"
      ]
     },
     "execution_count": 29,
     "metadata": {},
     "output_type": "execute_result"
    }
   ],
   "source": [
    "np.var(icu[icu.sex == \"female\"].temperature) # varyanslar yakın değil"
   ]
  },
  {
   "cell_type": "code",
   "execution_count": 30,
   "id": "8eb2d815-e960-47e0-88b7-7a99491e01ff",
   "metadata": {},
   "outputs": [
    {
     "data": {
      "text/plain": [
       "3.7756199763313605"
      ]
     },
     "execution_count": 30,
     "metadata": {},
     "output_type": "execute_result"
    }
   ],
   "source": [
    "np.var(icu[icu.sex == \"male\"].temperature)"
   ]
  },
  {
   "cell_type": "code",
   "execution_count": 32,
   "id": "bdf1da33-9242-4161-8e74-15a301add5e5",
   "metadata": {},
   "outputs": [
    {
     "data": {
      "text/plain": [
       "1.2580727023319616"
      ]
     },
     "execution_count": 32,
     "metadata": {},
     "output_type": "execute_result"
    }
   ],
   "source": [
    "np.var(icu.drop(397)[icu.drop(397).sex == \"male\"].temperature)\n",
    "# aykırı veriyi çıkardığımızda varyanslar birbirine yaklaşıyor ama hala eşit değil"
   ]
  },
  {
   "cell_type": "code",
   "execution_count": 34,
   "id": "f3d09cd7-8db8-437c-838f-244e5ee4d7a0",
   "metadata": {},
   "outputs": [
    {
     "data": {
      "text/plain": [
       "TtestResult(statistic=-0.3763844542391408, pvalue=0.7067968223676342, df=481.7086606343309)"
      ]
     },
     "execution_count": 34,
     "metadata": {},
     "output_type": "execute_result"
    }
   ],
   "source": [
    "sts.ttest_ind(icu[icu.sex == \"female\"].temperature, \n",
    "                icu[icu.sex == \"male\"].temperature, equal_var=False)\n",
    "#h0 hipotezi kabul edilir \n"
   ]
  },
  {
   "cell_type": "code",
   "execution_count": 35,
   "id": "e93de4de-9c60-4ebc-b989-291816668ab6",
   "metadata": {},
   "outputs": [
    {
     "data": {
      "text/plain": [
       "TtestResult(statistic=-1.2514171914600383, pvalue=0.21168583024595652, df=323.7324571156322)"
      ]
     },
     "execution_count": 35,
     "metadata": {},
     "output_type": "execute_result"
    }
   ],
   "source": [
    "sts.ttest_ind(icu.drop(397)[icu.drop(397).sex == \"female\"].temperature, \n",
    "                icu.drop(397)[icu.drop(397).sex == \"male\"].temperature, equal_var=False)\n",
    "# aykırı değeri çıkardığımızda da ateş değerinin 37.5 in altına inemediği için h0 kabul edilmeye devam eder."
   ]
  },
  {
   "cell_type": "code",
   "execution_count": 38,
   "id": "e1fc5f6b-1473-4dc4-97ef-b0eb066482d4",
   "metadata": {},
   "outputs": [
    {
     "data": {
      "text/plain": [
       "WilcoxonResult(statistic=69173.0, pvalue=0.00016697168360892)"
      ]
     },
     "execution_count": 38,
     "metadata": {},
     "output_type": "execute_result"
    }
   ],
   "source": [
    "sts.wilcoxon(icu.drop(397).temperature - 37.5, alternative=\"greater\")\n",
    "# h0 reddeiliyor "
   ]
  },
  {
   "cell_type": "code",
   "execution_count": 40,
   "id": "ae7ef1da-ed17-47aa-94c4-afe52b0ee77c",
   "metadata": {},
   "outputs": [
    {
     "data": {
      "text/plain": [
       "MannwhitneyuResult(statistic=26387.5, pvalue=0.18333100511010658)"
      ]
     },
     "execution_count": 40,
     "metadata": {},
     "output_type": "execute_result"
    }
   ],
   "source": [
    "stats.mannwhitneyu(icu[icu.sex == \"female\"].temperature, \n",
    "                   icu[icu.sex == \"male\"].temperature)\n",
    "#fark vardır"
   ]
  },
  {
   "cell_type": "code",
   "execution_count": 41,
   "id": "4dd4f5c9-92af-4b52-ab22-6578f90b42de",
   "metadata": {},
   "outputs": [
    {
     "data": {
      "text/plain": [
       "MannwhitneyuResult(statistic=26212.5, pvalue=0.16425374376579738)"
      ]
     },
     "execution_count": 41,
     "metadata": {},
     "output_type": "execute_result"
    }
   ],
   "source": [
    "stats.mannwhitneyu(icu.drop(397)[icu.drop(397).sex == \"female\"].temperature, \n",
    "                icu.drop(397)[icu.drop(397).sex == \"male\"].temperature)"
   ]
  },
  {
   "cell_type": "code",
   "execution_count": 43,
   "id": "195f0bc9-8522-4c69-aef4-5787f8c0dd0c",
   "metadata": {},
   "outputs": [
    {
     "name": "stdout",
     "output_type": "stream",
     "text": [
      "Degree of freedom 1: 174\n",
      "Degree of freedom 2: 324\n",
      "F-statistic: 0.41808627065941445\n",
      "p-value: 3.033044478412135e-10\n"
     ]
    }
   ],
   "source": [
    "group1 = icu[icu.sex == \"female\"].temperature\n",
    "group2 = icu[icu.sex == \"male\"].temperature\n",
    "\n",
    "#varyanslar hesaplanıyor\n",
    "variance1 = np.var(group1, ddof=1)\n",
    "variance2 = np.var(group2, ddof=1)\n",
    "\n",
    "# f istatistiği hesaplanıyor\n",
    "f_value = variance1 / variance2\n",
    "\n",
    "# Serbestlik dereceleri hesaplanıyor\n",
    "df1 = len(group1) - 1\n",
    "df2 = len(group2) - 1\n",
    "\n",
    "# p değeri hesaplanıyor\n",
    "p_value = stats.f.cdf(f_value, df1, df2)\n",
    "\n",
    "# sonuçlar yazdırılıyor\n",
    "# Print the results\n",
    "print('Degree of freedom 1:',df1)\n",
    "print('Degree of freedom 2:',df2)\n",
    "print(\"F-statistic:\", f_value)\n",
    "print(\"p-value:\", p_value)\n",
    "#varyanslar arasında bir gark vardır"
   ]
  },
  {
   "cell_type": "code",
   "execution_count": 46,
   "id": "cc5176df-717d-405b-9fcf-ac6f75672d01",
   "metadata": {},
   "outputs": [
    {
     "name": "stdout",
     "output_type": "stream",
     "text": [
      "Degree of freedom 1: 174\n",
      "Degree of freedom 2: 323\n",
      "F-statistic: 1.2547127326609122\n",
      "p-value: 0.9586751048180714\n"
     ]
    }
   ],
   "source": [
    "icu_new = icu.drop(397)\n",
    "group1 = icu_new[icu_new.sex == \"female\"].temperature\n",
    "group2 = icu_new[icu_new.sex == \"male\"].temperature\n",
    "\n",
    "#varyanslar hesaplanıyor\n",
    "variance1 = np.var(group1, ddof=1)\n",
    "variance2 = np.var(group2, ddof=1)\n",
    "\n",
    "# f istatistiği hesaplanıyor\n",
    "f_value = variance1 / variance2\n",
    "\n",
    "# Serbestlik dereceleri hesaplanıyor\n",
    "df1 = len(group1) - 1\n",
    "df2 = len(group2) - 1\n",
    "\n",
    "# p değeri hesaplanıyor\n",
    "p_value = stats.f.cdf(f_value, df1, df2)\n",
    "\n",
    "# sonuçlar yazdırılıyor\n",
    "# Print the results\n",
    "print('Degree of freedom 1:',df1)\n",
    "print('Degree of freedom 2:',df2)\n",
    "print(\"F-statistic:\", f_value)\n",
    "print(\"p-value:\", p_value)\n",
    "# aykırı değeri silince fark yoktur  diye yorumlanabilir p-value değerine baktık"
   ]
  },
  {
   "cell_type": "code",
   "execution_count": 48,
   "id": "5a85c2d4-86b6-4238-b304-bd1249b10e61",
   "metadata": {},
   "outputs": [
    {
     "data": {
      "text/plain": [
       "AnsariResult(statistic=20903.5, pvalue=0.16875529793204147)"
      ]
     },
     "execution_count": 48,
     "metadata": {},
     "output_type": "execute_result"
    }
   ],
   "source": [
    "stats.ansari(icu[icu.sex == \"female\"].temperature, icu[icu.sex == \"male\"].temperature)\n",
    "#fark yoktur h1 reddedilmez 0.005 ten büyüktür"
   ]
  },
  {
   "cell_type": "code",
   "execution_count": 49,
   "id": "39adfa3e-b5a2-4e64-9fb8-39ef55587d17",
   "metadata": {},
   "outputs": [
    {
     "data": {
      "text/plain": [
       "AnsariResult(statistic=20807.5, pvalue=0.14772436391272073)"
      ]
     },
     "execution_count": 49,
     "metadata": {},
     "output_type": "execute_result"
    }
   ],
   "source": [
    "stats.ansari(icu.drop(397)[icu.drop(397).sex == \"female\"].temperature, \n",
    "                icu.drop(397)[icu.drop(397).sex == \"male\"].temperature)"
   ]
  },
  {
   "cell_type": "code",
   "execution_count": 50,
   "id": "972d35e5-5ae7-4a61-8164-486472d8a06d",
   "metadata": {},
   "outputs": [
    {
     "data": {
      "text/plain": [
       "BinomTestResult(k=6, n=24, alternative='greater', statistic=0.25, pvalue=0.19952951294795865)"
      ]
     },
     "execution_count": 50,
     "metadata": {},
     "output_type": "execute_result"
    }
   ],
   "source": [
    "# h0 3 sayısına yönelimi vardır h1 yoktur   h0 reddedilemez\n",
    "sts.binomtest(k=6, n=24, p=1/6, alternative='greater')\n",
    "# Bu p değeri (0,1995) 0,05'ten küçük olmadığı için sıfır hipotezini reddetmede başarısız oluyoruz. \n",
    "# Zarın \"3\" sayısına eğilimli olduğunu söyleyecek yeterli kanıtımız yok."
   ]
  },
  {
   "cell_type": "code",
   "execution_count": 51,
   "id": "ac007b54-8e5b-477b-abd1-8bc1b589008a",
   "metadata": {},
   "outputs": [
    {
     "data": {
      "text/plain": [
       "BinomTestResult(k=19, n=30, alternative='greater', statistic=0.6333333333333333, pvalue=0.10024421103298667)"
      ]
     },
     "execution_count": 51,
     "metadata": {},
     "output_type": "execute_result"
    }
   ],
   "source": [
    "sts.binomtest(k=19, n=30, p=1/2, alternative='greater')\n",
    "# Bu p değeri (0,10024) 0,05'ten küçük olmadığı için sıfır hipotezini reddedemiyoruz. \n",
    "# Madalyonun tura eğilimli olduğunu söyleyecek yeterli kanıtımız yok.\n"
   ]
  },
  {
   "cell_type": "code",
   "execution_count": 53,
   "id": "fe32141c-bfac-4465-b7a9-a50e3eace147",
   "metadata": {},
   "outputs": [
    {
     "data": {
      "text/plain": [
       "BinomTestResult(k=25, n=500, alternative='less', statistic=0.05, pvalue=0.5529388564087532)"
      ]
     },
     "execution_count": 53,
     "metadata": {},
     "output_type": "execute_result"
    }
   ],
   "source": [
    "#h0 reddedilemez pvalue 0.005 ten büyük bir değer geldi.\n",
    "sts.binomtest(25, 500, p=0.05, alternative=\"less\") "
   ]
  },
  {
   "cell_type": "code",
   "execution_count": 54,
   "id": "6eeebf4f-f33a-4edd-884b-3e44e88f9aa3",
   "metadata": {},
   "outputs": [
    {
     "data": {
      "text/html": [
       "<div>\n",
       "<style scoped>\n",
       "    .dataframe tbody tr th:only-of-type {\n",
       "        vertical-align: middle;\n",
       "    }\n",
       "\n",
       "    .dataframe tbody tr th {\n",
       "        vertical-align: top;\n",
       "    }\n",
       "\n",
       "    .dataframe thead th {\n",
       "        text-align: right;\n",
       "    }\n",
       "</style>\n",
       "<table border=\"1\" class=\"dataframe\">\n",
       "  <thead>\n",
       "    <tr style=\"text-align: right;\">\n",
       "      <th>sex</th>\n",
       "      <th>female</th>\n",
       "      <th>male</th>\n",
       "    </tr>\n",
       "    <tr>\n",
       "      <th>liver failure</th>\n",
       "      <th></th>\n",
       "      <th></th>\n",
       "    </tr>\n",
       "  </thead>\n",
       "  <tbody>\n",
       "    <tr>\n",
       "      <th>0</th>\n",
       "      <td>168</td>\n",
       "      <td>312</td>\n",
       "    </tr>\n",
       "    <tr>\n",
       "      <th>1</th>\n",
       "      <td>7</td>\n",
       "      <td>13</td>\n",
       "    </tr>\n",
       "  </tbody>\n",
       "</table>\n",
       "</div>"
      ],
      "text/plain": [
       "sex            female  male\n",
       "liver failure              \n",
       "0                 168   312\n",
       "1                   7    13"
      ]
     },
     "execution_count": 54,
     "metadata": {},
     "output_type": "execute_result"
    }
   ],
   "source": [
    "result = pd.crosstab(icu['liver failure'], icu['sex'])\n",
    "result"
   ]
  },
  {
   "cell_type": "code",
   "execution_count": 57,
   "id": "3f884657-061b-4378-a63b-c2a600c52420",
   "metadata": {},
   "outputs": [
    {
     "data": {
      "text/plain": [
       "SignificanceResult(statistic=1.0, pvalue=1.0)"
      ]
     },
     "execution_count": 57,
     "metadata": {},
     "output_type": "execute_result"
    }
   ],
   "source": [
    "stats.fisher_exact(result) #palue 1 olduğu için ilişki vardır."
   ]
  },
  {
   "cell_type": "code",
   "execution_count": 58,
   "id": "ab093fe4-7310-4171-82b1-0a263681f257",
   "metadata": {},
   "outputs": [
    {
     "data": {
      "text/plain": [
       "PearsonRResult(statistic=0.29780332856061853, pvalue=1.1181485000082676e-11)"
      ]
     },
     "execution_count": 58,
     "metadata": {},
     "output_type": "execute_result"
    }
   ],
   "source": [
    "stats.pearsonr(icu.drop(397).temperature, icu.drop(397)[\"heart rate\"])"
   ]
  },
  {
   "cell_type": "code",
   "execution_count": 59,
   "id": "f97a30ad-e849-42b9-a4d8-1975bad2e7a6",
   "metadata": {},
   "outputs": [
    {
     "data": {
      "text/plain": [
       "SignificanceResult(statistic=0.26599572175445046, pvalue=1.5207779303155718e-09)"
      ]
     },
     "execution_count": 59,
     "metadata": {},
     "output_type": "execute_result"
    }
   ],
   "source": [
    "stats.spearmanr(icu.temperature, icu[\"heart rate\"])"
   ]
  },
  {
   "cell_type": "code",
   "execution_count": 60,
   "id": "7fdfd1bc-342d-457c-8682-15edce214883",
   "metadata": {},
   "outputs": [
    {
     "data": {
      "text/plain": [
       "SignificanceResult(statistic=0.18269029154469063, pvalue=1.9348573865883658e-09)"
      ]
     },
     "execution_count": 60,
     "metadata": {},
     "output_type": "execute_result"
    }
   ],
   "source": [
    "stats.kendalltau(icu.temperature, icu[\"heart rate\"])\n"
   ]
  },
  {
   "cell_type": "code",
   "execution_count": 61,
   "id": "dd789582-2a0a-43be-8f32-8a10ee4e7cf2",
   "metadata": {},
   "outputs": [
    {
     "data": {
      "text/plain": [
       "F_onewayResult(statistic=1.9571847180075135, pvalue=0.11950631981506887)"
      ]
     },
     "execution_count": 61,
     "metadata": {},
     "output_type": "execute_result"
    }
   ],
   "source": [
    "result_two = icu.groupby(\"outcome\")[\"temperature\"].apply(list)\n",
    "stats.f_oneway(*result_two)"
   ]
  },
  {
   "cell_type": "code",
   "execution_count": 62,
   "id": "0650a521-128d-47ce-9652-3af99a438af3",
   "metadata": {},
   "outputs": [
    {
     "data": {
      "text/plain": [
       "F_onewayResult(statistic=5.2203056810786075, pvalue=0.0014810732049532949)"
      ]
     },
     "execution_count": 62,
     "metadata": {},
     "output_type": "execute_result"
    }
   ],
   "source": [
    "result_two = icu.drop(397).groupby(\"outcome\")[\"temperature\"].apply(list)\n",
    "stats.f_oneway(*result_two)"
   ]
  },
  {
   "cell_type": "code",
   "execution_count": 63,
   "id": "4268bd95-16cf-4d8f-879b-f3b33436b12d",
   "metadata": {},
   "outputs": [
    {
     "data": {
      "text/plain": [
       "ShapiroResult(statistic=0.9918887615203857, pvalue=0.008012347854673862)"
      ]
     },
     "execution_count": 63,
     "metadata": {},
     "output_type": "execute_result"
    }
   ],
   "source": [
    "stats.shapiro(icu.drop(397).temperature)"
   ]
  },
  {
   "cell_type": "code",
   "execution_count": 64,
   "id": "c5f117df-2d2d-4455-8f52-1b5b6ac34c93",
   "metadata": {},
   "outputs": [],
   "source": [
    "# haftaya kümeleme ve "
   ]
  },
  {
   "cell_type": "code",
   "execution_count": 65,
   "id": "e8fc37b5-86b1-404c-9a4e-29d78b7ed6d6",
   "metadata": {},
   "outputs": [
    {
     "data": {
      "text/plain": [
       "(0.048498348779779654, 0.007001263561967399)"
      ]
     },
     "execution_count": 65,
     "metadata": {},
     "output_type": "execute_result"
    }
   ],
   "source": [
    "from statsmodels.stats.diagnostic import lilliefors\n",
    "\n",
    "lilliefors(icu.drop(397).temperature, pvalmethod=\"approx\")"
   ]
  },
  {
   "cell_type": "code",
   "execution_count": 67,
   "id": "566caf53-879e-41a9-8260-fc5142f44f0c",
   "metadata": {},
   "outputs": [
    {
     "data": {
      "text/plain": [
       "{'method': 'Shapiro-Francia normality test',\n",
       " 'statistics W': 0.9913109186379518,\n",
       " 'statistics z': 2.5034940978078963,\n",
       " 'p-value': 0.006148686573695381}"
      ]
     },
     "execution_count": 67,
     "metadata": {},
     "output_type": "execute_result"
    }
   ],
   "source": [
    "import sfrancia as sf\n",
    "\n",
    "sf.shapiroFrancia(icu.drop(397).temperature)"
   ]
  },
  {
   "cell_type": "code",
   "execution_count": null,
   "id": "8d7f0100-a93e-42e6-8395-4dd70fab28a8",
   "metadata": {},
   "outputs": [],
   "source": []
  }
 ],
 "metadata": {
  "kernelspec": {
   "display_name": "Python 3 (ipykernel)",
   "language": "python",
   "name": "python3"
  },
  "language_info": {
   "codemirror_mode": {
    "name": "ipython",
    "version": 3
   },
   "file_extension": ".py",
   "mimetype": "text/x-python",
   "name": "python",
   "nbconvert_exporter": "python",
   "pygments_lexer": "ipython3",
   "version": "3.12.4"
  }
 },
 "nbformat": 4,
 "nbformat_minor": 5
}
