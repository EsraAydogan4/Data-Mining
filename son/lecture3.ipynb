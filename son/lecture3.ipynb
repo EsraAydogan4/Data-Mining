{
 "cells": [
  {
   "cell_type": "markdown",
   "id": "3fbc3276-56b6-46a5-bca4-20b713055380",
   "metadata": {},
   "source": [
    "## Olasılık Dağılımları (Probability Distributions)"
   ]
  },
  {
   "cell_type": "markdown",
   "id": "a7b7eda5-6681-462d-840f-08ad52667e46",
   "metadata": {},
   "source": [
    "Bir örneklemden altta yatan popülasyona çıkarım yapabilmek için olasılık teorisi modellerine ihtiyaç vardır. Bu tür modellerin temeli olasılık dağılımlarıdır. Bu durumda, çıkarımsal (parametrik) istatistiğin amacı, verilen verilerden varsayılan olasılık dağılımlarının bilinmeyen parametrelerini tahmin etmektir.\n",
    "\n",
    "- Bernoulli distribution Bernoulli (p)\n",
    "- Binomial distribution Binom (m, p)\n",
    "- Hypergeometric distribution Hyper (m, n, k)\n",
    "- Negative binomial distribution Nbinom (r, p) Special cases: Pascal distribution, Pólya distribution, geometric distribution\n",
    "- Poisson distribution Pois (λ)\n",
    "- Normal distribution Norm (μ,σ2)\n",
    "- Log-normal distribution Lnorm(μ, σ)\n",
    "- Gamma distribution Gamma (σ, α) Special cases: Exponential distribution, Erlang distribution, χ2 distribution\n",
    "- Weibull distribution Weibull (σ, α)\n",
    "- Distributions arising in connection with normal distributions: χ2 distribution Chisq (n), t distribution t (n), F distribution F (m, n)"
   ]
  },
  {
   "cell_type": "markdown",
   "id": "5eca0864-ed69-4cf4-a5c4-f6f07dc2e485",
   "metadata": {},
   "source": [
    "### Discrete Distributions (Ayrık Dağılımlar)"
   ]
  },
  {
   "cell_type": "markdown",
   "id": "42a32ab3-d291-4d7a-92e2-f66f7e568f13",
   "metadata": {},
   "source": [
    "Doğal sayılar uzayında değerlerini belirli olasılıklarla alan bir X fonksiyonunu ele alıyoruz. Böyle bir X fonksiyonuna ayrık rastgele değişken denir. Bir rastgele değişkenin değerlerine gerçekleşmeler(realisations) denir."
   ]
  },
  {
   "cell_type": "markdown",
   "id": "048fc36c-a189-4e3d-b78f-6b41021e5356",
   "metadata": {},
   "source": [
    "X'in tüm olası 𝑘 ∈ ℕ değerlerinin 𝑷 (𝑿 = 𝒌) olasılığını belirterek bir X rastgele değişkeninin ayrık olasılık dağılımını veya ayrık dağılımını benzersiz bir şekilde tanımlayabiliriz."
   ]
  },
  {
   "cell_type": "code",
   "execution_count": null,
   "id": "459f31c5-ead9-4f44-8525-768307772242",
   "metadata": {},
   "outputs": [],
   "source": []
  }
 ],
 "metadata": {
  "kernelspec": {
   "display_name": "Python 3 (ipykernel)",
   "language": "python",
   "name": "python3"
  },
  "language_info": {
   "codemirror_mode": {
    "name": "ipython",
    "version": 3
   },
   "file_extension": ".py",
   "mimetype": "text/x-python",
   "name": "python",
   "nbconvert_exporter": "python",
   "pygments_lexer": "ipython3",
   "version": "3.12.4"
  }
 },
 "nbformat": 4,
 "nbformat_minor": 5
}
