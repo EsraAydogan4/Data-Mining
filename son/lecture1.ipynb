{
 "cells": [
  {
   "cell_type": "markdown",
   "id": "3a0b33dc-702b-45ab-85ba-782044133f65",
   "metadata": {},
   "source": [
    "<span style=\"color:red\">**Bu ders notları, \"Matthias Kohl,  Introduction to statistical data analysis \n",
    "with R, 2015, bookboon.com\" kitabından çıkarılmıştır.**</span> "
   ]
  },
  {
   "cell_type": "markdown",
   "id": "3f0e937d-02aa-40b5-9437-e2ef337f8834",
   "metadata": {},
   "source": [
    "### GİRİŞ"
   ]
  },
  {
   "cell_type": "markdown",
   "id": "d26aaf22-1827-4a8e-af88-8fc77f478b3e",
   "metadata": {},
   "source": [
    "- İstatistik Tanımlayıcı (Descriptive) ve Çıkarımsal (Inferential) istatistik olarak ikiye ayrılır.\n",
    "- Başlangıç noktası, net bir şekilde karakterize edilmesi gereken bir popülasyon veya evrendir.\n",
    "- Amaç, bu popülasyon hakkında bazı (yeni, önemli) bilgiler elde etmektir (Örneğin bir sonraki seçimde hangi partinin kaç oy alacağı veya hangi hastalığın hangi sıklıkta görüldüğü gibi).\n",
    "- Çoğu durumda tam bir araştırma yapmak imkansızdır, çünkü örneğin nüfusun büyüklüğü nedeniyle çok pahalı olacaktır veya nüfus zaman içinde sürekli değişmektedir."
   ]
  },
  {
   "cell_type": "markdown",
   "id": "c27a0927-3952-440c-9f31-1ea212b9e796",
   "metadata": {},
   "source": [
    "- İstatistiksel olarak yapılan, model parametrelerinin bilinmediği ve belirlenmesi gereken olasılık teorisinden modellerin varsayılmasıdır.\n",
    "- Bu amaçla, genellikle rastgele seçim yoluyla popülasyondan temsili bir örneklem çekilir ve tanımlayıcı istatistiğin görevi, bu rastgele örneği mümkün olduğunca doğru bir şekilde karakterize etmektir. ,\n",
    "- Tanımlayıcı istatistikler popülasyon hakkında hiçbir bilgi vermez, ancak \"sadece\" popülasyondan (rastgele) seçilen kısmı tanımlar. Tanımlayıcı istatistikler, verileri tanımaya ve verilerdeki nadir veya hatalı değerleri tespit etmeye yardımcı olur. "
   ]
  },
  {
   "cell_type": "markdown",
   "id": "70317578-838b-40db-83e8-938f11b1a422",
   "metadata": {},
   "source": [
    "- Çıkarımsal istatistiğin amacı, temsili bir örneklemden ilgili popülasyon hakkında çıkarımlar yapmaktır.\n",
    "- Yapılan, mevcut verilerden varsayılan olasılık modellerinin bilinmeyen parametrelerini belirlemektir (tahmin etmektir).\n",
    "- Ayrıca, mevcut modellerin geçerliliği de incelenebilir."
   ]
  },
  {
   "cell_type": "markdown",
   "id": "07a19427-3039-497c-a1b0-2ab381424882",
   "metadata": {},
   "source": [
    "![image](figure1.png)"
   ]
  },
  {
   "cell_type": "markdown",
   "id": "c5a2c5b5-ca75-4356-80d6-61539f20c270",
   "metadata": {},
   "source": [
    "**Örnek 1**\": İkinci dünya savaşında amaç, Amerikan bombardıman uçaklarını Alman hava savunmasının ateşine karşı daha iyi korumaktı. Bu amaçla, geri dönen uçakların mermi deliklerinin yeri ve sayısı analiz edildi. Toplanan bilgilere dayanarak Ordu, çok sayıda isabet alan yerlerin ek bir zırh alması gerektiği sonucuna vardı.  Buna karşılık, istatistikçi Abraham Wald analizinde isabetlerin uçaklara eşit olarak dağılması gerektiğini varsaymıştır (Wald (1980)). Geri dönmeyen uçaklar için durum böyle olmadığından, geri dönmeyen uçakların çok hassas yerlerinden vurulduğu ve bu nedenle düştüğü sonucuna varmıştır. Sonuç olarak, geri dönen uçakların hiç isabet almadığı ya da çok az isabet aldığı yerlere amor eklenmesini tavsiye etmiştir.\n",
    "\n",
    "Bir popülasyonun unsurları bir dizi nitelik (değişken) tarafından tanımlanır. Bu niteliklerçeşitli nitelik türlerine ayrılabilir. Bunlar, nitel (kategorik) ve nicel (metrik) niteliklerdir.\n",
    "\n"
   ]
  },
  {
   "cell_type": "markdown",
   "id": "fdee5cbc-0c00-4568-a027-e49332b74b95",
   "metadata": {},
   "source": [
    "![image](figure2.png)"
   ]
  },
  {
   "cell_type": "code",
   "execution_count": 1,
   "id": "75850eb8-f379-4e44-b277-b6d169c3c1d7",
   "metadata": {},
   "outputs": [
    {
     "data": {
      "text/html": [
       "<div>\n",
       "<style scoped>\n",
       "    .dataframe tbody tr th:only-of-type {\n",
       "        vertical-align: middle;\n",
       "    }\n",
       "\n",
       "    .dataframe tbody tr th {\n",
       "        vertical-align: top;\n",
       "    }\n",
       "\n",
       "    .dataframe thead th {\n",
       "        text-align: right;\n",
       "    }\n",
       "</style>\n",
       "<table border=\"1\" class=\"dataframe\">\n",
       "  <thead>\n",
       "    <tr style=\"text-align: right;\">\n",
       "      <th></th>\n",
       "      <th>ID</th>\n",
       "      <th>sex</th>\n",
       "      <th>age</th>\n",
       "      <th>surgery</th>\n",
       "      <th>heart rate</th>\n",
       "      <th>temperature</th>\n",
       "      <th>bilirubin</th>\n",
       "      <th>SAPS II</th>\n",
       "      <th>liver failure</th>\n",
       "      <th>LOS</th>\n",
       "      <th>outcome</th>\n",
       "    </tr>\n",
       "  </thead>\n",
       "  <tbody>\n",
       "    <tr>\n",
       "      <th>0</th>\n",
       "      <td>1</td>\n",
       "      <td>female</td>\n",
       "      <td>76</td>\n",
       "      <td>other</td>\n",
       "      <td>98.0</td>\n",
       "      <td>36.5</td>\n",
       "      <td>6.512142</td>\n",
       "      <td>57</td>\n",
       "      <td>0</td>\n",
       "      <td>1</td>\n",
       "      <td>died</td>\n",
       "    </tr>\n",
       "    <tr>\n",
       "      <th>1</th>\n",
       "      <td>2</td>\n",
       "      <td>female</td>\n",
       "      <td>60</td>\n",
       "      <td>gastrointestinal</td>\n",
       "      <td>80.0</td>\n",
       "      <td>38.1</td>\n",
       "      <td>14.523197</td>\n",
       "      <td>52</td>\n",
       "      <td>0</td>\n",
       "      <td>2</td>\n",
       "      <td>home</td>\n",
       "    </tr>\n",
       "    <tr>\n",
       "      <th>2</th>\n",
       "      <td>3</td>\n",
       "      <td>male</td>\n",
       "      <td>66</td>\n",
       "      <td>cardiothoracic</td>\n",
       "      <td>99.6</td>\n",
       "      <td>37.4</td>\n",
       "      <td>22.972480</td>\n",
       "      <td>57</td>\n",
       "      <td>0</td>\n",
       "      <td>1</td>\n",
       "      <td>secondary care/rehab</td>\n",
       "    </tr>\n",
       "    <tr>\n",
       "      <th>3</th>\n",
       "      <td>4</td>\n",
       "      <td>male</td>\n",
       "      <td>74</td>\n",
       "      <td>other</td>\n",
       "      <td>110.0</td>\n",
       "      <td>39.1</td>\n",
       "      <td>19.299346</td>\n",
       "      <td>45</td>\n",
       "      <td>0</td>\n",
       "      <td>2</td>\n",
       "      <td>home</td>\n",
       "    </tr>\n",
       "    <tr>\n",
       "      <th>4</th>\n",
       "      <td>5</td>\n",
       "      <td>female</td>\n",
       "      <td>68</td>\n",
       "      <td>other</td>\n",
       "      <td>94.1</td>\n",
       "      <td>38.5</td>\n",
       "      <td>39.076485</td>\n",
       "      <td>49</td>\n",
       "      <td>0</td>\n",
       "      <td>1</td>\n",
       "      <td>home</td>\n",
       "    </tr>\n",
       "    <tr>\n",
       "      <th>...</th>\n",
       "      <td>...</td>\n",
       "      <td>...</td>\n",
       "      <td>...</td>\n",
       "      <td>...</td>\n",
       "      <td>...</td>\n",
       "      <td>...</td>\n",
       "      <td>...</td>\n",
       "      <td>...</td>\n",
       "      <td>...</td>\n",
       "      <td>...</td>\n",
       "      <td>...</td>\n",
       "    </tr>\n",
       "    <tr>\n",
       "      <th>495</th>\n",
       "      <td>496</td>\n",
       "      <td>male</td>\n",
       "      <td>62</td>\n",
       "      <td>cardiothoracic</td>\n",
       "      <td>118.0</td>\n",
       "      <td>37.3</td>\n",
       "      <td>13.234537</td>\n",
       "      <td>33</td>\n",
       "      <td>0</td>\n",
       "      <td>1</td>\n",
       "      <td>secondary care/rehab</td>\n",
       "    </tr>\n",
       "    <tr>\n",
       "      <th>496</th>\n",
       "      <td>497</td>\n",
       "      <td>male</td>\n",
       "      <td>67</td>\n",
       "      <td>cardiothoracic</td>\n",
       "      <td>115.0</td>\n",
       "      <td>38.0</td>\n",
       "      <td>10.740772</td>\n",
       "      <td>56</td>\n",
       "      <td>0</td>\n",
       "      <td>1</td>\n",
       "      <td>died</td>\n",
       "    </tr>\n",
       "    <tr>\n",
       "      <th>497</th>\n",
       "      <td>498</td>\n",
       "      <td>female</td>\n",
       "      <td>53</td>\n",
       "      <td>cardiothoracic</td>\n",
       "      <td>131.0</td>\n",
       "      <td>37.9</td>\n",
       "      <td>14.131188</td>\n",
       "      <td>38</td>\n",
       "      <td>0</td>\n",
       "      <td>3</td>\n",
       "      <td>secondary care/rehab</td>\n",
       "    </tr>\n",
       "    <tr>\n",
       "      <th>498</th>\n",
       "      <td>499</td>\n",
       "      <td>male</td>\n",
       "      <td>68</td>\n",
       "      <td>other</td>\n",
       "      <td>86.9</td>\n",
       "      <td>36.0</td>\n",
       "      <td>9.596478</td>\n",
       "      <td>66</td>\n",
       "      <td>0</td>\n",
       "      <td>2</td>\n",
       "      <td>home</td>\n",
       "    </tr>\n",
       "    <tr>\n",
       "      <th>499</th>\n",
       "      <td>500</td>\n",
       "      <td>male</td>\n",
       "      <td>75</td>\n",
       "      <td>cardiothoracic</td>\n",
       "      <td>92.0</td>\n",
       "      <td>37.6</td>\n",
       "      <td>11.660875</td>\n",
       "      <td>25</td>\n",
       "      <td>0</td>\n",
       "      <td>1</td>\n",
       "      <td>secondary care/rehab</td>\n",
       "    </tr>\n",
       "  </tbody>\n",
       "</table>\n",
       "<p>500 rows × 11 columns</p>\n",
       "</div>"
      ],
      "text/plain": [
       "      ID     sex  age           surgery  heart rate  temperature  bilirubin  \\\n",
       "0      1  female   76             other        98.0         36.5   6.512142   \n",
       "1      2  female   60  gastrointestinal        80.0         38.1  14.523197   \n",
       "2      3    male   66    cardiothoracic        99.6         37.4  22.972480   \n",
       "3      4    male   74             other       110.0         39.1  19.299346   \n",
       "4      5  female   68             other        94.1         38.5  39.076485   \n",
       "..   ...     ...  ...               ...         ...          ...        ...   \n",
       "495  496    male   62    cardiothoracic       118.0         37.3  13.234537   \n",
       "496  497    male   67    cardiothoracic       115.0         38.0  10.740772   \n",
       "497  498  female   53    cardiothoracic       131.0         37.9  14.131188   \n",
       "498  499    male   68             other        86.9         36.0   9.596478   \n",
       "499  500    male   75    cardiothoracic        92.0         37.6  11.660875   \n",
       "\n",
       "     SAPS II  liver failure  LOS               outcome  \n",
       "0         57              0    1                  died  \n",
       "1         52              0    2                  home  \n",
       "2         57              0    1  secondary care/rehab  \n",
       "3         45              0    2                  home  \n",
       "4         49              0    1                  home  \n",
       "..       ...            ...  ...                   ...  \n",
       "495       33              0    1  secondary care/rehab  \n",
       "496       56              0    1                  died  \n",
       "497       38              0    3  secondary care/rehab  \n",
       "498       66              0    2                  home  \n",
       "499       25              0    1  secondary care/rehab  \n",
       "\n",
       "[500 rows x 11 columns]"
      ]
     },
     "execution_count": 1,
     "metadata": {},
     "output_type": "execute_result"
    }
   ],
   "source": [
    "import pandas as pd\n",
    "icu = pd.read_csv(\"ICUData.csv\")\n",
    "icu"
   ]
  },
  {
   "cell_type": "markdown",
   "id": "d658e41c-a796-47ec-92c5-25ff80496b4f",
   "metadata": {},
   "source": [
    "- **ID**: hastaların tanımlanması için 1'den 500'e kadar ardışık sayılar. \n",
    "- **sex**: düzeyleri kadın ve erkek olan nominal bir değişken\n",
    "- **age**: yıl cinsinden yaş\n",
    "- **surgery**: cerrahi türü, seviyeleri olan nominal değişken. cardiothoracic, gastrointestinal, neuro, other, and trauma\n",
    "- **heart rate**: Yoğun bakımda tüm konaklama süresince dakika başına atım cinsinden maksimum kalp atış hızı.\n",
    "- **temperature**: YBÜ'de kalınan süre boyunca santigrat derece cinsinden maksimum vücut sıcaklığı.\n",
    "- **bilirubin**: YBÜ'de kalınan süre boyunca µmol/l (sayısal) cinsinden maksimum bilirubin seviyesi. \n",
    "- **SAPS II**: YBÜ'ye kabul sırasında SAPS-II Skoru (tamsayı). Skor fizyolojik durumu yansıtır ve hastalığın ciddiyetini tahmin etmek için kullanılır. Skor ne kadar yüksekse hastalık o kadar şiddetlidir. \n",
    "- **liver failure**: karaciğer yetmezliği varlığı.\n",
    "- **LOS**: YBÜ'de gün olarak kalış süresi.\n",
    "- **outcome**: YBÜ'den taburcu olma türü.  died, home, other hospital, and secondary care/rehab"
   ]
  },
  {
   "cell_type": "code",
   "execution_count": 3,
   "id": "ea9050c0-d367-4692-abe4-b8bddbf9f1d7",
   "metadata": {},
   "outputs": [
    {
     "name": "stdout",
     "output_type": "stream",
     "text": [
      "<class 'pandas.core.frame.DataFrame'>\n",
      "RangeIndex: 500 entries, 0 to 499\n",
      "Data columns (total 11 columns):\n",
      " #   Column         Non-Null Count  Dtype  \n",
      "---  ------         --------------  -----  \n",
      " 0   ID             500 non-null    int64  \n",
      " 1   sex            500 non-null    object \n",
      " 2   age            500 non-null    int64  \n",
      " 3   surgery        500 non-null    object \n",
      " 4   heart rate     500 non-null    float64\n",
      " 5   temperature    500 non-null    float64\n",
      " 6   bilirubin      500 non-null    float64\n",
      " 7   SAPS II        500 non-null    int64  \n",
      " 8   liver failure  500 non-null    int64  \n",
      " 9   LOS            500 non-null    int64  \n",
      " 10  outcome        500 non-null    object \n",
      "dtypes: float64(3), int64(5), object(3)\n",
      "memory usage: 43.1+ KB\n"
     ]
    }
   ],
   "source": [
    "icu.info()"
   ]
  },
  {
   "cell_type": "markdown",
   "id": "8ae90aa0-1919-4c01-be59-f85d9bd30094",
   "metadata": {},
   "source": [
    "### Univariate (Tek Değişkenli) Analiz"
   ]
  },
  {
   "cell_type": "markdown",
   "id": "cc42f10f-6ffd-46fb-8041-45db3c0c8775",
   "metadata": {},
   "source": [
    "Nominal değişkenler söz konusu olduğunda, tanımlayıcı istatistikler mutlak ve göreli frekansların hesaplanması ve görselleştirilmesinden oluşur."
   ]
  },
  {
   "cell_type": "code",
   "execution_count": 2,
   "id": "e6da7065-b495-44e2-9d3a-ae190e6d2b6d",
   "metadata": {},
   "outputs": [
    {
     "data": {
      "text/plain": [
       "surgery\n",
       "cardiothoracic      223\n",
       "other               121\n",
       "gastrointestinal     79\n",
       "neuro                46\n",
       "trauma               31\n",
       "Name: count, dtype: int64"
      ]
     },
     "execution_count": 2,
     "metadata": {},
     "output_type": "execute_result"
    }
   ],
   "source": [
    "icu[\"surgery\"].value_counts() # benzersiz değerlerin sayısını hesaplar "
   ]
  },
  {
   "cell_type": "markdown",
   "id": "ec1e9341-8c7f-45e9-9676-866fd17769bb",
   "metadata": {},
   "source": [
    "Bu sayıları hasta sayısına bölerek göreceli frekansları elde edilir. Buna **ampirik frekans** dağılımı da denir. "
   ]
  },
  {
   "cell_type": "code",
   "execution_count": 3,
   "id": "a240f412-67a2-465d-8ddc-c7d79100b997",
   "metadata": {},
   "outputs": [
    {
     "data": {
      "text/plain": [
       "surgery\n",
       "cardiothoracic      0.446\n",
       "other               0.242\n",
       "gastrointestinal    0.158\n",
       "neuro               0.092\n",
       "trauma              0.062\n",
       "Name: count, dtype: float64"
      ]
     },
     "execution_count": 3,
     "metadata": {},
     "output_type": "execute_result"
    }
   ],
   "source": [
    "icu[\"surgery\"].value_counts() / icu[\"surgery\"].size"
   ]
  },
  {
   "cell_type": "markdown",
   "id": "49940a06-4bdd-4262-b705-4b4d5cf7ae4f",
   "metadata": {},
   "source": [
    "Yani, hastaların neredeyse yarısı kardiyotorasik cerrahi geçirmiştir. Bu en sık görülen seviye aynı zamanda mod olarak da adlandırılmaktadır. İkinci sırada diğer ameliyatlar ve ardından gastrointestinal ameliyatlar yer almaktadır. En az sayıda ameliyat travmadan, biraz daha fazla sayıda ameliyat ise nörolojik nedenlerden kaynaklanmıştır."
   ]
  },
  {
   "cell_type": "markdown",
   "id": "c6b23070-d143-4e1a-9648-90e5d88585b6",
   "metadata": {},
   "source": [
    "Göreli ve mutlak frekansların grafiksel gösterimi en iyi çubuk grafiklerle yapılır."
   ]
  },
  {
   "cell_type": "code",
   "execution_count": 11,
   "id": "2fae35d8-3aff-4606-abca-16f63524ccec",
   "metadata": {},
   "outputs": [
    {
     "data": {
      "text/plain": [
       "KstestResult(statistic=np.float64(1.0), pvalue=np.float64(0.0), statistic_location=np.int64(18), statistic_sign=np.int8(-1))"
      ]
     },
     "execution_count": 11,
     "metadata": {},
     "output_type": "execute_result"
    }
   ],
   "source": [
    "import matplotlib.pyplot as plt\n",
    "import seaborn as sns\n",
    "import plotly.express as px\n",
    "# icu[\"surgery\"].value_counts().plot.bar()\n",
    "seri = icu[\"surgery\"].value_counts()\n",
    "# plt.bar(seri.index, seri.values)\n",
    "# sns.barplot(x=seri.index, y=seri.values)\n",
    "# px.bar(x=seri.index, y=seri.values)\n",
    "\n",
    "# icu.age.plot.hist()\n",
    "from scipy import stats\n",
    "stats.kstest(icu.age, stats.norm.cdf)"
   ]
  },
  {
   "cell_type": "code",
   "execution_count": 18,
   "id": "710287ee-89ac-4423-b9fd-f6348a3880f2",
   "metadata": {},
   "outputs": [
    {
     "data": {
      "text/plain": [
       "<Axes: ylabel='count'>"
      ]
     },
     "execution_count": 18,
     "metadata": {},
     "output_type": "execute_result"
    },
    {
     "data": {
      "image/png": "[encoded data removed]",
      "text/plain": [
       "<Figure size 640x480 with 1 Axes>"
      ]
     },
     "metadata": {},
     "output_type": "display_data"
    }
   ],
   "source": [
    "icu[\"age\"].value_counts().plot.pie()\n",
    "# plt.pie(x=seri.values, labels=seri.index, autopct='%.2f')\n",
    "# px.pie(names=seri.index, values=seri.values)"
   ]
  },
  {
   "cell_type": "markdown",
   "id": "a9d0e4ef-2e15-41d4-ab2e-47b3c2b66562",
   "metadata": {},
   "source": [
    "<span style=\"color:blue\">\"Pasta grafikler, bilgi göstermenin çok kötü bir yoludur. Göz, doğrusal ölçümleri değerlendirmede iyi, göreceli alanları değerlendirmede ise kötüdür. Çubuk grafik veya nokta grafik, bu tür verileri görüntülemek için tercih edilen bir yoldur.\"</span>"
   ]
  },
  {
   "cell_type": "markdown",
   "id": "884b4dc8-af6d-4c60-b5a2-7b8ad4804666",
   "metadata": {},
   "source": [
    "**Quantile** : Bir quantile, bir veri kümesinin belirli bir bölümünü tanımlar, yani bir quantile, bir dağılımdaki kaç değerin belirli bir sınırın üstünde veya altında olduğunu belirler. Özel nicelikler çeyrek (quarter), ondalık (decile) ve yüzdelik (percentiles) olarak adlandırılır.\n",
    "\n",
    "Örneğin; e: Bir dağılımı dört eşit parçaya bölersek, dört çeyreklikten söz ederiz. İlk çeyrek dilim, tüm değerlerin dörtte birinden daha küçük olan tüm değerleri içerir. Grafiksel bir gösterimde, bir dağılımın toplam alanının %25'ine karşılık gelir. İki alt çeyrek ise tüm dağılım değerlerinin %50'sini kapsar."
   ]
  },
  {
   "cell_type": "code",
   "execution_count": 13,
   "id": "7acf9324-393b-4208-8855-6bf7c212b873",
   "metadata": {},
   "outputs": [
    {
     "data": {
      "text/html": [
       "<div>\n",
       "<style scoped>\n",
       "    .dataframe tbody tr th:only-of-type {\n",
       "        vertical-align: middle;\n",
       "    }\n",
       "\n",
       "    .dataframe tbody tr th {\n",
       "        vertical-align: top;\n",
       "    }\n",
       "\n",
       "    .dataframe thead th {\n",
       "        text-align: right;\n",
       "    }\n",
       "</style>\n",
       "<table border=\"1\" class=\"dataframe\">\n",
       "  <thead>\n",
       "    <tr style=\"text-align: right;\">\n",
       "      <th></th>\n",
       "      <th>count</th>\n",
       "      <th>mean</th>\n",
       "      <th>std</th>\n",
       "      <th>min</th>\n",
       "      <th>25%</th>\n",
       "      <th>50%</th>\n",
       "      <th>75%</th>\n",
       "      <th>max</th>\n",
       "    </tr>\n",
       "  </thead>\n",
       "  <tbody>\n",
       "    <tr>\n",
       "      <th>ID</th>\n",
       "      <td>500.0</td>\n",
       "      <td>250.500000</td>\n",
       "      <td>144.481833</td>\n",
       "      <td>1.000000</td>\n",
       "      <td>125.750000</td>\n",
       "      <td>250.500000</td>\n",
       "      <td>375.250000</td>\n",
       "      <td>500.000000</td>\n",
       "    </tr>\n",
       "    <tr>\n",
       "      <th>age</th>\n",
       "      <td>500.0</td>\n",
       "      <td>63.060000</td>\n",
       "      <td>14.766601</td>\n",
       "      <td>18.000000</td>\n",
       "      <td>55.000000</td>\n",
       "      <td>66.000000</td>\n",
       "      <td>73.000000</td>\n",
       "      <td>98.000000</td>\n",
       "    </tr>\n",
       "    <tr>\n",
       "      <th>heart rate</th>\n",
       "      <td>500.0</td>\n",
       "      <td>107.414400</td>\n",
       "      <td>20.857983</td>\n",
       "      <td>59.200000</td>\n",
       "      <td>92.725000</td>\n",
       "      <td>104.000000</td>\n",
       "      <td>119.000000</td>\n",
       "      <td>186.000000</td>\n",
       "    </tr>\n",
       "    <tr>\n",
       "      <th>temperature</th>\n",
       "      <td>500.0</td>\n",
       "      <td>37.663200</td>\n",
       "      <td>1.735474</td>\n",
       "      <td>9.100000</td>\n",
       "      <td>36.900000</td>\n",
       "      <td>37.700000</td>\n",
       "      <td>38.400000</td>\n",
       "      <td>42.000000</td>\n",
       "    </tr>\n",
       "    <tr>\n",
       "      <th>bilirubin</th>\n",
       "      <td>500.0</td>\n",
       "      <td>25.744434</td>\n",
       "      <td>48.422056</td>\n",
       "      <td>3.679049</td>\n",
       "      <td>10.705027</td>\n",
       "      <td>15.312147</td>\n",
       "      <td>23.427203</td>\n",
       "      <td>647.304964</td>\n",
       "    </tr>\n",
       "    <tr>\n",
       "      <th>SAPS II</th>\n",
       "      <td>500.0</td>\n",
       "      <td>44.884000</td>\n",
       "      <td>17.224166</td>\n",
       "      <td>12.000000</td>\n",
       "      <td>31.000000</td>\n",
       "      <td>42.000000</td>\n",
       "      <td>57.000000</td>\n",
       "      <td>125.000000</td>\n",
       "    </tr>\n",
       "    <tr>\n",
       "      <th>liver failure</th>\n",
       "      <td>500.0</td>\n",
       "      <td>0.040000</td>\n",
       "      <td>0.196155</td>\n",
       "      <td>0.000000</td>\n",
       "      <td>0.000000</td>\n",
       "      <td>0.000000</td>\n",
       "      <td>0.000000</td>\n",
       "      <td>1.000000</td>\n",
       "    </tr>\n",
       "    <tr>\n",
       "      <th>LOS</th>\n",
       "      <td>500.0</td>\n",
       "      <td>5.290000</td>\n",
       "      <td>9.857802</td>\n",
       "      <td>1.000000</td>\n",
       "      <td>1.000000</td>\n",
       "      <td>1.000000</td>\n",
       "      <td>5.000000</td>\n",
       "      <td>105.000000</td>\n",
       "    </tr>\n",
       "  </tbody>\n",
       "</table>\n",
       "</div>"
      ],
      "text/plain": [
       "               count        mean         std        min         25%  \\\n",
       "ID             500.0  250.500000  144.481833   1.000000  125.750000   \n",
       "age            500.0   63.060000   14.766601  18.000000   55.000000   \n",
       "heart rate     500.0  107.414400   20.857983  59.200000   92.725000   \n",
       "temperature    500.0   37.663200    1.735474   9.100000   36.900000   \n",
       "bilirubin      500.0   25.744434   48.422056   3.679049   10.705027   \n",
       "SAPS II        500.0   44.884000   17.224166  12.000000   31.000000   \n",
       "liver failure  500.0    0.040000    0.196155   0.000000    0.000000   \n",
       "LOS            500.0    5.290000    9.857802   1.000000    1.000000   \n",
       "\n",
       "                      50%         75%         max  \n",
       "ID             250.500000  375.250000  500.000000  \n",
       "age             66.000000   73.000000   98.000000  \n",
       "heart rate     104.000000  119.000000  186.000000  \n",
       "temperature     37.700000   38.400000   42.000000  \n",
       "bilirubin       15.312147   23.427203  647.304964  \n",
       "SAPS II         42.000000   57.000000  125.000000  \n",
       "liver failure    0.000000    0.000000    1.000000  \n",
       "LOS              1.000000    5.000000  105.000000  "
      ]
     },
     "execution_count": 13,
     "metadata": {},
     "output_type": "execute_result"
    }
   ],
   "source": [
    " icu.describe().T"
   ]
  },
  {
   "cell_type": "code",
   "execution_count": 9,
   "id": "83667249-ef9c-433f-87f8-d0572c7f443b",
   "metadata": {},
   "outputs": [
    {
     "name": "stdout",
     "output_type": "stream",
     "text": [
      "[2, 4, 6, 8, 10, 12, 14, 16, 18, 20]\n",
      "[2, 4, 6, 8, 10, 12, 14, 16, 18, 20]\n",
      "[2, 4, 6, 8, 10, 12, 14, 16, 18, 20]\n"
     ]
    }
   ],
   "source": [
    "import numpy as np\n",
    "list1 = list(range(2, 22, 2))\n",
    "list2 = [*range(2, 22, 2)]\n",
    "list3 = np.arange(2, 22, 2).tolist()\n",
    "print(list1)\n",
    "print(list2)\n",
    "print(list3)"
   ]
  },
  {
   "cell_type": "code",
   "execution_count": 17,
   "id": "1d9f288f-0c75-4447-9634-bd69289d4171",
   "metadata": {},
   "outputs": [
    {
     "data": {
      "text/plain": [
       "5.6"
      ]
     },
     "execution_count": 17,
     "metadata": {},
     "output_type": "execute_result"
    }
   ],
   "source": [
    "np.quantile(list1, 0.2)"
   ]
  },
  {
   "cell_type": "code",
   "execution_count": 18,
   "id": "c680701d-b190-450f-804a-b804c2d9c239",
   "metadata": {},
   "outputs": [
    {
     "data": {
      "text/plain": [
       "42.0"
      ]
     },
     "execution_count": 18,
     "metadata": {},
     "output_type": "execute_result"
    }
   ],
   "source": [
    "np.quantile(icu[\"SAPS II\"], 0.5)"
   ]
  },
  {
   "cell_type": "markdown",
   "id": "e0a640c7-9427-471e-b9eb-b1cfaef88ec3",
   "metadata": {},
   "source": [
    "Yani, hastaların %50'sinin SAPS II skoru ≤ 42 ve %50'sinin skoru ≥ 42'dir. Medyan, sözde bir konum parametresidir ve bize değerlerin değişkenliği hakkında herhangi bir bilgi vermez. Bu amaçla kantiller de kullanılabilir. Çok sık kullanılan bir ölçek veya dağılım parametresi, interquartile range  (IQR) olarak adlandırılan, üçüncü ve birinci çeyrek arasındaki mesafedir (yani 𝑞0,75 - 𝑞0,25)"
   ]
  },
  {
   "cell_type": "code",
   "execution_count": 19,
   "id": "d49aa45c-4b56-4815-8fd4-9c52be7b6565",
   "metadata": {},
   "outputs": [
    {
     "data": {
      "text/plain": [
       "26.0"
      ]
     },
     "execution_count": 19,
     "metadata": {},
     "output_type": "execute_result"
    }
   ],
   "source": [
    "from scipy.stats import iqr\n",
    "iqr(icu[\"SAPS II\"])"
   ]
  },
  {
   "cell_type": "code",
   "execution_count": 20,
   "id": "6f037ed7-0d2a-44c9-b87c-457008fd185b",
   "metadata": {},
   "outputs": [
    {
     "data": {
      "text/plain": [
       "26.0"
      ]
     },
     "execution_count": 20,
     "metadata": {},
     "output_type": "execute_result"
    }
   ],
   "source": [
    "q75, q25 = np.percentile(icu[\"SAPS II\"], [75 ,25])\n",
    "iqr = q75 - q25\n",
    "iqr"
   ]
  },
  {
   "cell_type": "markdown",
   "id": "a19a2334-6960-41fa-b101-963f3a3a6c39",
   "metadata": {},
   "source": [
    "Sonuç olarak, hastaların orta %50'si 26 SAPS II puan aralığına sahiptir. Değerlerin dağılımını değerlendirmek için bir başka seçenek de median absolute deviation (MAD) dır."
   ]
  },
  {
   "cell_type": "code",
   "execution_count": 10,
   "id": "2680027b-e58b-4656-a97e-1c092ebfd394",
   "metadata": {},
   "outputs": [
    {
     "data": {
      "text/plain": [
       "13.0"
      ]
     },
     "execution_count": 10,
     "metadata": {},
     "output_type": "execute_result"
    }
   ],
   "source": [
    "from scipy.stats import median_abs_deviation\n",
    "\n",
    "median_abs_deviation(icu[\"SAPS II\"])"
   ]
  },
  {
   "cell_type": "markdown",
   "id": "79b40df6-f591-4acc-8269-8b2515d75c63",
   "metadata": {},
   "source": [
    "Kantiller aynı zamanda tanımlayıcı istatistiklerdeki en önemli grafiksel gösterimlerden biri olan box-plot grafiğinin de temelini oluşturmaktadır; gözlemlerin medyan, IQR ve aralık bilgilerini çok iyi özetler. Ayrıca, şüpheli gözlemleri (aykırı değerler) belirlemek için de uygulanabilir."
   ]
  },
  {
   "cell_type": "markdown",
   "id": "c7db7d33-5984-4669-8d34-37df2def3ea0",
   "metadata": {},
   "source": [
    "![image](figure3.png)"
   ]
  },
  {
   "cell_type": "code",
   "execution_count": 24,
   "id": "74d6a160-7db3-489c-adaf-60fff47aa8fc",
   "metadata": {},
   "outputs": [
    {
     "data": {
      "application/vnd.plotly.v1+json": {
       "config": {
        "plotlyServerURL": "https://plot.ly"
       },
       "data": [
        {
         "alignmentgroup": "True",
         "hovertemplate": "y=%{y}<extra></extra>",
         "legendgroup": "",
         "marker": {
          "color": "#636efa"
         },
         "name": "",
         "notched": false,
         "offsetgroup": "",
         "orientation": "v",
         "showlegend": false,
         "type": "box",
         "x0": " ",
         "xaxis": "x",
         "y": [
          57,
          52,
          57,
          45,
          49,
          53,
          25,
          19,
          58,
          56,
          47,
          41,
          30,
          25,
          40,
          68,
          58,
          51,
          42,
          54,
          28,
          19,
          30,
          40,
          57,
          48,
          55,
          61,
          64,
          36,
          43,
          51,
          23,
          28,
          63,
          24,
          62,
          69,
          19,
          49,
          22,
          43,
          90,
          26,
          24,
          70,
          30,
          27,
          31,
          51,
          36,
          47,
          12,
          59,
          34,
          50,
          41,
          25,
          20,
          58,
          14,
          31,
          41,
          63,
          33,
          41,
          36,
          48,
          62,
          45,
          50,
          70,
          45,
          56,
          62,
          31,
          56,
          58,
          52,
          48,
          28,
          15,
          36,
          30,
          62,
          48,
          65,
          77,
          57,
          45,
          46,
          61,
          34,
          53,
          47,
          52,
          54,
          36,
          41,
          31,
          53,
          81,
          32,
          27,
          57,
          23,
          58,
          58,
          48,
          30,
          21,
          22,
          27,
          68,
          82,
          35,
          42,
          27,
          36,
          45,
          66,
          33,
          75,
          60,
          33,
          41,
          32,
          30,
          60,
          45,
          57,
          45,
          27,
          16,
          26,
          37,
          62,
          64,
          50,
          55,
          29,
          27,
          29,
          56,
          35,
          53,
          55,
          52,
          29,
          54,
          49,
          27,
          42,
          31,
          59,
          45,
          34,
          53,
          19,
          57,
          49,
          26,
          37,
          35,
          35,
          73,
          27,
          34,
          53,
          37,
          49,
          58,
          29,
          86,
          31,
          56,
          44,
          58,
          30,
          72,
          65,
          79,
          53,
          34,
          54,
          22,
          13,
          22,
          36,
          54,
          67,
          78,
          44,
          63,
          78,
          24,
          25,
          30,
          40,
          49,
          56,
          37,
          25,
          68,
          18,
          42,
          77,
          72,
          37,
          24,
          84,
          76,
          41,
          31,
          62,
          48,
          48,
          53,
          29,
          45,
          42,
          57,
          30,
          42,
          30,
          75,
          54,
          51,
          34,
          59,
          24,
          55,
          33,
          75,
          28,
          54,
          47,
          66,
          78,
          40,
          51,
          24,
          43,
          63,
          69,
          89,
          29,
          66,
          21,
          62,
          39,
          21,
          35,
          34,
          61,
          23,
          44,
          27,
          58,
          31,
          57,
          51,
          25,
          39,
          38,
          38,
          40,
          42,
          55,
          50,
          70,
          34,
          64,
          41,
          27,
          73,
          28,
          36,
          37,
          33,
          27,
          40,
          52,
          36,
          62,
          29,
          39,
          71,
          39,
          88,
          25,
          49,
          36,
          54,
          53,
          40,
          38,
          68,
          63,
          46,
          22,
          43,
          65,
          28,
          53,
          25,
          20,
          51,
          57,
          33,
          22,
          43,
          46,
          34,
          41,
          45,
          33,
          30,
          38,
          83,
          56,
          36,
          81,
          38,
          46,
          19,
          63,
          70,
          30,
          41,
          64,
          29,
          34,
          67,
          22,
          79,
          78,
          68,
          20,
          34,
          64,
          39,
          56,
          29,
          26,
          31,
          65,
          29,
          67,
          68,
          16,
          58,
          50,
          36,
          36,
          24,
          125,
          20,
          65,
          49,
          48,
          61,
          32,
          54,
          60,
          29,
          28,
          51,
          37,
          36,
          45,
          27,
          45,
          30,
          30,
          28,
          29,
          28,
          57,
          29,
          57,
          38,
          21,
          34,
          20,
          57,
          60,
          31,
          75,
          58,
          60,
          40,
          32,
          61,
          36,
          25,
          61,
          99,
          37,
          62,
          61,
          51,
          57,
          27,
          50,
          23,
          53,
          58,
          20,
          41,
          31,
          53,
          33,
          52,
          29,
          52,
          37,
          33,
          32,
          35,
          73,
          32,
          37,
          41,
          54,
          57,
          73,
          60,
          50,
          63,
          45,
          45,
          44,
          25,
          36,
          72,
          39,
          25,
          37,
          23,
          46,
          29,
          28,
          30,
          84,
          60,
          23,
          31,
          14,
          32,
          54,
          22,
          40,
          33,
          57,
          74,
          41,
          53,
          36,
          22,
          29,
          34,
          62,
          30,
          51,
          51,
          21,
          30,
          42,
          57,
          16,
          49,
          38,
          16,
          31,
          50,
          65,
          52,
          36,
          76,
          67,
          50,
          82,
          79,
          26,
          45,
          96,
          36,
          26,
          30,
          38,
          39,
          23,
          42,
          61,
          33,
          56,
          38,
          66,
          25
         ],
         "y0": " ",
         "yaxis": "y"
        }
       ],
       "layout": {
        "autosize": true,
        "boxmode": "group",
        "legend": {
         "tracegroupgap": 0
        },
        "margin": {
         "t": 60
        },
        "template": {
         "data": {
          "bar": [
           {
            "error_x": {
             "color": "#2a3f5f"
            },
            "error_y": {
             "color": "#2a3f5f"
            },
            "marker": {
             "line": {
              "color": "#E5ECF6",
              "width": 0.5
             },
             "pattern": {
              "fillmode": "overlay",
              "size": 10,
              "solidity": 0.2
             }
            },
            "type": "bar"
           }
          ],
          "barpolar": [
           {
            "marker": {
             "line": {
              "color": "#E5ECF6",
              "width": 0.5
             },
             "pattern": {
              "fillmode": "overlay",
              "size": 10,
              "solidity": 0.2
             }
            },
            "type": "barpolar"
           }
          ],
          "carpet": [
           {
            "aaxis": {
             "endlinecolor": "#2a3f5f",
             "gridcolor": "white",
             "linecolor": "white",
             "minorgridcolor": "white",
             "startlinecolor": "#2a3f5f"
            },
            "baxis": {
             "endlinecolor": "#2a3f5f",
             "gridcolor": "white",
             "linecolor": "white",
             "minorgridcolor": "white",
             "startlinecolor": "#2a3f5f"
            },
            "type": "carpet"
           }
          ],
          "choropleth": [
           {
            "colorbar": {
             "outlinewidth": 0,
             "ticks": ""
            },
            "type": "choropleth"
           }
          ],
          "contour": [
           {
            "colorbar": {
             "outlinewidth": 0,
             "ticks": ""
            },
            "colorscale": [
             [
              0,
              "#0d0887"
             ],
             [
              0.1111111111111111,
              "#46039f"
             ],
             [
              0.2222222222222222,
              "#7201a8"
             ],
             [
              0.3333333333333333,
              "#9c179e"
             ],
             [
              0.4444444444444444,
              "#bd3786"
             ],
             [
              0.5555555555555556,
              "#d8576b"
             ],
             [
              0.6666666666666666,
              "#ed7953"
             ],
             [
              0.7777777777777778,
              "#fb9f3a"
             ],
             [
              0.8888888888888888,
              "#fdca26"
             ],
             [
              1,
              "#f0f921"
             ]
            ],
            "type": "contour"
           }
          ],
          "contourcarpet": [
           {
            "colorbar": {
             "outlinewidth": 0,
             "ticks": ""
            },
            "type": "contourcarpet"
           }
          ],
          "heatmap": [
           {
            "colorbar": {
             "outlinewidth": 0,
             "ticks": ""
            },
            "colorscale": [
             [
              0,
              "#0d0887"
             ],
             [
              0.1111111111111111,
              "#46039f"
             ],
             [
              0.2222222222222222,
              "#7201a8"
             ],
             [
              0.3333333333333333,
              "#9c179e"
             ],
             [
              0.4444444444444444,
              "#bd3786"
             ],
             [
              0.5555555555555556,
              "#d8576b"
             ],
             [
              0.6666666666666666,
              "#ed7953"
             ],
             [
              0.7777777777777778,
              "#fb9f3a"
             ],
             [
              0.8888888888888888,
              "#fdca26"
             ],
             [
              1,
              "#f0f921"
             ]
            ],
            "type": "heatmap"
           }
          ],
          "heatmapgl": [
           {
            "colorbar": {
             "outlinewidth": 0,
             "ticks": ""
            },
            "colorscale": [
             [
              0,
              "#0d0887"
             ],
             [
              0.1111111111111111,
              "#46039f"
             ],
             [
              0.2222222222222222,
              "#7201a8"
             ],
             [
              0.3333333333333333,
              "#9c179e"
             ],
             [
              0.4444444444444444,
              "#bd3786"
             ],
             [
              0.5555555555555556,
              "#d8576b"
             ],
             [
              0.6666666666666666,
              "#ed7953"
             ],
             [
              0.7777777777777778,
              "#fb9f3a"
             ],
             [
              0.8888888888888888,
              "#fdca26"
             ],
             [
              1,
              "#f0f921"
             ]
            ],
            "type": "heatmapgl"
           }
          ],
          "histogram": [
           {
            "marker": {
             "pattern": {
              "fillmode": "overlay",
              "size": 10,
              "solidity": 0.2
             }
            },
            "type": "histogram"
           }
          ],
          "histogram2d": [
           {
            "colorbar": {
             "outlinewidth": 0,
             "ticks": ""
            },
            "colorscale": [
             [
              0,
              "#0d0887"
             ],
             [
              0.1111111111111111,
              "#46039f"
             ],
             [
              0.2222222222222222,
              "#7201a8"
             ],
             [
              0.3333333333333333,
              "#9c179e"
             ],
             [
              0.4444444444444444,
              "#bd3786"
             ],
             [
              0.5555555555555556,
              "#d8576b"
             ],
             [
              0.6666666666666666,
              "#ed7953"
             ],
             [
              0.7777777777777778,
              "#fb9f3a"
             ],
             [
              0.8888888888888888,
              "#fdca26"
             ],
             [
              1,
              "#f0f921"
             ]
            ],
            "type": "histogram2d"
           }
          ],
          "histogram2dcontour": [
           {
            "colorbar": {
             "outlinewidth": 0,
             "ticks": ""
            },
            "colorscale": [
             [
              0,
              "#0d0887"
             ],
             [
              0.1111111111111111,
              "#46039f"
             ],
             [
              0.2222222222222222,
              "#7201a8"
             ],
             [
              0.3333333333333333,
              "#9c179e"
             ],
             [
              0.4444444444444444,
              "#bd3786"
             ],
             [
              0.5555555555555556,
              "#d8576b"
             ],
             [
              0.6666666666666666,
              "#ed7953"
             ],
             [
              0.7777777777777778,
              "#fb9f3a"
             ],
             [
              0.8888888888888888,
              "#fdca26"
             ],
             [
              1,
              "#f0f921"
             ]
            ],
            "type": "histogram2dcontour"
           }
          ],
          "mesh3d": [
           {
            "colorbar": {
             "outlinewidth": 0,
             "ticks": ""
            },
            "type": "mesh3d"
           }
          ],
          "parcoords": [
           {
            "line": {
             "colorbar": {
              "outlinewidth": 0,
              "ticks": ""
             }
            },
            "type": "parcoords"
           }
          ],
          "pie": [
           {
            "automargin": true,
            "type": "pie"
           }
          ],
          "scatter": [
           {
            "fillpattern": {
             "fillmode": "overlay",
             "size": 10,
             "solidity": 0.2
            },
            "type": "scatter"
           }
          ],
          "scatter3d": [
           {
            "line": {
             "colorbar": {
              "outlinewidth": 0,
              "ticks": ""
             }
            },
            "marker": {
             "colorbar": {
              "outlinewidth": 0,
              "ticks": ""
             }
            },
            "type": "scatter3d"
           }
          ],
          "scattercarpet": [
           {
            "marker": {
             "colorbar": {
              "outlinewidth": 0,
              "ticks": ""
             }
            },
            "type": "scattercarpet"
           }
          ],
          "scattergeo": [
           {
            "marker": {
             "colorbar": {
              "outlinewidth": 0,
              "ticks": ""
             }
            },
            "type": "scattergeo"
           }
          ],
          "scattergl": [
           {
            "marker": {
             "colorbar": {
              "outlinewidth": 0,
              "ticks": ""
             }
            },
            "type": "scattergl"
           }
          ],
          "scattermapbox": [
           {
            "marker": {
             "colorbar": {
              "outlinewidth": 0,
              "ticks": ""
             }
            },
            "type": "scattermapbox"
           }
          ],
          "scatterpolar": [
           {
            "marker": {
             "colorbar": {
              "outlinewidth": 0,
              "ticks": ""
             }
            },
            "type": "scatterpolar"
           }
          ],
          "scatterpolargl": [
           {
            "marker": {
             "colorbar": {
              "outlinewidth": 0,
              "ticks": ""
             }
            },
            "type": "scatterpolargl"
           }
          ],
          "scatterternary": [
           {
            "marker": {
             "colorbar": {
              "outlinewidth": 0,
              "ticks": ""
             }
            },
            "type": "scatterternary"
           }
          ],
          "surface": [
           {
            "colorbar": {
             "outlinewidth": 0,
             "ticks": ""
            },
            "colorscale": [
             [
              0,
              "#0d0887"
             ],
             [
              0.1111111111111111,
              "#46039f"
             ],
             [
              0.2222222222222222,
              "#7201a8"
             ],
             [
              0.3333333333333333,
              "#9c179e"
             ],
             [
              0.4444444444444444,
              "#bd3786"
             ],
             [
              0.5555555555555556,
              "#d8576b"
             ],
             [
              0.6666666666666666,
              "#ed7953"
             ],
             [
              0.7777777777777778,
              "#fb9f3a"
             ],
             [
              0.8888888888888888,
              "#fdca26"
             ],
             [
              1,
              "#f0f921"
             ]
            ],
            "type": "surface"
           }
          ],
          "table": [
           {
            "cells": {
             "fill": {
              "color": "#EBF0F8"
             },
             "line": {
              "color": "white"
             }
            },
            "header": {
             "fill": {
              "color": "#C8D4E3"
             },
             "line": {
              "color": "white"
             }
            },
            "type": "table"
           }
          ]
         },
         "layout": {
          "annotationdefaults": {
           "arrowcolor": "#2a3f5f",
           "arrowhead": 0,
           "arrowwidth": 1
          },
          "autotypenumbers": "strict",
          "coloraxis": {
           "colorbar": {
            "outlinewidth": 0,
            "ticks": ""
           }
          },
          "colorscale": {
           "diverging": [
            [
             0,
             "#8e0152"
            ],
            [
             0.1,
             "#c51b7d"
            ],
            [
             0.2,
             "#de77ae"
            ],
            [
             0.3,
             "#f1b6da"
            ],
            [
             0.4,
             "#fde0ef"
            ],
            [
             0.5,
             "#f7f7f7"
            ],
            [
             0.6,
             "#e6f5d0"
            ],
            [
             0.7,
             "#b8e186"
            ],
            [
             0.8,
             "#7fbc41"
            ],
            [
             0.9,
             "#4d9221"
            ],
            [
             1,
             "#276419"
            ]
           ],
           "sequential": [
            [
             0,
             "#0d0887"
            ],
            [
             0.1111111111111111,
             "#46039f"
            ],
            [
             0.2222222222222222,
             "#7201a8"
            ],
            [
             0.3333333333333333,
             "#9c179e"
            ],
            [
             0.4444444444444444,
             "#bd3786"
            ],
            [
             0.5555555555555556,
             "#d8576b"
            ],
            [
             0.6666666666666666,
             "#ed7953"
            ],
            [
             0.7777777777777778,
             "#fb9f3a"
            ],
            [
             0.8888888888888888,
             "#fdca26"
            ],
            [
             1,
             "#f0f921"
            ]
           ],
           "sequentialminus": [
            [
             0,
             "#0d0887"
            ],
            [
             0.1111111111111111,
             "#46039f"
            ],
            [
             0.2222222222222222,
             "#7201a8"
            ],
            [
             0.3333333333333333,
             "#9c179e"
            ],
            [
             0.4444444444444444,
             "#bd3786"
            ],
            [
             0.5555555555555556,
             "#d8576b"
            ],
            [
             0.6666666666666666,
             "#ed7953"
            ],
            [
             0.7777777777777778,
             "#fb9f3a"
            ],
            [
             0.8888888888888888,
             "#fdca26"
            ],
            [
             1,
             "#f0f921"
            ]
           ]
          },
          "colorway": [
           "#636efa",
           "#EF553B",
           "#00cc96",
           "#ab63fa",
           "#FFA15A",
           "#19d3f3",
           "#FF6692",
           "#B6E880",
           "#FF97FF",
           "#FECB52"
          ],
          "font": {
           "color": "#2a3f5f"
          },
          "geo": {
           "bgcolor": "white",
           "lakecolor": "white",
           "landcolor": "#E5ECF6",
           "showlakes": true,
           "showland": true,
           "subunitcolor": "white"
          },
          "hoverlabel": {
           "align": "left"
          },
          "hovermode": "closest",
          "mapbox": {
           "style": "light"
          },
          "paper_bgcolor": "white",
          "plot_bgcolor": "#E5ECF6",
          "polar": {
           "angularaxis": {
            "gridcolor": "white",
            "linecolor": "white",
            "ticks": ""
           },
           "bgcolor": "#E5ECF6",
           "radialaxis": {
            "gridcolor": "white",
            "linecolor": "white",
            "ticks": ""
           }
          },
          "scene": {
           "xaxis": {
            "backgroundcolor": "#E5ECF6",
            "gridcolor": "white",
            "gridwidth": 2,
            "linecolor": "white",
            "showbackground": true,
            "ticks": "",
            "zerolinecolor": "white"
           },
           "yaxis": {
            "backgroundcolor": "#E5ECF6",
            "gridcolor": "white",
            "gridwidth": 2,
            "linecolor": "white",
            "showbackground": true,
            "ticks": "",
            "zerolinecolor": "white"
           },
           "zaxis": {
            "backgroundcolor": "#E5ECF6",
            "gridcolor": "white",
            "gridwidth": 2,
            "linecolor": "white",
            "showbackground": true,
            "ticks": "",
            "zerolinecolor": "white"
           }
          },
          "shapedefaults": {
           "line": {
            "color": "#2a3f5f"
           }
          },
          "ternary": {
           "aaxis": {
            "gridcolor": "white",
            "linecolor": "white",
            "ticks": ""
           },
           "baxis": {
            "gridcolor": "white",
            "linecolor": "white",
            "ticks": ""
           },
           "bgcolor": "#E5ECF6",
           "caxis": {
            "gridcolor": "white",
            "linecolor": "white",
            "ticks": ""
           }
          },
          "title": {
           "x": 0.05
          },
          "xaxis": {
           "automargin": true,
           "gridcolor": "white",
           "linecolor": "white",
           "ticks": "",
           "title": {
            "standoff": 15
           },
           "zerolinecolor": "white",
           "zerolinewidth": 2
          },
          "yaxis": {
           "automargin": true,
           "gridcolor": "white",
           "linecolor": "white",
           "ticks": "",
           "title": {
            "standoff": 15
           },
           "zerolinecolor": "white",
           "zerolinewidth": 2
          }
         }
        },
        "xaxis": {
         "anchor": "y",
         "autorange": true,
         "domain": [
          0,
          1
         ],
         "range": [
          -0.5,
          0.5
         ],
         "type": "category"
        },
        "yaxis": {
         "anchor": "x",
         "autorange": true,
         "domain": [
          0,
          1
         ],
         "range": [
          5.722222222222222,
          131.27777777777777
         ],
         "title": {
          "text": "y"
         },
         "type": "linear"
        }
       }
      },
      "image/png": "[encoded data removed]",
      "text/html": [
       "<div>                            <div id=\"160e7b12-3f79-4a18-8dbc-d8709afbf0d8\" class=\"plotly-graph-div\" style=\"height:525px; width:100%;\"></div>            <script type=\"text/javascript\">                require([\"plotly\"], function(Plotly) {                    window.PLOTLYENV=window.PLOTLYENV || {};                                    if (document.getElementById(\"160e7b12-3f79-4a18-8dbc-d8709afbf0d8\")) {                    Plotly.newPlot(                        \"160e7b12-3f79-4a18-8dbc-d8709afbf0d8\",                        [{\"alignmentgroup\":\"True\",\"hovertemplate\":\"y=%{y}\\u003cextra\\u003e\\u003c\\u002fextra\\u003e\",\"legendgroup\":\"\",\"marker\":{\"color\":\"#636efa\"},\"name\":\"\",\"notched\":false,\"offsetgroup\":\"\",\"orientation\":\"v\",\"showlegend\":false,\"x0\":\" \",\"xaxis\":\"x\",\"y\":[57,52,57,45,49,53,25,19,58,56,47,41,30,25,40,68,58,51,42,54,28,19,30,40,57,48,55,61,64,36,43,51,23,28,63,24,62,69,19,49,22,43,90,26,24,70,30,27,31,51,36,47,12,59,34,50,41,25,20,58,14,31,41,63,33,41,36,48,62,45,50,70,45,56,62,31,56,58,52,48,28,15,36,30,62,48,65,77,57,45,46,61,34,53,47,52,54,36,41,31,53,81,32,27,57,23,58,58,48,30,21,22,27,68,82,35,42,27,36,45,66,33,75,60,33,41,32,30,60,45,57,45,27,16,26,37,62,64,50,55,29,27,29,56,35,53,55,52,29,54,49,27,42,31,59,45,34,53,19,57,49,26,37,35,35,73,27,34,53,37,49,58,29,86,31,56,44,58,30,72,65,79,53,34,54,22,13,22,36,54,67,78,44,63,78,24,25,30,40,49,56,37,25,68,18,42,77,72,37,24,84,76,41,31,62,48,48,53,29,45,42,57,30,42,30,75,54,51,34,59,24,55,33,75,28,54,47,66,78,40,51,24,43,63,69,89,29,66,21,62,39,21,35,34,61,23,44,27,58,31,57,51,25,39,38,38,40,42,55,50,70,34,64,41,27,73,28,36,37,33,27,40,52,36,62,29,39,71,39,88,25,49,36,54,53,40,38,68,63,46,22,43,65,28,53,25,20,51,57,33,22,43,46,34,41,45,33,30,38,83,56,36,81,38,46,19,63,70,30,41,64,29,34,67,22,79,78,68,20,34,64,39,56,29,26,31,65,29,67,68,16,58,50,36,36,24,125,20,65,49,48,61,32,54,60,29,28,51,37,36,45,27,45,30,30,28,29,28,57,29,57,38,21,34,20,57,60,31,75,58,60,40,32,61,36,25,61,99,37,62,61,51,57,27,50,23,53,58,20,41,31,53,33,52,29,52,37,33,32,35,73,32,37,41,54,57,73,60,50,63,45,45,44,25,36,72,39,25,37,23,46,29,28,30,84,60,23,31,14,32,54,22,40,33,57,74,41,53,36,22,29,34,62,30,51,51,21,30,42,57,16,49,38,16,31,50,65,52,36,76,67,50,82,79,26,45,96,36,26,30,38,39,23,42,61,33,56,38,66,25],\"y0\":\" \",\"yaxis\":\"y\",\"type\":\"box\"}],                        {\"template\":{\"data\":{\"histogram2dcontour\":[{\"type\":\"histogram2dcontour\",\"colorbar\":{\"outlinewidth\":0,\"ticks\":\"\"},\"colorscale\":[[0.0,\"#0d0887\"],[0.1111111111111111,\"#46039f\"],[0.2222222222222222,\"#7201a8\"],[0.3333333333333333,\"#9c179e\"],[0.4444444444444444,\"#bd3786\"],[0.5555555555555556,\"#d8576b\"],[0.6666666666666666,\"#ed7953\"],[0.7777777777777778,\"#fb9f3a\"],[0.8888888888888888,\"#fdca26\"],[1.0,\"#f0f921\"]]}],\"choropleth\":[{\"type\":\"choropleth\",\"colorbar\":{\"outlinewidth\":0,\"ticks\":\"\"}}],\"histogram2d\":[{\"type\":\"histogram2d\",\"colorbar\":{\"outlinewidth\":0,\"ticks\":\"\"},\"colorscale\":[[0.0,\"#0d0887\"],[0.1111111111111111,\"#46039f\"],[0.2222222222222222,\"#7201a8\"],[0.3333333333333333,\"#9c179e\"],[0.4444444444444444,\"#bd3786\"],[0.5555555555555556,\"#d8576b\"],[0.6666666666666666,\"#ed7953\"],[0.7777777777777778,\"#fb9f3a\"],[0.8888888888888888,\"#fdca26\"],[1.0,\"#f0f921\"]]}],\"heatmap\":[{\"type\":\"heatmap\",\"colorbar\":{\"outlinewidth\":0,\"ticks\":\"\"},\"colorscale\":[[0.0,\"#0d0887\"],[0.1111111111111111,\"#46039f\"],[0.2222222222222222,\"#7201a8\"],[0.3333333333333333,\"#9c179e\"],[0.4444444444444444,\"#bd3786\"],[0.5555555555555556,\"#d8576b\"],[0.6666666666666666,\"#ed7953\"],[0.7777777777777778,\"#fb9f3a\"],[0.8888888888888888,\"#fdca26\"],[1.0,\"#f0f921\"]]}],\"heatmapgl\":[{\"type\":\"heatmapgl\",\"colorbar\":{\"outlinewidth\":0,\"ticks\":\"\"},\"colorscale\":[[0.0,\"#0d0887\"],[0.1111111111111111,\"#46039f\"],[0.2222222222222222,\"#7201a8\"],[0.3333333333333333,\"#9c179e\"],[0.4444444444444444,\"#bd3786\"],[0.5555555555555556,\"#d8576b\"],[0.6666666666666666,\"#ed7953\"],[0.7777777777777778,\"#fb9f3a\"],[0.8888888888888888,\"#fdca26\"],[1.0,\"#f0f921\"]]}],\"contourcarpet\":[{\"type\":\"contourcarpet\",\"colorbar\":{\"outlinewidth\":0,\"ticks\":\"\"}}],\"contour\":[{\"type\":\"contour\",\"colorbar\":{\"outlinewidth\":0,\"ticks\":\"\"},\"colorscale\":[[0.0,\"#0d0887\"],[0.1111111111111111,\"#46039f\"],[0.2222222222222222,\"#7201a8\"],[0.3333333333333333,\"#9c179e\"],[0.4444444444444444,\"#bd3786\"],[0.5555555555555556,\"#d8576b\"],[0.6666666666666666,\"#ed7953\"],[0.7777777777777778,\"#fb9f3a\"],[0.8888888888888888,\"#fdca26\"],[1.0,\"#f0f921\"]]}],\"surface\":[{\"type\":\"surface\",\"colorbar\":{\"outlinewidth\":0,\"ticks\":\"\"},\"colorscale\":[[0.0,\"#0d0887\"],[0.1111111111111111,\"#46039f\"],[0.2222222222222222,\"#7201a8\"],[0.3333333333333333,\"#9c179e\"],[0.4444444444444444,\"#bd3786\"],[0.5555555555555556,\"#d8576b\"],[0.6666666666666666,\"#ed7953\"],[0.7777777777777778,\"#fb9f3a\"],[0.8888888888888888,\"#fdca26\"],[1.0,\"#f0f921\"]]}],\"mesh3d\":[{\"type\":\"mesh3d\",\"colorbar\":{\"outlinewidth\":0,\"ticks\":\"\"}}],\"scatter\":[{\"fillpattern\":{\"fillmode\":\"overlay\",\"size\":10,\"solidity\":0.2},\"type\":\"scatter\"}],\"parcoords\":[{\"type\":\"parcoords\",\"line\":{\"colorbar\":{\"outlinewidth\":0,\"ticks\":\"\"}}}],\"scatterpolargl\":[{\"type\":\"scatterpolargl\",\"marker\":{\"colorbar\":{\"outlinewidth\":0,\"ticks\":\"\"}}}],\"bar\":[{\"error_x\":{\"color\":\"#2a3f5f\"},\"error_y\":{\"color\":\"#2a3f5f\"},\"marker\":{\"line\":{\"color\":\"#E5ECF6\",\"width\":0.5},\"pattern\":{\"fillmode\":\"overlay\",\"size\":10,\"solidity\":0.2}},\"type\":\"bar\"}],\"scattergeo\":[{\"type\":\"scattergeo\",\"marker\":{\"colorbar\":{\"outlinewidth\":0,\"ticks\":\"\"}}}],\"scatterpolar\":[{\"type\":\"scatterpolar\",\"marker\":{\"colorbar\":{\"outlinewidth\":0,\"ticks\":\"\"}}}],\"histogram\":[{\"marker\":{\"pattern\":{\"fillmode\":\"overlay\",\"size\":10,\"solidity\":0.2}},\"type\":\"histogram\"}],\"scattergl\":[{\"type\":\"scattergl\",\"marker\":{\"colorbar\":{\"outlinewidth\":0,\"ticks\":\"\"}}}],\"scatter3d\":[{\"type\":\"scatter3d\",\"line\":{\"colorbar\":{\"outlinewidth\":0,\"ticks\":\"\"}},\"marker\":{\"colorbar\":{\"outlinewidth\":0,\"ticks\":\"\"}}}],\"scattermapbox\":[{\"type\":\"scattermapbox\",\"marker\":{\"colorbar\":{\"outlinewidth\":0,\"ticks\":\"\"}}}],\"scatterternary\":[{\"type\":\"scatterternary\",\"marker\":{\"colorbar\":{\"outlinewidth\":0,\"ticks\":\"\"}}}],\"scattercarpet\":[{\"type\":\"scattercarpet\",\"marker\":{\"colorbar\":{\"outlinewidth\":0,\"ticks\":\"\"}}}],\"carpet\":[{\"aaxis\":{\"endlinecolor\":\"#2a3f5f\",\"gridcolor\":\"white\",\"linecolor\":\"white\",\"minorgridcolor\":\"white\",\"startlinecolor\":\"#2a3f5f\"},\"baxis\":{\"endlinecolor\":\"#2a3f5f\",\"gridcolor\":\"white\",\"linecolor\":\"white\",\"minorgridcolor\":\"white\",\"startlinecolor\":\"#2a3f5f\"},\"type\":\"carpet\"}],\"table\":[{\"cells\":{\"fill\":{\"color\":\"#EBF0F8\"},\"line\":{\"color\":\"white\"}},\"header\":{\"fill\":{\"color\":\"#C8D4E3\"},\"line\":{\"color\":\"white\"}},\"type\":\"table\"}],\"barpolar\":[{\"marker\":{\"line\":{\"color\":\"#E5ECF6\",\"width\":0.5},\"pattern\":{\"fillmode\":\"overlay\",\"size\":10,\"solidity\":0.2}},\"type\":\"barpolar\"}],\"pie\":[{\"automargin\":true,\"type\":\"pie\"}]},\"layout\":{\"autotypenumbers\":\"strict\",\"colorway\":[\"#636efa\",\"#EF553B\",\"#00cc96\",\"#ab63fa\",\"#FFA15A\",\"#19d3f3\",\"#FF6692\",\"#B6E880\",\"#FF97FF\",\"#FECB52\"],\"font\":{\"color\":\"#2a3f5f\"},\"hovermode\":\"closest\",\"hoverlabel\":{\"align\":\"left\"},\"paper_bgcolor\":\"white\",\"plot_bgcolor\":\"#E5ECF6\",\"polar\":{\"bgcolor\":\"#E5ECF6\",\"angularaxis\":{\"gridcolor\":\"white\",\"linecolor\":\"white\",\"ticks\":\"\"},\"radialaxis\":{\"gridcolor\":\"white\",\"linecolor\":\"white\",\"ticks\":\"\"}},\"ternary\":{\"bgcolor\":\"#E5ECF6\",\"aaxis\":{\"gridcolor\":\"white\",\"linecolor\":\"white\",\"ticks\":\"\"},\"baxis\":{\"gridcolor\":\"white\",\"linecolor\":\"white\",\"ticks\":\"\"},\"caxis\":{\"gridcolor\":\"white\",\"linecolor\":\"white\",\"ticks\":\"\"}},\"coloraxis\":{\"colorbar\":{\"outlinewidth\":0,\"ticks\":\"\"}},\"colorscale\":{\"sequential\":[[0.0,\"#0d0887\"],[0.1111111111111111,\"#46039f\"],[0.2222222222222222,\"#7201a8\"],[0.3333333333333333,\"#9c179e\"],[0.4444444444444444,\"#bd3786\"],[0.5555555555555556,\"#d8576b\"],[0.6666666666666666,\"#ed7953\"],[0.7777777777777778,\"#fb9f3a\"],[0.8888888888888888,\"#fdca26\"],[1.0,\"#f0f921\"]],\"sequentialminus\":[[0.0,\"#0d0887\"],[0.1111111111111111,\"#46039f\"],[0.2222222222222222,\"#7201a8\"],[0.3333333333333333,\"#9c179e\"],[0.4444444444444444,\"#bd3786\"],[0.5555555555555556,\"#d8576b\"],[0.6666666666666666,\"#ed7953\"],[0.7777777777777778,\"#fb9f3a\"],[0.8888888888888888,\"#fdca26\"],[1.0,\"#f0f921\"]],\"diverging\":[[0,\"#8e0152\"],[0.1,\"#c51b7d\"],[0.2,\"#de77ae\"],[0.3,\"#f1b6da\"],[0.4,\"#fde0ef\"],[0.5,\"#f7f7f7\"],[0.6,\"#e6f5d0\"],[0.7,\"#b8e186\"],[0.8,\"#7fbc41\"],[0.9,\"#4d9221\"],[1,\"#276419\"]]},\"xaxis\":{\"gridcolor\":\"white\",\"linecolor\":\"white\",\"ticks\":\"\",\"title\":{\"standoff\":15},\"zerolinecolor\":\"white\",\"automargin\":true,\"zerolinewidth\":2},\"yaxis\":{\"gridcolor\":\"white\",\"linecolor\":\"white\",\"ticks\":\"\",\"title\":{\"standoff\":15},\"zerolinecolor\":\"white\",\"automargin\":true,\"zerolinewidth\":2},\"scene\":{\"xaxis\":{\"backgroundcolor\":\"#E5ECF6\",\"gridcolor\":\"white\",\"linecolor\":\"white\",\"showbackground\":true,\"ticks\":\"\",\"zerolinecolor\":\"white\",\"gridwidth\":2},\"yaxis\":{\"backgroundcolor\":\"#E5ECF6\",\"gridcolor\":\"white\",\"linecolor\":\"white\",\"showbackground\":true,\"ticks\":\"\",\"zerolinecolor\":\"white\",\"gridwidth\":2},\"zaxis\":{\"backgroundcolor\":\"#E5ECF6\",\"gridcolor\":\"white\",\"linecolor\":\"white\",\"showbackground\":true,\"ticks\":\"\",\"zerolinecolor\":\"white\",\"gridwidth\":2}},\"shapedefaults\":{\"line\":{\"color\":\"#2a3f5f\"}},\"annotationdefaults\":{\"arrowcolor\":\"#2a3f5f\",\"arrowhead\":0,\"arrowwidth\":1},\"geo\":{\"bgcolor\":\"white\",\"landcolor\":\"#E5ECF6\",\"subunitcolor\":\"white\",\"showland\":true,\"showlakes\":true,\"lakecolor\":\"white\"},\"title\":{\"x\":0.05},\"mapbox\":{\"style\":\"light\"}}},\"xaxis\":{\"anchor\":\"y\",\"domain\":[0.0,1.0]},\"yaxis\":{\"anchor\":\"x\",\"domain\":[0.0,1.0],\"title\":{\"text\":\"y\"}},\"legend\":{\"tracegroupgap\":0},\"margin\":{\"t\":60},\"boxmode\":\"group\"},                        {\"responsive\": true}                    ).then(function(){\n",
       "                            \n",
       "var gd = document.getElementById('160e7b12-3f79-4a18-8dbc-d8709afbf0d8');\n",
       "var x = new MutationObserver(function (mutations, observer) {{\n",
       "        var display = window.getComputedStyle(gd).display;\n",
       "        if (!display || display === 'none') {{\n",
       "            console.log([gd, 'removed!']);\n",
       "            Plotly.purge(gd);\n",
       "            observer.disconnect();\n",
       "        }}\n",
       "}});\n",
       "\n",
       "// Listen for the removal of the full notebook cells\n",
       "var notebookContainer = gd.closest('#notebook-container');\n",
       "if (notebookContainer) {{\n",
       "    x.observe(notebookContainer, {childList: true});\n",
       "}}\n",
       "\n",
       "// Listen for the clearing of the current output cell\n",
       "var outputEl = gd.closest('.output');\n",
       "if (outputEl) {{\n",
       "    x.observe(outputEl, {childList: true});\n",
       "}}\n",
       "\n",
       "                        })                };                });            </script>        </div>"
      ]
     },
     "metadata": {},
     "output_type": "display_data"
    }
   ],
   "source": [
    "# icu[\"SAPS II\"].plot.box()\n",
    "# plt.boxplot(icu[\"SAPS II\"])\n",
    "# sns.boxplot(icu[\"SAPS II\"])\n",
    "px.box(y=icu[\"SAPS II\"])"
   ]
  },
  {
   "cell_type": "markdown",
   "id": "7b350495-756c-4685-864a-c4b8efeff001",
   "metadata": {},
   "source": [
    "#### Örnek 1 : \n",
    "Tekrar 2, 4, 6, ... , 20 dizisini ele alalım ve medyan ve üçüncü çeyreklik ile %90 ve %95'lik çeyreklikleri hesaplayalım."
   ]
  },
  {
   "cell_type": "markdown",
   "id": "6deb6fb5-df57-4736-ab6e-4cad6002e46c",
   "metadata": {},
   "source": [
    "#### Örnek 2 :\n",
    "Yukarıdaki örnekte en büyük değer 200 yapılırsa sonuçlar nasıl etkilenir? Yorumlayınız?"
   ]
  },
  {
   "cell_type": "markdown",
   "id": "1066164f-0c0a-46c6-acf3-24e8e5d29f4a",
   "metadata": {},
   "source": [
    "**Verilerin dağılımını görselleştirmek için bir başka seçenek de ampirik kümülatif dağılım fonksiyonudur.**"
   ]
  },
  {
   "cell_type": "code",
   "execution_count": 25,
   "id": "a5d415c6-46c8-4a67-aae6-6e1ceaaf16b4",
   "metadata": {},
   "outputs": [
    {
     "data": {
      "text/plain": [
       "<Axes: xlabel='age', ylabel='Proportion'>"
      ]
     },
     "execution_count": 25,
     "metadata": {},
     "output_type": "execute_result"
    },
    {
     "data": {
      "image/png": "[encoded data removed]",
      "text/plain": [
       "<Figure size 640x480 with 1 Axes>"
      ]
     },
     "metadata": {},
     "output_type": "display_data"
    }
   ],
   "source": [
    "import seaborn as sns\n",
    "\n",
    "sns.ecdfplot(data=icu, x=\"age\")"
   ]
  },
  {
   "cell_type": "markdown",
   "id": "265d2be9-4d83-4ba3-b669-291cc3e7972a",
   "metadata": {},
   "source": [
    "Tanıma olarak, ampirik kümülatif dağılım fonksiyonu, yukarıdan sürekli olan monoton artan bir adım fonksiyonudur."
   ]
  },
  {
   "cell_type": "markdown",
   "id": "108d893a-6079-4cce-8c8a-ed499d51b9d9",
   "metadata": {},
   "source": [
    "### Bivariate (İki Değişkenli) Analiz"
   ]
  },
  {
   "cell_type": "markdown",
   "id": "dc98451d-a3a8-425d-a5d4-e70fcd11b4f9",
   "metadata": {},
   "source": [
    "Değişken çiftleri arasındaki ilişkiyi araştırma işlemidir. Nominal değişkenlerle yapılması durumunda, , tüm olası seviye kombinasyonlarının mutlak veya göreceli frekanslarının hesaplanması ve çizilmesinden oluşur. Bu, olasılık tablosu veya çapraz tablo olarak adlandırılan bir tabloya yol açar. YBÜ veri setinin cinsiyet ve ameliyat değişkenlerini analiz edelim. "
   ]
  },
  {
   "cell_type": "code",
   "execution_count": 15,
   "id": "a8109c63-114b-4f88-995d-a3635b58fbad",
   "metadata": {},
   "outputs": [
    {
     "data": {
      "text/html": [
       "<div>\n",
       "<style scoped>\n",
       "    .dataframe tbody tr th:only-of-type {\n",
       "        vertical-align: middle;\n",
       "    }\n",
       "\n",
       "    .dataframe tbody tr th {\n",
       "        vertical-align: top;\n",
       "    }\n",
       "\n",
       "    .dataframe thead th {\n",
       "        text-align: right;\n",
       "    }\n",
       "</style>\n",
       "<table border=\"1\" class=\"dataframe\">\n",
       "  <thead>\n",
       "    <tr style=\"text-align: right;\">\n",
       "      <th>surgery</th>\n",
       "      <th>cardiothoracic</th>\n",
       "      <th>gastrointestinal</th>\n",
       "      <th>neuro</th>\n",
       "      <th>other</th>\n",
       "      <th>trauma</th>\n",
       "    </tr>\n",
       "    <tr>\n",
       "      <th>sex</th>\n",
       "      <th></th>\n",
       "      <th></th>\n",
       "      <th></th>\n",
       "      <th></th>\n",
       "      <th></th>\n",
       "    </tr>\n",
       "  </thead>\n",
       "  <tbody>\n",
       "    <tr>\n",
       "      <th>female</th>\n",
       "      <td>61</td>\n",
       "      <td>31</td>\n",
       "      <td>19</td>\n",
       "      <td>57</td>\n",
       "      <td>7</td>\n",
       "    </tr>\n",
       "    <tr>\n",
       "      <th>male</th>\n",
       "      <td>162</td>\n",
       "      <td>48</td>\n",
       "      <td>27</td>\n",
       "      <td>64</td>\n",
       "      <td>24</td>\n",
       "    </tr>\n",
       "  </tbody>\n",
       "</table>\n",
       "</div>"
      ],
      "text/plain": [
       "surgery  cardiothoracic  gastrointestinal  neuro  other  trauma\n",
       "sex                                                            \n",
       "female               61                31     19     57       7\n",
       "male                162                48     27     64      24"
      ]
     },
     "execution_count": 15,
     "metadata": {},
     "output_type": "execute_result"
    }
   ],
   "source": [
    "pd.crosstab(icu['sex'], icu['surgery'])"
   ]
  },
  {
   "cell_type": "markdown",
   "id": "dee96913-ff55-4472-9b43-5e6ec014acb1",
   "metadata": {},
   "source": [
    "Göreceli frekanslar ile tablo aşağıdaki gibi gösterebilir."
   ]
  },
  {
   "cell_type": "code",
   "execution_count": 4,
   "id": "994c62a0-5d0a-48f4-b2aa-c3833bf1ec64",
   "metadata": {},
   "outputs": [
    {
     "data": {
      "text/html": [
       "<div>\n",
       "<style scoped>\n",
       "    .dataframe tbody tr th:only-of-type {\n",
       "        vertical-align: middle;\n",
       "    }\n",
       "\n",
       "    .dataframe tbody tr th {\n",
       "        vertical-align: top;\n",
       "    }\n",
       "\n",
       "    .dataframe thead th {\n",
       "        text-align: right;\n",
       "    }\n",
       "</style>\n",
       "<table border=\"1\" class=\"dataframe\">\n",
       "  <thead>\n",
       "    <tr style=\"text-align: right;\">\n",
       "      <th>surgery</th>\n",
       "      <th>cardiothoracic</th>\n",
       "      <th>gastrointestinal</th>\n",
       "      <th>neuro</th>\n",
       "      <th>other</th>\n",
       "      <th>trauma</th>\n",
       "    </tr>\n",
       "    <tr>\n",
       "      <th>sex</th>\n",
       "      <th></th>\n",
       "      <th></th>\n",
       "      <th></th>\n",
       "      <th></th>\n",
       "      <th></th>\n",
       "    </tr>\n",
       "  </thead>\n",
       "  <tbody>\n",
       "    <tr>\n",
       "      <th>female</th>\n",
       "      <td>0.348571</td>\n",
       "      <td>0.177143</td>\n",
       "      <td>0.108571</td>\n",
       "      <td>0.325714</td>\n",
       "      <td>0.040000</td>\n",
       "    </tr>\n",
       "    <tr>\n",
       "      <th>male</th>\n",
       "      <td>0.498462</td>\n",
       "      <td>0.147692</td>\n",
       "      <td>0.083077</td>\n",
       "      <td>0.196923</td>\n",
       "      <td>0.073846</td>\n",
       "    </tr>\n",
       "  </tbody>\n",
       "</table>\n",
       "</div>"
      ],
      "text/plain": [
       "surgery  cardiothoracic  gastrointestinal     neuro     other    trauma\n",
       "sex                                                                    \n",
       "female         0.348571          0.177143  0.108571  0.325714  0.040000\n",
       "male           0.498462          0.147692  0.083077  0.196923  0.073846"
      ]
     },
     "execution_count": 4,
     "metadata": {},
     "output_type": "execute_result"
    }
   ],
   "source": [
    "pd.crosstab(icu['sex'], icu['surgery'], normalize=\"index\")"
   ]
  },
  {
   "cell_type": "markdown",
   "id": "d1982dd5-bfe3-46f7-817f-272bcb181867",
   "metadata": {},
   "source": [
    "İki (veya daha fazla) nominal (veya sıralı) değişken arasındaki ilişkinin gücü, (contingency) olumsallık katsayıları olarak adlandırılan katsayılarla belirlenebilir."
   ]
  },
  {
   "cell_type": "markdown",
   "id": "a6316208-ebf2-43ac-9e28-a9f14e8976d4",
   "metadata": {},
   "source": [
    "**χ² testi** :Ki-kare (χ²) istatistiği, iki kategorik değişken arasında anlamlı bir ilişki olup olmadığını incelemek için kullanılan istatistiksel bir testtir.\n",
    "\n",
    "![image](figure4.png)\n",
    "\n",
    "- Oij: (i, j) hücresinde gözlemlenen frekanstır.\n",
    "- Eij: herhangi bir ilişki olmadığı varsayımı altında hesaplanan (i, j) hücresindeki beklenen frekanstır.\n",
    "\n",
    "χ²'ye dayanarak aşağıdaki contingency katsayıları elde edilir.\n",
    "\n",
    "![image](figure5.png)\n",
    "\n",
    "- Uygulamada, hesaplanan contingency katsayısının mümkün olan maksimum değerinin farkında olmak önemlidir. Ayrıca, contingency katsayılarının açık bir dezavantajı, yalnızca bir ilişkinin gücünü ölçmeleri, ancak bir ilişkinin yönünü belirleyememeleridir; bu, örneğin sıralı nitelikler söz konusu olduğunda ilgi çekicidir.\n",
    "- φ katsayısı [0; 1] aralığında değerler alır, burada 1 yalnızca belirli koşullar altında mümkündür. Eğer sonuç 0 ise, iki özellik bağımsızdır.\n",
    "- Pearson'ın olumsallık katsayısının aralığı ![image](figure6.png) şeklindedir. 0 araştırılan özelliklerin bağımsızlığını gösterir.\n",
    "- Cramér'in V'si [0; 1] aralığında değerler alır ve burada yine 0 bağımsızlığı temsil eder. 𝑉 ≤ 0,3 ise zayıf bağımlılıktan, 0,3 < 𝑉 ≤ 0,7 ise orta derecede bağımlılıktan ve 𝑉 > 0,7 ise güçlü bağımlılıktan bahsedilir."
   ]
  },
  {
   "cell_type": "code",
   "execution_count": 7,
   "id": "4199ecfb-92c3-4096-b89a-c8608db03fbf",
   "metadata": {},
   "outputs": [
    {
     "data": {
      "text/plain": [
       "Chi2ContingencyResult(statistic=17.056556195174373, pvalue=0.0018846482532295353, dof=4, expected_freq=array([[ 78.05,  27.65,  16.1 ,  42.35,  10.85],\n",
       "       [144.95,  51.35,  29.9 ,  78.65,  20.15]]))"
      ]
     },
     "execution_count": 7,
     "metadata": {},
     "output_type": "execute_result"
    }
   ],
   "source": [
    "from scipy.stats import chi2_contingency\n",
    "chi2_contingency(pd.crosstab(icu['sex'], icu['surgery']).values)"
   ]
  },
  {
   "cell_type": "code",
   "execution_count": 18,
   "id": "986a644e-5581-4a29-9113-1b8674375766",
   "metadata": {},
   "outputs": [
    {
     "data": {
      "text/plain": [
       "0.18162542772960075"
      ]
     },
     "execution_count": 18,
     "metadata": {},
     "output_type": "execute_result"
    }
   ],
   "source": [
    "import math\n",
    "chi2_stat, p_value, _, _ = chi2_contingency(pd.crosstab(icu['sex'], icu['surgery']))\n",
    "contingency_coefficient = math.sqrt(chi2_stat / (chi2_stat + len(icu)))\n",
    "contingency_coefficient"
   ]
  },
  {
   "cell_type": "code",
   "execution_count": 10,
   "id": "9ab8ad2e-39bf-4330-85b3-ee99562b7d4c",
   "metadata": {},
   "outputs": [
    {
     "data": {
      "text/plain": [
       "0.1846973535012041"
      ]
     },
     "execution_count": 10,
     "metadata": {},
     "output_type": "execute_result"
    }
   ],
   "source": [
    "import numpy as np\n",
    "data = pd.crosstab(icu['sex'], icu['surgery']).values\n",
    "\n",
    "X2 = chi2_contingency(data, correction=False)[0] \n",
    "N = np.sum(data) \n",
    "minimum_dimension = min(data.shape)-1\n",
    "np.sqrt((X2 / (N * minimum_dimension))) "
   ]
  },
  {
   "cell_type": "code",
   "execution_count": null,
   "id": "be5dd1e3-3288-4767-a55f-9b8ec711caf6",
   "metadata": {},
   "outputs": [],
   "source": []
  },
  {
   "cell_type": "code",
   "execution_count": 30,
   "id": "0752a1de-2a76-417d-a492-84b812f92b26",
   "metadata": {
    "scrolled": true
   },
   "outputs": [
    {
     "data": {
      "text/plain": [
       "<Axes: xlabel='surgery', ylabel='value'>"
      ]
     },
     "execution_count": 30,
     "metadata": {},
     "output_type": "execute_result"
    },
    {
     "data": {
      "image/png": "[encoded data removed]",
      "text/plain": [
       "<Figure size 640x480 with 1 Axes>"
      ]
     },
     "metadata": {},
     "output_type": "display_data"
    }
   ],
   "source": [
    "import seaborn as sns\n",
    "cross_df = pd.crosstab(icu['sex'], icu['surgery'], normalize=\"index\").T\n",
    "# cross_df.plot.bar()\n",
    "# cross_df.plot.bar(stacked=True)\n",
    "\n",
    "stacked = cross_df.stack().reset_index().rename(columns={0:'value'})\n",
    "sns.barplot(x=stacked.surgery, y=stacked.value, hue=stacked.sex)\n",
    "\n"
   ]
  },
  {
   "cell_type": "markdown",
   "id": "8a13da9e-8d5f-4c2c-b867-cb958abe19e8",
   "metadata": {},
   "source": [
    "- Sıralı nitelikler söz konusu olduğunda, bir ilişkinin sadece gücü değil aynı zamanda yönünü de gösteren olumsallık katsayıları yerine sıra korelasyonları kullanılabilir\n",
    "- Bir gözlemin sıralaması, gözlemleri azalan bir şekilde sıraladıktan sonra örneklem içindeki konumuna karşılık gelir; yani en büyük gözlem 1. sıraya, ikinci en büyük gözlem 2. sıraya vb. sahiptir."
   ]
  },
  {
   "cell_type": "markdown",
   "id": "b8a51baf-7bc4-48c0-8783-1b37e63ef292",
   "metadata": {},
   "source": [
    "**Spearman’s ρ** : (𝑥1 , 𝑦1 ), (𝑥2 , 𝑦2 ), … , (𝑥𝑛 , 𝑦𝑛 ) (𝑛 ∈ ℕ)  gözlem çiftleri olmak üzere (𝑟𝑥1 , 𝑟𝑦1 ), (𝑟𝑥2 , 𝑟𝑦2 ), ... , (𝑟𝑥𝑛 , 𝑟𝑦𝑛 ) ranklere sahip gözlem çiftleri olsun. Bu durumda ρ:"
   ]
  },
  {
   "cell_type": "markdown",
   "id": "996d8a68-efe2-4b96-9aff-9a98e2ea907c",
   "metadata": {},
   "source": [
    "![image](figure7.png)\n",
    "\n",
    "mrx ve mry ilgili ortalama ranklerdir.\n",
    "\n",
    "![image](figure8.png)\n",
    "\n",
    "- Spearman'ın ρ değeri [-1; 1] aralığında değerler alır; burada 1 mükemmel monoton artan ilişkiyi ve -1 mükemmel monoton azalan ilişkiyi temsil eder."
   ]
  },
  {
   "cell_type": "markdown",
   "id": "b6b60bce-6360-4964-abfb-ab3f37a11051",
   "metadata": {},
   "source": [
    "- Bir değer birkaç kez (en az iki kez) gözlemlenmişse buna binding denir. Binding yoksa, Spearman'ın ρ'sinin hesaplanması basitleşir ve aşağıdaki gibi olur.\n",
    "\n",
    "![image](figure9.png)\n",
    "\n",
    "- Spearman'ın ρ değerinin yanı sıra, Kendall'ın τ değeri de sıkça uygulanan bir sıra korelasyon katsayısıdır. Uyumlu ve uyumsuz gözlem çiftlerinin sayısını karşılaştırır. Sonuç [-1; 1] aralığındadır. 1 değeri, her iki değişkenin de tam olarak aynı sıraya sahip olduğunu ve -1 ise mükemmel ters sırada olduklarını gösterir. Kendall'ın τ değeri, küçük örneklemler veya eşit olmayan ölçeklere sahip puanlar söz konusu olduğunda Spearman'ın ρ değerinden daha uygundur.\n",
    "\n",
    "- Sıralama korelasyonları metrik değişkenler söz konusu olduğunda da çok kullanışlıdır ve monoton ilişkilerin belirlenmesine yardımcı olabilir.\n"
   ]
  },
  {
   "cell_type": "code",
   "execution_count": 4,
   "id": "3f77ac62-ebcf-42dc-98e7-842b281a597f",
   "metadata": {},
   "outputs": [
    {
     "data": {
      "text/plain": [
       "SignificanceResult(statistic=0.33799283541334685, pvalue=7.934328090032931e-15)"
      ]
     },
     "execution_count": 4,
     "metadata": {},
     "output_type": "execute_result"
    }
   ],
   "source": [
    "from scipy import stats\n",
    "stats.spearmanr(icu[\"SAPS II\"], icu.LOS)"
   ]
  },
  {
   "cell_type": "code",
   "execution_count": 5,
   "id": "af344f93-4080-4bb0-84ea-835a780ef0c1",
   "metadata": {},
   "outputs": [
    {
     "data": {
      "text/plain": [
       "SignificanceResult(statistic=0.25189172614487776, pvalue=2.6516692857781672e-14)"
      ]
     },
     "execution_count": 5,
     "metadata": {},
     "output_type": "execute_result"
    }
   ],
   "source": [
    "stats.kendalltau(icu[\"SAPS II\"], icu.LOS)"
   ]
  },
  {
   "cell_type": "markdown",
   "id": "b53276fe-c209-4fe5-a048-196b0d1cb84b",
   "metadata": {},
   "source": [
    "Beklendiği üzere, pozitif bir ilişki vardır. SAPS II skoru yüksek olan hastalar daha ağır hastadır ve bu nedenle YBÜ'de daha uzun süre kalmaları gerekir. Bunun tersine, SAPS II değeri çok yüksek olan hastaların ölme olasılığının da yüksek olduğu, dolayısıyla YBÜ'ye kabul edildikten hemen sonra ölebilecekleri gerçeğidir Bunun gerçekten doğru olup olmadığını kontrol etmek için gözlemlenen değerler bir dağılım grafiğinde gösterilir."
   ]
  },
  {
   "cell_type": "code",
   "execution_count": 7,
   "id": "1d386c43-39a8-442a-9bd2-e46c4ccec0b2",
   "metadata": {},
   "outputs": [
    {
     "data": {
      "text/plain": [
       "<Axes: xlabel='SAPS II', ylabel='LOS'>"
      ]
     },
     "execution_count": 7,
     "metadata": {},
     "output_type": "execute_result"
    },
    {
     "data": {
      "image/png": "[encoded data removed]",
      "text/plain": [
       "<Figure size 640x480 with 1 Axes>"
      ]
     },
     "metadata": {},
     "output_type": "display_data"
    }
   ],
   "source": [
    "sns.scatterplot(x=icu[\"SAPS II\"], y=icu.LOS)"
   ]
  },
  {
   "cell_type": "markdown",
   "id": "e1bda230-2912-4e3c-97a0-7a5fd77060cf",
   "metadata": {},
   "source": [
    "Gerçekten de, en yüksek SAPS II değerlerine sahip hastalar küçük bir LOS'a sahiptir ve oldukça hızlı bir şekilde ölmüşlerdir. Niteliklerin sıralı veya ayrık yapısı gözlemlerin üst üste binmesine yol açmaktadır. Nokta bulutunun yapısını daha iyi görselleştirmek için alfa harmanlama olarak adlandırılan bir yöntem kullanabiliriz; yani nihai renk orijinal renklerin bir kombinasyonundan ortaya çıkar."
   ]
  },
  {
   "cell_type": "code",
   "execution_count": 11,
   "id": "ab3d172f-d66f-470b-aa72-7744924b7899",
   "metadata": {},
   "outputs": [
    {
     "data": {
      "text/plain": [
       "<Axes: xlabel='SAPS II', ylabel='LOS'>"
      ]
     },
     "execution_count": 11,
     "metadata": {},
     "output_type": "execute_result"
    },
    {
     "data": {
      "image/png": "[encoded data removed]",
      "text/plain": [
       "<Figure size 640x480 with 1 Axes>"
      ]
     },
     "metadata": {},
     "output_type": "display_data"
    }
   ],
   "source": [
    "sns.scatterplot(x=icu[\"SAPS II\"], y=icu.LOS, alpha=0.25)"
   ]
  },
  {
   "cell_type": "markdown",
   "id": "3563fa9d-222d-44c5-b955-f62057309c16",
   "metadata": {},
   "source": [
    "Renk ne kadar koyu olursa gözlemler o kadar fazla örtüşür. Özetle, SAPS II skorlarının belirli bir aralığı için monoton artan bir bağlantı varsayabiliriz, ancak kesinlikle tüm aralık için değil. Bu nedenle, hesaplanan sıra korelasyonları dikkatle yorumlanmalıdır."
   ]
  },
  {
   "cell_type": "markdown",
   "id": "6e8bf972-d6ef-4ce9-91b0-4343e14a8db9",
   "metadata": {},
   "source": []
  },
  {
   "cell_type": "code",
   "execution_count": null,
   "id": "c255360d-3bb8-4a77-9ad3-4ecfcbac6685",
   "metadata": {},
   "outputs": [],
   "source": []
  }
 ],
 "metadata": {
  "kernelspec": {
   "display_name": "Python 3 (ipykernel)",
   "language": "python",
   "name": "python3"
  },
  "language_info": {
   "codemirror_mode": {
    "name": "ipython",
    "version": 3
   },
   "file_extension": ".py",
   "mimetype": "text/x-python",
   "name": "python",
   "nbconvert_exporter": "python",
   "pygments_lexer": "ipython3",
   "version": "3.12.4"
  }
 },
 "nbformat": 4,
 "nbformat_minor": 5
}
